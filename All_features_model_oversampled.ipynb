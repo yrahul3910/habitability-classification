{
  "nbformat": 4,
  "nbformat_minor": 0,
  "metadata": {
    "colab": {
      "name": "All features model.ipynb",
      "version": "0.3.2",
      "provenance": [],
      "collapsed_sections": []
    },
    "kernelspec": {
      "name": "python3",
      "display_name": "Python 3"
    },
    "accelerator": "GPU"
  },
  "cells": [
    {
      "metadata": {
        "id": "HD3W79xtxZeu",
        "colab_type": "code",
        "outputId": "d0fbbf45-1ce8-4f1f-ae8a-1af8a617fa32",
        "colab": {
          "base_uri": "https://localhost:8080/",
          "height": 126
        }
      },
      "cell_type": "code",
      "source": [
        "from google.colab import drive\n",
        "drive.mount('/content/gdrive', force_remount=True)\n",
        "root_dir = \"/content/gdrive/My Drive/\""
      ],
      "execution_count": 1,
      "outputs": [
        {
          "output_type": "stream",
          "text": [
            "Go to this URL in a browser: https://accounts.google.com/o/oauth2/auth?client_id=947318989803-6bn6qk8qdgf4n4g3pfee6491hc0brc4i.apps.googleusercontent.com&redirect_uri=urn%3Aietf%3Awg%3Aoauth%3A2.0%3Aoob&scope=email%20https%3A%2F%2Fwww.googleapis.com%2Fauth%2Fdocs.test%20https%3A%2F%2Fwww.googleapis.com%2Fauth%2Fdrive%20https%3A%2F%2Fwww.googleapis.com%2Fauth%2Fdrive.photos.readonly%20https%3A%2F%2Fwww.googleapis.com%2Fauth%2Fpeopleapi.readonly&response_type=code\n",
            "\n",
            "Enter your authorization code:\n",
            "··········\n",
            "Mounted at /content/gdrive\n"
          ],
          "name": "stdout"
        }
      ]
    },
    {
      "metadata": {
        "id": "G45O220Gx1qU",
        "colab_type": "code",
        "colab": {}
      },
      "cell_type": "code",
      "source": [
        "!cp gdrive/\"My Drive\"/dataset-rocky-all-feats.csv ./"
      ],
      "execution_count": 0,
      "outputs": []
    },
    {
      "metadata": {
        "id": "lJ7Zoi1eyMo-",
        "colab_type": "code",
        "colab": {}
      },
      "cell_type": "code",
      "source": [
        "from fastai import *\n",
        "from fastai.tabular import *"
      ],
      "execution_count": 0,
      "outputs": []
    },
    {
      "metadata": {
        "id": "Mzf_SPnvyn7i",
        "colab_type": "code",
        "colab": {}
      },
      "cell_type": "code",
      "source": [
        "from fastai.basics import *"
      ],
      "execution_count": 0,
      "outputs": []
    },
    {
      "metadata": {
        "id": "ixy4vnCHyPwr",
        "colab_type": "code",
        "colab": {}
      },
      "cell_type": "code",
      "source": [
        "df = pd.read_csv('dataset-rocky-all-feats.csv')"
      ],
      "execution_count": 0,
      "outputs": []
    },
    {
      "metadata": {
        "id": "EcgsQABjS-kv",
        "colab_type": "code",
        "colab": {}
      },
      "cell_type": "code",
      "source": [
        "def rebalance(frame, col='hab_lbl', factor=1):\n",
        "    max_size = frame[col].value_counts().max()\n",
        "    lst = [frame]\n",
        "    for class_index, group in frame.groupby(col):\n",
        "        lst.append(group.sample(int((max_size-len(group)) / factor), replace=True))\n",
        "    frame_new = pd.concat(lst)\n",
        "    \n",
        "    return frame_new"
      ],
      "execution_count": 0,
      "outputs": []
    },
    {
      "metadata": {
        "id": "jwP9nX37TbY8",
        "colab_type": "code",
        "colab": {}
      },
      "cell_type": "code",
      "source": [
        "df = rebalance(df)"
      ],
      "execution_count": 0,
      "outputs": []
    },
    {
      "metadata": {
        "id": "nucsoiASynDD",
        "colab_type": "code",
        "outputId": "aeb71670-f611-4504-d1b8-706904aa6dba",
        "colab": {
          "base_uri": "https://localhost:8080/",
          "height": 928
        }
      },
      "cell_type": "code",
      "source": [
        "df.info()"
      ],
      "execution_count": 10,
      "outputs": [
        {
          "output_type": "stream",
          "text": [
            "<class 'pandas.core.frame.DataFrame'>\n",
            "Int64Index: 4995 entries, 0 to 1692\n",
            "Data columns (total 46 columns):\n",
            "hab_lbl                      4995 non-null int64\n",
            "P. Zone Class                4995 non-null int64\n",
            "P. Mass Class                4995 non-null int64\n",
            "P. Composition Class         4995 non-null int64\n",
            "P. Atmosphere Class          4995 non-null int64\n",
            "P. Min Mass (EU)             4995 non-null float64\n",
            "P. Mass (EU)                 4995 non-null float64\n",
            "P. Radius (EU)               4995 non-null float64\n",
            "P. Density (EU)              4995 non-null float64\n",
            "P. Gravity (EU)              4995 non-null float64\n",
            "P. Esc Vel (EU)              4995 non-null float64\n",
            "P. SFlux Min (EU)            4995 non-null float64\n",
            "P. SFlux Mean (EU)           4995 non-null float64\n",
            "P. SFlux Max (EU)            4995 non-null float64\n",
            "P. Teq Min (K)               4995 non-null float64\n",
            "P. Teq Mean (K)              4995 non-null float64\n",
            "P. Teq Max (K)               4995 non-null float64\n",
            "P. Ts Min (K)                4995 non-null float64\n",
            "P. Ts Mean (K)               4995 non-null float64\n",
            "P. Ts Max (K)                4995 non-null float64\n",
            "P. Surf Press (EU)           4995 non-null float64\n",
            "P. Mag                       4995 non-null float64\n",
            "P. Appar Size (deg)          4995 non-null float64\n",
            "P. Period (days)             4995 non-null float64\n",
            "P. Sem Major Axis (AU)       4995 non-null float64\n",
            "P. Eccentricity              4995 non-null float64\n",
            "P. Mean Distance (AU)        4995 non-null float64\n",
            "P. Inclination (deg)         4995 non-null float64\n",
            "P. Omega (deg)               4995 non-null float64\n",
            "S. Mass (SU)                 4995 non-null float64\n",
            "S. Radius (SU)               4995 non-null float64\n",
            "S. Teff (K)                  4995 non-null float64\n",
            "S. Luminosity (SU)           4995 non-null float64\n",
            "S. [Fe/H]                    4995 non-null float64\n",
            "S. Age (Gyrs)                4995 non-null float64\n",
            "S. Appar Mag                 4995 non-null float64\n",
            "S. Mag from Planet           4995 non-null float64\n",
            "S. Size from Planet (deg)    4995 non-null float64\n",
            "S. Hab Zone Min (AU)         4995 non-null float64\n",
            "S. Hab Zone Max (AU)         4995 non-null float64\n",
            "P. HZD                       4995 non-null float64\n",
            "P. HZC                       4995 non-null float64\n",
            "P. HZA                       4995 non-null float64\n",
            "P. HZI                       4995 non-null float64\n",
            "P. ESI                       4995 non-null float64\n",
            "P. Habitable                 4995 non-null int64\n",
            "dtypes: float64(40), int64(6)\n",
            "memory usage: 1.8 MB\n"
          ],
          "name": "stdout"
        }
      ]
    },
    {
      "metadata": {
        "id": "KU8b9OhX-A6p",
        "colab_type": "code",
        "colab": {}
      },
      "cell_type": "code",
      "source": [
        "df = df.drop('P. Habitable', axis=1)"
      ],
      "execution_count": 0,
      "outputs": []
    },
    {
      "metadata": {
        "id": "YcSOXMtVzDk-",
        "colab_type": "code",
        "outputId": "f0d2a757-c19b-48aa-ba19-8bebd7d7d104",
        "colab": {
          "base_uri": "https://localhost:8080/",
          "height": 325
        }
      },
      "cell_type": "code",
      "source": [
        "df.head()"
      ],
      "execution_count": 12,
      "outputs": [
        {
          "output_type": "execute_result",
          "data": {
            "text/html": [
              "<div>\n",
              "<style scoped>\n",
              "    .dataframe tbody tr th:only-of-type {\n",
              "        vertical-align: middle;\n",
              "    }\n",
              "\n",
              "    .dataframe tbody tr th {\n",
              "        vertical-align: top;\n",
              "    }\n",
              "\n",
              "    .dataframe thead th {\n",
              "        text-align: right;\n",
              "    }\n",
              "</style>\n",
              "<table border=\"1\" class=\"dataframe\">\n",
              "  <thead>\n",
              "    <tr style=\"text-align: right;\">\n",
              "      <th></th>\n",
              "      <th>hab_lbl</th>\n",
              "      <th>P. Zone Class</th>\n",
              "      <th>P. Mass Class</th>\n",
              "      <th>P. Composition Class</th>\n",
              "      <th>P. Atmosphere Class</th>\n",
              "      <th>P. Min Mass (EU)</th>\n",
              "      <th>P. Mass (EU)</th>\n",
              "      <th>P. Radius (EU)</th>\n",
              "      <th>P. Density (EU)</th>\n",
              "      <th>P. Gravity (EU)</th>\n",
              "      <th>...</th>\n",
              "      <th>S. Appar Mag</th>\n",
              "      <th>S. Mag from Planet</th>\n",
              "      <th>S. Size from Planet (deg)</th>\n",
              "      <th>S. Hab Zone Min (AU)</th>\n",
              "      <th>S. Hab Zone Max (AU)</th>\n",
              "      <th>P. HZD</th>\n",
              "      <th>P. HZC</th>\n",
              "      <th>P. HZA</th>\n",
              "      <th>P. HZI</th>\n",
              "      <th>P. ESI</th>\n",
              "    </tr>\n",
              "  </thead>\n",
              "  <tbody>\n",
              "    <tr>\n",
              "      <th>0</th>\n",
              "      <td>0</td>\n",
              "      <td>2</td>\n",
              "      <td>2</td>\n",
              "      <td>2</td>\n",
              "      <td>2</td>\n",
              "      <td>18.217914</td>\n",
              "      <td>8.10</td>\n",
              "      <td>1.99</td>\n",
              "      <td>1.03</td>\n",
              "      <td>2.05</td>\n",
              "      <td>...</td>\n",
              "      <td>6.0</td>\n",
              "      <td>-35.2</td>\n",
              "      <td>33.0178</td>\n",
              "      <td>0.591</td>\n",
              "      <td>1.419</td>\n",
              "      <td>-2.39</td>\n",
              "      <td>0.06</td>\n",
              "      <td>-0.81</td>\n",
              "      <td>0.28</td>\n",
              "      <td>0.26</td>\n",
              "    </tr>\n",
              "    <tr>\n",
              "      <th>1</th>\n",
              "      <td>0</td>\n",
              "      <td>2</td>\n",
              "      <td>2</td>\n",
              "      <td>3</td>\n",
              "      <td>2</td>\n",
              "      <td>5.090000</td>\n",
              "      <td>5.09</td>\n",
              "      <td>1.66</td>\n",
              "      <td>1.10</td>\n",
              "      <td>1.84</td>\n",
              "      <td>...</td>\n",
              "      <td>4.7</td>\n",
              "      <td>-32.9</td>\n",
              "      <td>10.0643</td>\n",
              "      <td>0.656</td>\n",
              "      <td>1.556</td>\n",
              "      <td>-2.35</td>\n",
              "      <td>-0.15</td>\n",
              "      <td>-0.69</td>\n",
              "      <td>0.29</td>\n",
              "      <td>0.27</td>\n",
              "    </tr>\n",
              "    <tr>\n",
              "      <th>2</th>\n",
              "      <td>0</td>\n",
              "      <td>2</td>\n",
              "      <td>4</td>\n",
              "      <td>3</td>\n",
              "      <td>3</td>\n",
              "      <td>1.140000</td>\n",
              "      <td>1.14</td>\n",
              "      <td>1.09</td>\n",
              "      <td>0.89</td>\n",
              "      <td>0.97</td>\n",
              "      <td>...</td>\n",
              "      <td>1.3</td>\n",
              "      <td>-33.0</td>\n",
              "      <td>11.5197</td>\n",
              "      <td>0.545</td>\n",
              "      <td>1.306</td>\n",
              "      <td>-2.33</td>\n",
              "      <td>-0.17</td>\n",
              "      <td>-1.12</td>\n",
              "      <td>0.28</td>\n",
              "      <td>0.30</td>\n",
              "    </tr>\n",
              "    <tr>\n",
              "      <th>3</th>\n",
              "      <td>0</td>\n",
              "      <td>2</td>\n",
              "      <td>2</td>\n",
              "      <td>3</td>\n",
              "      <td>2</td>\n",
              "      <td>11.770000</td>\n",
              "      <td>16.31</td>\n",
              "      <td>2.23</td>\n",
              "      <td>1.47</td>\n",
              "      <td>3.28</td>\n",
              "      <td>...</td>\n",
              "      <td>11.0</td>\n",
              "      <td>-29.7</td>\n",
              "      <td>2.0522</td>\n",
              "      <td>0.694</td>\n",
              "      <td>1.636</td>\n",
              "      <td>-1.96</td>\n",
              "      <td>-0.13</td>\n",
              "      <td>0.61</td>\n",
              "      <td>0.33</td>\n",
              "      <td>0.33</td>\n",
              "    </tr>\n",
              "    <tr>\n",
              "      <th>4</th>\n",
              "      <td>0</td>\n",
              "      <td>2</td>\n",
              "      <td>2</td>\n",
              "      <td>3</td>\n",
              "      <td>2</td>\n",
              "      <td>8.580000</td>\n",
              "      <td>8.58</td>\n",
              "      <td>1.91</td>\n",
              "      <td>1.23</td>\n",
              "      <td>2.35</td>\n",
              "      <td>...</td>\n",
              "      <td>6.7</td>\n",
              "      <td>-33.4</td>\n",
              "      <td>20.5046</td>\n",
              "      <td>0.735</td>\n",
              "      <td>1.832</td>\n",
              "      <td>-2.26</td>\n",
              "      <td>-0.14</td>\n",
              "      <td>-0.54</td>\n",
              "      <td>0.30</td>\n",
              "      <td>0.26</td>\n",
              "    </tr>\n",
              "  </tbody>\n",
              "</table>\n",
              "<p>5 rows × 45 columns</p>\n",
              "</div>"
            ],
            "text/plain": [
              "   hab_lbl  P. Zone Class  P. Mass Class  P. Composition Class  \\\n",
              "0        0              2              2                     2   \n",
              "1        0              2              2                     3   \n",
              "2        0              2              4                     3   \n",
              "3        0              2              2                     3   \n",
              "4        0              2              2                     3   \n",
              "\n",
              "   P. Atmosphere Class  P. Min Mass (EU)  P. Mass (EU)  P. Radius (EU)  \\\n",
              "0                    2         18.217914          8.10            1.99   \n",
              "1                    2          5.090000          5.09            1.66   \n",
              "2                    3          1.140000          1.14            1.09   \n",
              "3                    2         11.770000         16.31            2.23   \n",
              "4                    2          8.580000          8.58            1.91   \n",
              "\n",
              "   P. Density (EU)  P. Gravity (EU)   ...    S. Appar Mag  S. Mag from Planet  \\\n",
              "0             1.03             2.05   ...             6.0               -35.2   \n",
              "1             1.10             1.84   ...             4.7               -32.9   \n",
              "2             0.89             0.97   ...             1.3               -33.0   \n",
              "3             1.47             3.28   ...            11.0               -29.7   \n",
              "4             1.23             2.35   ...             6.7               -33.4   \n",
              "\n",
              "   S. Size from Planet (deg)  S. Hab Zone Min (AU)  S. Hab Zone Max (AU)  \\\n",
              "0                    33.0178                 0.591                 1.419   \n",
              "1                    10.0643                 0.656                 1.556   \n",
              "2                    11.5197                 0.545                 1.306   \n",
              "3                     2.0522                 0.694                 1.636   \n",
              "4                    20.5046                 0.735                 1.832   \n",
              "\n",
              "   P. HZD  P. HZC  P. HZA  P. HZI  P. ESI  \n",
              "0   -2.39    0.06   -0.81    0.28    0.26  \n",
              "1   -2.35   -0.15   -0.69    0.29    0.27  \n",
              "2   -2.33   -0.17   -1.12    0.28    0.30  \n",
              "3   -1.96   -0.13    0.61    0.33    0.33  \n",
              "4   -2.26   -0.14   -0.54    0.30    0.26  \n",
              "\n",
              "[5 rows x 45 columns]"
            ]
          },
          "metadata": {
            "tags": []
          },
          "execution_count": 12
        }
      ]
    },
    {
      "metadata": {
        "id": "lhbheYxtzciR",
        "colab_type": "code",
        "colab": {}
      },
      "cell_type": "code",
      "source": [
        "cat_vars = df.columns[np.where(df.dtypes == 'int64')]"
      ],
      "execution_count": 0,
      "outputs": []
    },
    {
      "metadata": {
        "id": "hZRILmuL0JmB",
        "colab_type": "code",
        "colab": {}
      },
      "cell_type": "code",
      "source": [
        "cat_vars = cat_vars.tolist()\n",
        "cat_vars.remove('hab_lbl')"
      ],
      "execution_count": 0,
      "outputs": []
    },
    {
      "metadata": {
        "id": "qsz_dZ7C0Sfx",
        "colab_type": "code",
        "outputId": "6bb3f6ec-a15e-451e-bf86-36abe27c2fe9",
        "colab": {
          "base_uri": "https://localhost:8080/",
          "height": 88
        }
      },
      "cell_type": "code",
      "source": [
        "cat_vars"
      ],
      "execution_count": 15,
      "outputs": [
        {
          "output_type": "execute_result",
          "data": {
            "text/plain": [
              "['P. Zone Class',\n",
              " 'P. Mass Class',\n",
              " 'P. Composition Class',\n",
              " 'P. Atmosphere Class']"
            ]
          },
          "metadata": {
            "tags": []
          },
          "execution_count": 15
        }
      ]
    },
    {
      "metadata": {
        "id": "dsN1eq_I0fos",
        "colab_type": "code",
        "colab": {}
      },
      "cell_type": "code",
      "source": [
        "cont_vars = df.columns[np.where(df.dtypes == 'float64')]"
      ],
      "execution_count": 0,
      "outputs": []
    },
    {
      "metadata": {
        "id": "fBc55zA_0mu6",
        "colab_type": "code",
        "colab": {}
      },
      "cell_type": "code",
      "source": [
        "cont_vars = cont_vars.tolist()"
      ],
      "execution_count": 0,
      "outputs": []
    },
    {
      "metadata": {
        "id": "76JTEuzO0o_Y",
        "colab_type": "code",
        "outputId": "1c500bb2-25bb-4ef3-fc5a-0d6387f3d539",
        "colab": {
          "base_uri": "https://localhost:8080/",
          "height": 35
        }
      },
      "cell_type": "code",
      "source": [
        "len(cont_vars) + len(cat_vars)"
      ],
      "execution_count": 18,
      "outputs": [
        {
          "output_type": "execute_result",
          "data": {
            "text/plain": [
              "44"
            ]
          },
          "metadata": {
            "tags": []
          },
          "execution_count": 18
        }
      ]
    },
    {
      "metadata": {
        "id": "hxyfrKy5yy3D",
        "colab_type": "code",
        "colab": {}
      },
      "cell_type": "code",
      "source": [
        "procs = [Normalize, Categorify]"
      ],
      "execution_count": 0,
      "outputs": []
    },
    {
      "metadata": {
        "id": "rQi8-sq-y2cx",
        "colab_type": "code",
        "colab": {}
      },
      "cell_type": "code",
      "source": [
        "data = (TabularList.from_df(df, cat_names=cat_vars, cont_names=cont_vars, procs=procs)\n",
        "                   .random_split_by_pct(0.2)\n",
        "                   .label_from_df(cols='hab_lbl')\n",
        "                   .databunch())"
      ],
      "execution_count": 0,
      "outputs": []
    },
    {
      "metadata": {
        "id": "4VzWgfFb6km2",
        "colab_type": "code",
        "outputId": "905a31da-dde5-455c-cfe5-4595fd124ad2",
        "colab": {
          "base_uri": "https://localhost:8080/",
          "height": 341
        }
      },
      "cell_type": "code",
      "source": [
        "data"
      ],
      "execution_count": 21,
      "outputs": [
        {
          "output_type": "execute_result",
          "data": {
            "text/plain": [
              "TabularDataBunch;\n",
              "\n",
              "Train: LabelList (3996 items)\n",
              "x: TabularList\n",
              "P. Zone Class 2; P. Mass Class 2; P. Composition Class 2; P. Atmosphere Class 2; P. Min Mass (EU) 0.5684; P. Mass (EU) -0.0078; P. Radius (EU) 0.7431; P. Density (EU) -0.0645; P. Gravity (EU) -0.0225; P. Esc Vel (EU) 0.2006; P. SFlux Min (EU) 0.3511; P. SFlux Mean (EU) 0.3730; P. SFlux Max (EU) 0.3962; P. Teq Min (K) 3.5885; P. Teq Mean (K) 3.6541; P. Teq Max (K) 3.7125; P. Ts Min (K) 3.5977; P. Ts Mean (K) 3.6632; P. Ts Max (K) 3.7216; P. Surf Press (EU) -0.0189; P. Mag -2.7440; P. Appar Size (deg) 0.7399; P. Period (days) -0.3533; P. Sem Major Axis (AU) -0.7847; P. Eccentricity -0.2158; P. Mean Distance (AU) -0.7722; P. Inclination (deg) 0.4227; P. Omega (deg) 1.4702; S. Mass (SU) 0.9595; S. Radius (SU) 0.9884; S. Teff (K) 0.7251; S. Luminosity (SU) 0.2368; S. [Fe/H] 2.3522; S. Age (Gyrs) 3.6751; S. Appar Mag -2.3480; S. Mag from Planet -2.6045; S. Size from Planet (deg) 5.9465; S. Hab Zone Min (AU) 0.7532; S. Hab Zone Max (AU) 0.7757; P. HZD -0.7013; P. HZC 1.4961; P. HZA -1.1207; P. HZI -1.1788; P. ESI -1.5670; ,P. Zone Class 2; P. Mass Class 2; P. Composition Class 3; P. Atmosphere Class 2; P. Min Mass (EU) -0.2811; P. Mass (EU) -0.1027; P. Radius (EU) -0.0078; P. Density (EU) -0.0431; P. Gravity (EU) -0.0538; P. Esc Vel (EU) -0.1077; P. SFlux Min (EU) 0.0056; P. SFlux Mean (EU) 0.0157; P. SFlux Max (EU) 0.0293; P. Teq Min (K) 1.5157; P. Teq Mean (K) 1.6617; P. Teq Max (K) 1.8362; P. Ts Min (K) 1.5180; P. Ts Mean (K) 1.6638; P. Ts Max (K) 1.8385; P. Surf Press (EU) -0.0194; P. Mag -1.7752; P. Appar Size (deg) -0.0020; P. Period (days) -0.3347; P. Sem Major Axis (AU) -0.6581; P. Eccentricity 0.8459; P. Mean Distance (AU) -0.6617; P. Inclination (deg) -1.1301; P. Omega (deg) 0.7441; S. Mass (SU) 1.0887; S. Radius (SU) 0.9884; S. Teff (K) 1.0198; S. Luminosity (SU) 0.4457; S. [Fe/H] 0.8111; S. Age (Gyrs) 2.9556; S. Appar Mag -2.8029; S. Mag from Planet -1.7589; S. Size from Planet (deg) 1.3398; S. Hab Zone Min (AU) 0.9584; S. Hab Zone Max (AU) 0.9620; P. HZD -0.6825; P. HZC -0.0043; P. HZA -0.9940; P. HZI -1.1108; P. ESI -1.5216; ,P. Zone Class 2; P. Mass Class 4; P. Composition Class 3; P. Atmosphere Class 3; P. Min Mass (EU) -0.5367; P. Mass (EU) -0.2272; P. Radius (EU) -1.3049; P. Density (EU) -0.1075; P. Gravity (EU) -0.1832; P. Esc Vel (EU) -0.9297; P. SFlux Min (EU) 0.0179; P. SFlux Mean (EU) 0.0177; P. SFlux Max (EU) 0.0174; P. Teq Min (K) 1.7066; P. Teq Mean (K) 1.6985; P. Teq Max (K) 1.6815; P. Ts Min (K) 1.6894; P. Ts Mean (K) 1.6811; P. Ts Max (K) 1.6640; P. Surf Press (EU) -0.0203; P. Mag -1.4535; P. Appar Size (deg) -1.3182; P. Period (days) -0.3399; P. Sem Major Axis (AU) -0.6952; P. Eccentricity -0.5697; P. Mean Distance (AU) -0.6985; P. Inclination (deg) -1.1301; P. Omega (deg) -0.4289; S. Mass (SU) 1.0241; S. Radius (SU) 0.7490; S. Teff (K) 0.7409; S. Luminosity (SU) 0.1229; S. [Fe/H] 0.2427; S. Age (Gyrs) 0.1856; S. Appar Mag -3.9925; S. Mag from Planet -1.7956; S. Size from Planet (deg) 1.6319; S. Hab Zone Min (AU) 0.6081; S. Hab Zone Max (AU) 0.6220; P. HZD -0.6731; P. HZC -0.1472; P. HZA -1.4478; P. HZI -1.1788; P. ESI -1.3852; ,P. Zone Class 2; P. Mass Class 2; P. Composition Class 3; P. Atmosphere Class 2; P. Min Mass (EU) 0.1512; P. Mass (EU) 0.2511; P. Radius (EU) 1.2893; P. Density (EU) 0.0705; P. Gravity (EU) 0.1605; P. Esc Vel (EU) 0.9883; P. SFlux Min (EU) -0.0311; P. SFlux Mean (EU) -0.0313; P. SFlux Max (EU) -0.0316; P. Teq Min (K) 0.1722; P. Teq Mean (K) 0.1579; P. Teq Max (K) 0.1364; P. Ts Min (K) 0.1897; P. Ts Mean (K) 0.1755; P. Ts Max (K) 0.1540; P. Surf Press (EU) -0.0158; P. Mag -0.8173; P. Appar Size (deg) 1.2904; P. Period (days) -0.1343; P. Sem Major Axis (AU) 0.0357; P. Eccentricity -0.5697; P. Mean Distance (AU) 0.0379; P. Inclination (deg) 0.3653; P. Omega (deg) -0.4289; S. Mass (SU) 1.1210; S. Radius (SU) 0.9585; S. Teff (K) 1.2265; S. Luminosity (SU) 0.5918; S. [Fe/H] 0.1368; S. Age (Gyrs) -0.3055; S. Appar Mag -0.5986; S. Mag from Planet -0.5824; S. Size from Planet (deg) -0.2683; S. Hab Zone Min (AU) 1.0783; S. Hab Zone Max (AU) 1.0708; P. HZD -0.4995; P. HZC 0.1386; P. HZA 0.3777; P. HZI -0.8388; P. ESI -1.2489; ,P. Zone Class 2; P. Mass Class 2; P. Composition Class 3; P. Atmosphere Class 2; P. Min Mass (EU) -0.0552; P. Mass (EU) 0.0074; P. Radius (EU) 0.5611; P. Density (EU) -0.0032; P. Gravity (EU) 0.0221; P. Esc Vel (EU) 0.3147; P. SFlux Min (EU) 0.0425; P. SFlux Mean (EU) 0.0423; P. SFlux Max (EU) 0.0420; P. Teq Min (K) 2.0015; P. Teq Mean (K) 1.9946; P. Teq Max (K) 1.9785; P. Ts Min (K) 2.0116; P. Ts Mean (K) 2.0047; P. Ts Max (K) 1.9885; P. Surf Press (EU) -0.0184; P. Mag -2.0536; P. Appar Size (deg) 0.5604; P. Period (days) -0.3365; P. Sem Major Axis (AU) -0.6850; P. Eccentricity -0.5697; P. Mean Distance (AU) -0.6985; P. Inclination (deg) -1.1301; P. Omega (deg) -0.4289; S. Mass (SU) 0.2811; S. Radius (SU) 3.0838; S. Teff (K) -0.0419; S. Luminosity (SU) 0.5679; S. [Fe/H] 0.1850; S. Age (Gyrs) 0.3096; S. Appar Mag -2.1031; S. Mag from Planet -1.9427; S. Size from Planet (deg) 3.4351; S. Hab Zone Min (AU) 1.2077; S. Hab Zone Max (AU) 1.3374; P. HZD -0.6403; P. HZC 0.0672; P. HZA -0.8358; P. HZI -1.0428; P. ESI -1.5670; \n",
              "y: CategoryList\n",
              "0,0,0,0,0\n",
              "Path: .;\n",
              "\n",
              "Valid: LabelList (999 items)\n",
              "x: TabularList\n",
              "P. Zone Class 2; P. Mass Class 4; P. Composition Class 3; P. Atmosphere Class 2; P. Min Mass (EU) 0.5684; P. Mass (EU) -0.2162; P. Radius (EU) -1.1001; P. Density (EU) -0.0983; P. Gravity (EU) -0.1669; P. Esc Vel (EU) -0.8155; P. SFlux Min (EU) -0.0265; P. SFlux Mean (EU) -0.0266; P. SFlux Max (EU) -0.0270; P. Teq Min (K) 0.5809; P. Teq Mean (K) 0.5683; P. Teq Max (K) 0.5480; P. Ts Min (K) 0.5657; P. Ts Mean (K) 0.5530; P. Ts Max (K) 0.5326; P. Surf Press (EU) -0.0202; P. Mag -0.7341; P. Appar Size (deg) -1.1148; P. Period (days) -0.2954; P. Sem Major Axis (AU) -0.5018; P. Eccentricity -0.5697; P. Mean Distance (AU) -0.5144; P. Inclination (deg) -1.1301; P. Omega (deg) -0.4289; S. Mass (SU) 0.6364; S. Radius (SU) 0.5095; S. Teff (K) 0.6406; S. Luminosity (SU) -0.0396; S. [Fe/H] 0.2427; S. Age (Gyrs) 0.4721; S. Appar Mag 0.6610; S. Mag from Planet -0.9868; S. Size from Planet (deg) 0.2150; S. Hab Zone Min (AU) 0.3840; S. Hab Zone Max (AU) 0.3976; P. HZD -0.5840; P. HZC -0.1472; P. HZA -1.1840; P. HZI -1.0428; P. ESI -1.2943; ,P. Zone Class 2; P. Mass Class 2; P. Composition Class 3; P. Atmosphere Class 2; P. Min Mass (EU) 0.5684; P. Mass (EU) 0.4069; P. Radius (EU) 1.6078; P. Density (EU) 0.1073; P. Gravity (EU) 0.2334; P. Esc Vel (EU) 1.3080; P. SFlux Min (EU) -0.0011; P. SFlux Mean (EU) -0.0013; P. SFlux Max (EU) -0.0016; P. Teq Min (K) 1.3936; P. Teq Mean (K) 1.3842; P. Teq Max (K) 1.3663; P. Ts Min (K) 1.4162; P. Ts Mean (K) 1.4069; P. Ts Max (K) 1.3890; P. Surf Press (EU) -0.0139; P. Mag -1.8873; P. Appar Size (deg) 1.6134; P. Period (days) -0.3026; P. Sem Major Axis (AU) -0.4908; P. Eccentricity -0.5697; P. Mean Distance (AU) -0.4776; P. Inclination (deg) -1.1301; P. Omega (deg) -0.4289; S. Mass (SU) 1.7025; S. Radius (SU) 2.0361; S. Teff (K) 1.3408; S. Luminosity (SU) 1.8294; S. [Fe/H] 0.2427; S. Age (Gyrs) 0.2922; S. Appar Mag 0.2062; S. Mag from Planet -1.6118; S. Size from Planet (deg) 0.7547; S. Hab Zone Min (AU) 2.0471; S. Hab Zone Max (AU) 2.0432; P. HZD -0.6778; P. HZC 0.2100; P. HZA -0.1182; P. HZI -1.0428; P. ESI -1.6579; ,P. Zone Class 3; P. Mass Class 4; P. Composition Class 3; P. Atmosphere Class 2; P. Min Mass (EU) -0.3328; P. Mass (EU) -0.1279; P. Radius (EU) -0.1671; P. Density (EU) -0.0523; P. Gravity (EU) -0.0746; P. Esc Vel (EU) -0.2333; P. SFlux Min (EU) -0.0333; P. SFlux Mean (EU) -0.0335; P. SFlux Max (EU) -0.0338; P. Teq Min (K) -0.4299; P. Teq Mean (K) -0.4282; P. Teq Max (K) -0.4313; P. Ts Min (K) -0.4322; P. Ts Mean (K) -0.4305; P. Ts Max (K) -0.4336; P. Surf Press (EU) -0.0196; P. Mag 0.3431; P. Appar Size (deg) -0.1695; P. Period (days) 0.5418; P. Sem Major Axis (AU) 1.1667; P. Eccentricity 0.0201; P. Mean Distance (AU) 1.1793; P. Inclination (deg) 0.5755; P. Omega (deg) 3.0732; S. Mass (SU) 0.5395; S. Radius (SU) 0.5394; S. Teff (K) 0.8553; S. Luminosity (SU) 0.0787; S. [Fe/H] -1.7897; S. Age (Gyrs) 1.1220; S. Appar Mag -3.2228; S. Mag from Planet 0.3367; S. Size from Planet (deg) -0.5263; S. Hab Zone Min (AU) 0.5355; S. Hab Zone Max (AU) 0.5404; P. HZD -0.0113; P. HZC -0.0043; P. HZA -0.0971; P. HZI 0.3849; P. ESI 0.7963; ,P. Zone Class 3; P. Mass Class 4; P. Composition Class 3; P. Atmosphere Class 2; P. Min Mass (EU) -0.2998; P. Mass (EU) -0.1118; P. Radius (EU) -0.0533; P. Density (EU) -0.0461; P. Gravity (EU) -0.0612; P. Esc Vel (EU) -0.1533; P. SFlux Min (EU) -0.0335; P. SFlux Mean (EU) -0.0336; P. SFlux Max (EU) -0.0339; P. Teq Min (K) -0.6687; P. Teq Mean (K) -0.6375; P. Teq Max (K) -0.5898; P. Ts Min (K) -0.6697; P. Ts Mean (K) -0.6383; P. Ts Max (K) -0.5906; P. Surf Press (EU) -0.0195; P. Mag 0.8022; P. Appar Size (deg) -0.0618; P. Period (days) -0.0972; P. Sem Major Axis (AU) -0.2297; P. Eccentricity 1.9076; P. Mean Distance (AU) -0.2567; P. Inclination (deg) 0.5455; P. Omega (deg) 0.4693; S. Mass (SU) -1.0758; S. Radius (SU) -0.9573; S. Teff (K) -0.7227; S. Luminosity (SU) -0.5050; S. [Fe/H] -3.2827; S. Age (Gyrs) 2.3985; S. Appar Mag -1.3683; S. Mag from Planet 0.8514; S. Size from Planet (deg) -0.4913; S. Hab Zone Min (AU) -0.8309; S. Hab Zone Max (AU) -0.8387; P. HZD 0.4769; P. HZC -0.0043; P. HZA 0.3355; P. HZI 1.2008; P. ESI 0.2963; ,P. Zone Class 3; P. Mass Class 4; P. Composition Class 3; P. Atmosphere Class 2; P. Min Mass (EU) -0.5198; P. Mass (EU) -0.2190; P. Radius (EU) -1.1684; P. Density (EU) -0.1014; P. Gravity (EU) -0.1713; P. Esc Vel (EU) -0.8498; P. SFlux Min (EU) -0.0334; P. SFlux Mean (EU) -0.0335; P. SFlux Max (EU) -0.0337; P. Teq Min (K) -0.4576; P. Teq Mean (K) -0.4347; P. Teq Max (K) -0.4087; P. Ts Min (K) -0.4745; P. Ts Mean (K) -0.4516; P. Ts Max (K) -0.4259; P. Surf Press (EU) -0.0203; P. Mag 0.6034; P. Appar Size (deg) -1.1627; P. Period (days) -0.3045; P. Sem Major Axis (AU) -0.6603; P. Eccentricity 0.8459; P. Mean Distance (AU) -0.6617; P. Inclination (deg) 0.5755; P. Omega (deg) -0.4289; S. Mass (SU) -1.4311; S. Radius (SU) -1.2267; S. Teff (K) -1.0376; S. Luminosity (SU) -0.5159; S. [Fe/H] 0.7629; S. Age (Gyrs) 0.6578; S. Appar Mag -0.5286; S. Mag from Planet 0.3367; S. Size from Planet (deg) -0.2531; S. Hab Zone Min (AU) -0.9571; S. Hab Zone Max (AU) -0.9774; P. HZD -0.0442; P. HZC -0.1472; P. HZA -0.7513; P. HZI 0.1810; P. ESI 1.1599; \n",
              "y: CategoryList\n",
              "0,0,2,1,2\n",
              "Path: .;\n",
              "\n",
              "Test: None"
            ]
          },
          "metadata": {
            "tags": []
          },
          "execution_count": 21
        }
      ]
    },
    {
      "metadata": {
        "id": "TUuQEapXCRVT",
        "colab_type": "code",
        "outputId": "036a5e1a-1e0a-427b-9a95-e84ef8ef3f9d",
        "colab": {
          "base_uri": "https://localhost:8080/",
          "height": 88
        }
      },
      "cell_type": "code",
      "source": [
        "data.cat_names"
      ],
      "execution_count": 22,
      "outputs": [
        {
          "output_type": "execute_result",
          "data": {
            "text/plain": [
              "['P. Zone Class',\n",
              " 'P. Mass Class',\n",
              " 'P. Composition Class',\n",
              " 'P. Atmosphere Class']"
            ]
          },
          "metadata": {
            "tags": []
          },
          "execution_count": 22
        }
      ]
    },
    {
      "metadata": {
        "id": "77VJQwROCipS",
        "colab_type": "code",
        "outputId": "c5fbdd8d-6d14-4a8b-8d7a-3ff17560e3ca",
        "colab": {
          "base_uri": "https://localhost:8080/",
          "height": 35
        }
      },
      "cell_type": "code",
      "source": [
        "data.classes"
      ],
      "execution_count": 23,
      "outputs": [
        {
          "output_type": "execute_result",
          "data": {
            "text/plain": [
              "[0, 1, 2]"
            ]
          },
          "metadata": {
            "tags": []
          },
          "execution_count": 23
        }
      ]
    },
    {
      "metadata": {
        "id": "BI6SOmHkUI8i",
        "colab_type": "code",
        "colab": {}
      },
      "cell_type": "code",
      "source": [
        "import fastai"
      ],
      "execution_count": 0,
      "outputs": []
    },
    {
      "metadata": {
        "id": "aX6C1FxO1PlK",
        "colab_type": "code",
        "colab": {}
      },
      "cell_type": "code",
      "source": [
        "# We want more than just L2, which is provided by fastai by default. So ps and \n",
        "# emb_drop adds dropout regularization\n",
        "learn = tabular_learner(data, layers=[1000,500], ps=[0.01,0.1], emb_drop=0.04, metrics=fastai.basics.accuracy)"
      ],
      "execution_count": 0,
      "outputs": []
    },
    {
      "metadata": {
        "id": "oiLvh4BF5URa",
        "colab_type": "code",
        "outputId": "4aa1b97b-10e6-49a1-ae24-5ef86ce0e2f5",
        "colab": {
          "base_uri": "https://localhost:8080/",
          "height": 392
        }
      },
      "cell_type": "code",
      "source": [
        "learn.model"
      ],
      "execution_count": 27,
      "outputs": [
        {
          "output_type": "execute_result",
          "data": {
            "text/plain": [
              "TabularModel(\n",
              "  (embeds): ModuleList(\n",
              "    (0): Embedding(5, 4)\n",
              "    (1): Embedding(7, 5)\n",
              "    (2): Embedding(3, 3)\n",
              "    (3): Embedding(5, 4)\n",
              "  )\n",
              "  (emb_drop): Dropout(p=0.04)\n",
              "  (bn_cont): BatchNorm1d(40, eps=1e-05, momentum=0.1, affine=True, track_running_stats=True)\n",
              "  (layers): Sequential(\n",
              "    (0): Linear(in_features=56, out_features=1000, bias=True)\n",
              "    (1): ReLU(inplace)\n",
              "    (2): BatchNorm1d(1000, eps=1e-05, momentum=0.1, affine=True, track_running_stats=True)\n",
              "    (3): Dropout(p=0.01)\n",
              "    (4): Linear(in_features=1000, out_features=500, bias=True)\n",
              "    (5): ReLU(inplace)\n",
              "    (6): BatchNorm1d(500, eps=1e-05, momentum=0.1, affine=True, track_running_stats=True)\n",
              "    (7): Dropout(p=0.1)\n",
              "    (8): Linear(in_features=500, out_features=3, bias=True)\n",
              "  )\n",
              ")"
            ]
          },
          "metadata": {
            "tags": []
          },
          "execution_count": 27
        }
      ]
    },
    {
      "metadata": {
        "id": "2A3kDRyo5WmB",
        "colab_type": "code",
        "outputId": "4ae9d44a-ccb6-4850-9bf4-ff3801ffe308",
        "colab": {
          "base_uri": "https://localhost:8080/",
          "height": 35
        }
      },
      "cell_type": "code",
      "source": [
        "learn.lr_find()"
      ],
      "execution_count": 28,
      "outputs": [
        {
          "output_type": "display_data",
          "data": {
            "text/html": [
              ""
            ],
            "text/plain": [
              "<IPython.core.display.HTML object>"
            ]
          },
          "metadata": {
            "tags": []
          }
        },
        {
          "output_type": "stream",
          "text": [
            "LR Finder is complete, type {learner_name}.recorder.plot() to see the graph.\n"
          ],
          "name": "stdout"
        }
      ]
    },
    {
      "metadata": {
        "id": "7CKWfi_x5gok",
        "colab_type": "code",
        "outputId": "4d3ba7dd-973b-427b-d1ec-7470e4d650e4",
        "colab": {
          "base_uri": "https://localhost:8080/",
          "height": 361
        }
      },
      "cell_type": "code",
      "source": [
        "learn.recorder.plot()"
      ],
      "execution_count": 29,
      "outputs": [
        {
          "output_type": "display_data",
          "data": {
            "image/png": "[encoded data removed]",
            "text/plain": [
              "<Figure size 576x396 with 1 Axes>"
            ]
          },
          "metadata": {
            "tags": []
          }
        }
      ]
    },
    {
      "metadata": {
        "id": "KSx04chH6Rl-",
        "colab_type": "code",
        "outputId": "19816c44-2e59-432e-f43e-f6a2601a6545",
        "colab": {
          "base_uri": "https://localhost:8080/",
          "height": 386
        }
      },
      "cell_type": "code",
      "source": [
        "learn.fit_one_cycle(10, 5e-3)"
      ],
      "execution_count": 30,
      "outputs": [
        {
          "output_type": "display_data",
          "data": {
            "text/html": [
              "Total time: 00:11 <p><table border=\"1\" class=\"dataframe\">\n",
              "  <thead>\n",
              "    <tr style=\"text-align: left;\">\n",
              "      <th>epoch</th>\n",
              "      <th>train_loss</th>\n",
              "      <th>valid_loss</th>\n",
              "      <th>accuracy</th>\n",
              "      <th>time</th>\n",
              "    </tr>\n",
              "  </thead>\n",
              "  <tbody>\n",
              "    <tr>\n",
              "      <td>1</td>\n",
              "      <td>0.141977</td>\n",
              "      <td>0.043355</td>\n",
              "      <td>0.995996</td>\n",
              "      <td>00:01</td>\n",
              "    </tr>\n",
              "    <tr>\n",
              "      <td>2</td>\n",
              "      <td>0.060391</td>\n",
              "      <td>0.031437</td>\n",
              "      <td>0.990991</td>\n",
              "      <td>00:01</td>\n",
              "    </tr>\n",
              "    <tr>\n",
              "      <td>3</td>\n",
              "      <td>0.058165</td>\n",
              "      <td>0.020368</td>\n",
              "      <td>0.990991</td>\n",
              "      <td>00:01</td>\n",
              "    </tr>\n",
              "    <tr>\n",
              "      <td>4</td>\n",
              "      <td>0.020622</td>\n",
              "      <td>0.024046</td>\n",
              "      <td>0.997998</td>\n",
              "      <td>00:01</td>\n",
              "    </tr>\n",
              "    <tr>\n",
              "      <td>5</td>\n",
              "      <td>0.007359</td>\n",
              "      <td>0.005284</td>\n",
              "      <td>0.998999</td>\n",
              "      <td>00:01</td>\n",
              "    </tr>\n",
              "    <tr>\n",
              "      <td>6</td>\n",
              "      <td>0.004557</td>\n",
              "      <td>0.012693</td>\n",
              "      <td>0.998999</td>\n",
              "      <td>00:01</td>\n",
              "    </tr>\n",
              "    <tr>\n",
              "      <td>7</td>\n",
              "      <td>0.006534</td>\n",
              "      <td>0.000127</td>\n",
              "      <td>1.000000</td>\n",
              "      <td>00:01</td>\n",
              "    </tr>\n",
              "    <tr>\n",
              "      <td>8</td>\n",
              "      <td>0.003649</td>\n",
              "      <td>0.155281</td>\n",
              "      <td>0.998999</td>\n",
              "      <td>00:01</td>\n",
              "    </tr>\n",
              "    <tr>\n",
              "      <td>9</td>\n",
              "      <td>0.002297</td>\n",
              "      <td>0.000120</td>\n",
              "      <td>1.000000</td>\n",
              "      <td>00:01</td>\n",
              "    </tr>\n",
              "    <tr>\n",
              "      <td>10</td>\n",
              "      <td>0.001248</td>\n",
              "      <td>0.000032</td>\n",
              "      <td>1.000000</td>\n",
              "      <td>00:01</td>\n",
              "    </tr>\n",
              "  </tbody>\n",
              "</table>"
            ],
            "text/plain": [
              "<IPython.core.display.HTML object>"
            ]
          },
          "metadata": {
            "tags": []
          }
        }
      ]
    },
    {
      "metadata": {
        "id": "TxaEuVKNHYuc",
        "colab_type": "code",
        "colab": {}
      },
      "cell_type": "code",
      "source": [
        "interp = learn.interpret()"
      ],
      "execution_count": 0,
      "outputs": []
    },
    {
      "metadata": {
        "id": "NdUolyaeHsWA",
        "colab_type": "code",
        "outputId": "3e00eab2-6cb0-4ddb-a3c7-efbffb873eb4",
        "colab": {
          "base_uri": "https://localhost:8080/",
          "height": 415
        }
      },
      "cell_type": "code",
      "source": [
        "interp.plot_confusion_matrix()"
      ],
      "execution_count": 32,
      "outputs": [
        {
          "output_type": "display_data",
          "data": {
            "image/png": "[encoded data removed]",
            "text/plain": [
              "<Figure size 576x396 with 1 Axes>"
            ]
          },
          "metadata": {
            "tags": []
          }
        }
      ]
    },
    {
      "metadata": {
        "id": "ljRaXw7NIniQ",
        "colab_type": "code",
        "colab": {}
      },
      "cell_type": "code",
      "source": [
        "matrix = interp.confusion_matrix()"
      ],
      "execution_count": 0,
      "outputs": []
    },
    {
      "metadata": {
        "id": "x61WsppvIx1-",
        "colab_type": "code",
        "outputId": "dc1f5204-e459-4386-803e-830fca9936ac",
        "colab": {
          "base_uri": "https://localhost:8080/",
          "height": 71
        }
      },
      "cell_type": "code",
      "source": [
        "matrix"
      ],
      "execution_count": 34,
      "outputs": [
        {
          "output_type": "execute_result",
          "data": {
            "text/plain": [
              "array([[335,   0,   0],\n",
              "       [  0, 348,   0],\n",
              "       [  0,   0, 316]])"
            ]
          },
          "metadata": {
            "tags": []
          },
          "execution_count": 34
        }
      ]
    },
    {
      "metadata": {
        "id": "heCjkxzlKX4u",
        "colab_type": "code",
        "colab": {}
      },
      "cell_type": "code",
      "source": [
        "from sklearn.metrics import classification_report, accuracy_score"
      ],
      "execution_count": 0,
      "outputs": []
    },
    {
      "metadata": {
        "id": "s9V9oggjJ2ji",
        "colab_type": "code",
        "colab": {}
      },
      "cell_type": "code",
      "source": [
        "def get_metrics(matrix):\n",
        "    preds = []\n",
        "    targs = []\n",
        "    \n",
        "    for i in range(len(matrix)):\n",
        "        for j in range(len(matrix)):\n",
        "            for k in range(matrix[i][j]):\n",
        "                targs.append(i)\n",
        "                preds.append(j)\n",
        "    \n",
        "    print('Accuracy score:', accuracy_score(targs, preds))\n",
        "    print('Class-wise accuracy:')\n",
        "    print([matrix[i][i] for i in range(len(matrix))] / np.sum(matrix, axis=1))\n",
        "    print('Classification report:')\n",
        "    print(classification_report(targs, preds))"
      ],
      "execution_count": 0,
      "outputs": []
    },
    {
      "metadata": {
        "id": "bKF3_gMMKe4j",
        "colab_type": "code",
        "outputId": "15c5b38d-6268-41a4-e613-76b39f51b4c4",
        "colab": {
          "base_uri": "https://localhost:8080/",
          "height": 267
        }
      },
      "cell_type": "code",
      "source": [
        "get_metrics(matrix)"
      ],
      "execution_count": 37,
      "outputs": [
        {
          "output_type": "stream",
          "text": [
            "Accuracy score: 1.0\n",
            "Class-wise accuracy:\n",
            "[1. 1. 1.]\n",
            "Classification report:\n",
            "              precision    recall  f1-score   support\n",
            "\n",
            "           0       1.00      1.00      1.00       335\n",
            "           1       1.00      1.00      1.00       348\n",
            "           2       1.00      1.00      1.00       316\n",
            "\n",
            "   micro avg       1.00      1.00      1.00       999\n",
            "   macro avg       1.00      1.00      1.00       999\n",
            "weighted avg       1.00      1.00      1.00       999\n",
            "\n"
          ],
          "name": "stdout"
        }
      ]
    },
    {
      "metadata": {
        "id": "6Pi_dzfm7ZFR",
        "colab_type": "text"
      },
      "cell_type": "markdown",
      "source": [
        "## Only 6 features"
      ]
    },
    {
      "metadata": {
        "id": "XO3uWP9E70B7",
        "colab_type": "code",
        "colab": {}
      },
      "cell_type": "code",
      "source": [
        "!cp gdrive/\"My Drive\"/dataset-rocky-restricted-feat-set.csv ./"
      ],
      "execution_count": 0,
      "outputs": []
    },
    {
      "metadata": {
        "id": "_ZtDDgNO7sc7",
        "colab_type": "code",
        "colab": {}
      },
      "cell_type": "code",
      "source": [
        "df = pd.read_csv('dataset-rocky-restricted-feat-set.csv')"
      ],
      "execution_count": 0,
      "outputs": []
    },
    {
      "metadata": {
        "id": "b1NDN5LbUu9_",
        "colab_type": "code",
        "colab": {}
      },
      "cell_type": "code",
      "source": [
        "df = rebalance(df)"
      ],
      "execution_count": 0,
      "outputs": []
    },
    {
      "metadata": {
        "id": "2mHrVhji7yg1",
        "colab_type": "code",
        "outputId": "7394384c-1fed-4649-b888-fb3821058cd4",
        "colab": {
          "base_uri": "https://localhost:8080/",
          "height": 231
        }
      },
      "cell_type": "code",
      "source": [
        "df.info()"
      ],
      "execution_count": 107,
      "outputs": [
        {
          "output_type": "stream",
          "text": [
            "<class 'pandas.core.frame.DataFrame'>\n",
            "Int64Index: 4995 entries, 0 to 1704\n",
            "Data columns (total 7 columns):\n",
            "hab_lbl               4995 non-null int64\n",
            "P. Min Mass (EU)      4995 non-null float64\n",
            "P. Mass (EU)          4995 non-null float64\n",
            "P. Radius (EU)        4995 non-null float64\n",
            "P. SFlux Min (EU)     4995 non-null float64\n",
            "P. SFlux Mean (EU)    4995 non-null float64\n",
            "P. SFlux Max (EU)     4995 non-null float64\n",
            "dtypes: float64(6), int64(1)\n",
            "memory usage: 312.2 KB\n"
          ],
          "name": "stdout"
        }
      ]
    },
    {
      "metadata": {
        "id": "IR60WOjF8D9b",
        "colab_type": "code",
        "colab": {}
      },
      "cell_type": "code",
      "source": [
        "cat_vars = df.columns[np.where(df.dtypes == 'int64')]\n",
        "cat_vars = cat_vars.tolist()\n",
        "cat_vars.remove('hab_lbl')"
      ],
      "execution_count": 0,
      "outputs": []
    },
    {
      "metadata": {
        "id": "_UW5BMrq8NWC",
        "colab_type": "code",
        "outputId": "5ef3366d-2455-465d-9a3e-142a8a435460",
        "colab": {
          "base_uri": "https://localhost:8080/",
          "height": 35
        }
      },
      "cell_type": "code",
      "source": [
        "cat_vars"
      ],
      "execution_count": 109,
      "outputs": [
        {
          "output_type": "execute_result",
          "data": {
            "text/plain": [
              "[]"
            ]
          },
          "metadata": {
            "tags": []
          },
          "execution_count": 109
        }
      ]
    },
    {
      "metadata": {
        "id": "kXlWN7JQ8PCG",
        "colab_type": "code",
        "colab": {}
      },
      "cell_type": "code",
      "source": [
        "cont_vars = df.columns[np.where(df.dtypes == 'float64')]\n",
        "cont_vars = cont_vars.tolist()"
      ],
      "execution_count": 0,
      "outputs": []
    },
    {
      "metadata": {
        "id": "yDf_x_-E8R9Y",
        "colab_type": "code",
        "colab": {}
      },
      "cell_type": "code",
      "source": [
        "data = (TabularList.from_df(df, cat_names=cat_vars, cont_names=cont_vars, procs=procs)\n",
        "                   .random_split_by_pct(0.3)\n",
        "                   .label_from_df(cols='hab_lbl')\n",
        "                   .databunch())"
      ],
      "execution_count": 0,
      "outputs": []
    },
    {
      "metadata": {
        "id": "4Ixw9tu58VUB",
        "colab_type": "code",
        "outputId": "61f877fa-a679-4fb6-d4bf-c7da6dec3ad0",
        "colab": {
          "base_uri": "https://localhost:8080/",
          "height": 341
        }
      },
      "cell_type": "code",
      "source": [
        "data"
      ],
      "execution_count": 112,
      "outputs": [
        {
          "output_type": "execute_result",
          "data": {
            "text/plain": [
              "TabularDataBunch;\n",
              "\n",
              "Train: LabelList (3497 items)\n",
              "x: TabularList\n",
              "P. Min Mass (EU) 0.7825; P. Mass (EU) 0.0017; P. Radius (EU) 0.7566; P. SFlux Min (EU) 0.1587; P. SFlux Mean (EU) 0.1695; P. SFlux Max (EU) 0.1811; ,P. Min Mass (EU) -0.3647; P. Mass (EU) -0.0961; P. Radius (EU) 0.0058; P. SFlux Min (EU) -0.0127; P. SFlux Mean (EU) -0.0076; P. SFlux Max (EU) -0.0008; ,P. Min Mass (EU) -0.7099; P. Mass (EU) -0.2243; P. Radius (EU) -1.2908; P. SFlux Min (EU) -0.0066; P. SFlux Mean (EU) -0.0066; P. SFlux Max (EU) -0.0067; ,P. Min Mass (EU) -0.0597; P. Mass (EU) 0.0173; P. Radius (EU) 0.5746; P. SFlux Min (EU) 0.0056; P. SFlux Mean (EU) 0.0055; P. SFlux Max (EU) 0.0054; ,P. Min Mass (EU) -0.7946; P. Mass (EU) -0.1074; P. Radius (EU) -0.3126; P. SFlux Min (EU) 0.0884; P. SFlux Mean (EU) 0.1201; P. SFlux Max (EU) 0.1629; \n",
              "y: CategoryList\n",
              "0,0,0,0,0\n",
              "Path: .;\n",
              "\n",
              "Valid: LabelList (1498 items)\n",
              "x: TabularList\n",
              "P. Min Mass (EU) -0.3491; P. Mass (EU) 0.2186; P. Radius (EU) 1.1888; P. SFlux Min (EU) -0.0320; P. SFlux Mean (EU) -0.0321; P. SFlux Max (EU) -0.0322; ,P. Min Mass (EU) 0.0556; P. Mass (EU) 0.0601; P. Radius (EU) 0.7338; P. SFlux Min (EU) -0.0320; P. SFlux Mean (EU) -0.0321; P. SFlux Max (EU) -0.0322; ,P. Min Mass (EU) -0.3491; P. Mass (EU) -0.2396; P. Radius (EU) -1.4046; P. SFlux Min (EU) -0.0320; P. SFlux Mean (EU) -0.0321; P. SFlux Max (EU) -0.0322; ,P. Min Mass (EU) -0.3918; P. Mass (EU) -0.1139; P. Radius (EU) -0.1079; P. SFlux Min (EU) -0.0320; P. SFlux Mean (EU) -0.0321; P. SFlux Max (EU) -0.0322; ,P. Min Mass (EU) -0.1751; P. Mass (EU) -0.0256; P. Radius (EU) 0.3926; P. SFlux Min (EU) -0.0320; P. SFlux Mean (EU) -0.0321; P. SFlux Max (EU) -0.0322; \n",
              "y: CategoryList\n",
              "1,2,1,2,1\n",
              "Path: .;\n",
              "\n",
              "Test: None"
            ]
          },
          "metadata": {
            "tags": []
          },
          "execution_count": 112
        }
      ]
    },
    {
      "metadata": {
        "id": "u9slrnjO8fwH",
        "colab_type": "code",
        "colab": {}
      },
      "cell_type": "code",
      "source": [
        "learn = tabular_learner(data, layers=[100,50], ps=[0.5,0.5], metrics=fastai.basics.accuracy)"
      ],
      "execution_count": 0,
      "outputs": []
    },
    {
      "metadata": {
        "id": "UP_WlJOQ8g0m",
        "colab_type": "code",
        "outputId": "7a86257e-19e4-4cca-b470-b602f08b5420",
        "colab": {
          "base_uri": "https://localhost:8080/",
          "height": 303
        }
      },
      "cell_type": "code",
      "source": [
        "learn.model"
      ],
      "execution_count": 159,
      "outputs": [
        {
          "output_type": "execute_result",
          "data": {
            "text/plain": [
              "TabularModel(\n",
              "  (embeds): ModuleList()\n",
              "  (emb_drop): Dropout(p=0.0)\n",
              "  (bn_cont): BatchNorm1d(6, eps=1e-05, momentum=0.1, affine=True, track_running_stats=True)\n",
              "  (layers): Sequential(\n",
              "    (0): Linear(in_features=6, out_features=100, bias=True)\n",
              "    (1): ReLU(inplace)\n",
              "    (2): BatchNorm1d(100, eps=1e-05, momentum=0.1, affine=True, track_running_stats=True)\n",
              "    (3): Dropout(p=0.5)\n",
              "    (4): Linear(in_features=100, out_features=50, bias=True)\n",
              "    (5): ReLU(inplace)\n",
              "    (6): BatchNorm1d(50, eps=1e-05, momentum=0.1, affine=True, track_running_stats=True)\n",
              "    (7): Dropout(p=0.5)\n",
              "    (8): Linear(in_features=50, out_features=3, bias=True)\n",
              "  )\n",
              ")"
            ]
          },
          "metadata": {
            "tags": []
          },
          "execution_count": 159
        }
      ]
    },
    {
      "metadata": {
        "id": "RsieO8c_8kPU",
        "colab_type": "code",
        "outputId": "0893c529-a4fd-4813-f39b-fcbad3c4eea9",
        "colab": {
          "base_uri": "https://localhost:8080/",
          "height": 35
        }
      },
      "cell_type": "code",
      "source": [
        "learn.lr_find()"
      ],
      "execution_count": 160,
      "outputs": [
        {
          "output_type": "display_data",
          "data": {
            "text/html": [
              ""
            ],
            "text/plain": [
              "<IPython.core.display.HTML object>"
            ]
          },
          "metadata": {
            "tags": []
          }
        },
        {
          "output_type": "stream",
          "text": [
            "LR Finder is complete, type {learner_name}.recorder.plot() to see the graph.\n"
          ],
          "name": "stdout"
        }
      ]
    },
    {
      "metadata": {
        "id": "BnxLOU9I8mlf",
        "colab_type": "code",
        "outputId": "0d0fb55d-5727-4d93-a8e2-9cc45c95fd87",
        "colab": {
          "base_uri": "https://localhost:8080/",
          "height": 361
        }
      },
      "cell_type": "code",
      "source": [
        "learn.recorder.plot()"
      ],
      "execution_count": 161,
      "outputs": [
        {
          "output_type": "display_data",
          "data": {
            "image/png": "[encoded data removed]",
            "text/plain": [
              "<Figure size 576x396 with 1 Axes>"
            ]
          },
          "metadata": {
            "tags": []
          }
        }
      ]
    },
    {
      "metadata": {
        "id": "4ikLxRWC8odO",
        "colab_type": "code",
        "outputId": "6410d1b0-4495-4d14-ced5-d2fd57adc539",
        "colab": {
          "base_uri": "https://localhost:8080/",
          "height": 386
        }
      },
      "cell_type": "code",
      "source": [
        "learn.fit_one_cycle(10, slice(1e-3))"
      ],
      "execution_count": 162,
      "outputs": [
        {
          "output_type": "display_data",
          "data": {
            "text/html": [
              "Total time: 00:09 <p><table border=\"1\" class=\"dataframe\">\n",
              "  <thead>\n",
              "    <tr style=\"text-align: left;\">\n",
              "      <th>epoch</th>\n",
              "      <th>train_loss</th>\n",
              "      <th>valid_loss</th>\n",
              "      <th>accuracy</th>\n",
              "      <th>time</th>\n",
              "    </tr>\n",
              "  </thead>\n",
              "  <tbody>\n",
              "    <tr>\n",
              "      <td>1</td>\n",
              "      <td>1.226664</td>\n",
              "      <td>1.046651</td>\n",
              "      <td>0.547397</td>\n",
              "      <td>00:01</td>\n",
              "    </tr>\n",
              "    <tr>\n",
              "      <td>2</td>\n",
              "      <td>0.960133</td>\n",
              "      <td>0.871957</td>\n",
              "      <td>0.752336</td>\n",
              "      <td>00:00</td>\n",
              "    </tr>\n",
              "    <tr>\n",
              "      <td>3</td>\n",
              "      <td>0.727184</td>\n",
              "      <td>0.552186</td>\n",
              "      <td>0.775701</td>\n",
              "      <td>00:00</td>\n",
              "    </tr>\n",
              "    <tr>\n",
              "      <td>4</td>\n",
              "      <td>0.603902</td>\n",
              "      <td>0.527812</td>\n",
              "      <td>0.770360</td>\n",
              "      <td>00:00</td>\n",
              "    </tr>\n",
              "    <tr>\n",
              "      <td>5</td>\n",
              "      <td>0.546062</td>\n",
              "      <td>0.511604</td>\n",
              "      <td>0.770360</td>\n",
              "      <td>00:00</td>\n",
              "    </tr>\n",
              "    <tr>\n",
              "      <td>6</td>\n",
              "      <td>0.518260</td>\n",
              "      <td>0.509110</td>\n",
              "      <td>0.794393</td>\n",
              "      <td>00:00</td>\n",
              "    </tr>\n",
              "    <tr>\n",
              "      <td>7</td>\n",
              "      <td>0.506146</td>\n",
              "      <td>0.511306</td>\n",
              "      <td>0.794393</td>\n",
              "      <td>00:00</td>\n",
              "    </tr>\n",
              "    <tr>\n",
              "      <td>8</td>\n",
              "      <td>0.498011</td>\n",
              "      <td>0.538798</td>\n",
              "      <td>0.755674</td>\n",
              "      <td>00:00</td>\n",
              "    </tr>\n",
              "    <tr>\n",
              "      <td>9</td>\n",
              "      <td>0.495782</td>\n",
              "      <td>0.521349</td>\n",
              "      <td>0.797730</td>\n",
              "      <td>00:00</td>\n",
              "    </tr>\n",
              "    <tr>\n",
              "      <td>10</td>\n",
              "      <td>0.487567</td>\n",
              "      <td>0.502675</td>\n",
              "      <td>0.793725</td>\n",
              "      <td>00:00</td>\n",
              "    </tr>\n",
              "  </tbody>\n",
              "</table>"
            ],
            "text/plain": [
              "<IPython.core.display.HTML object>"
            ]
          },
          "metadata": {
            "tags": []
          }
        }
      ]
    },
    {
      "metadata": {
        "id": "M4U4_uemL3CW",
        "colab_type": "code",
        "colab": {}
      },
      "cell_type": "code",
      "source": [
        "interp = learn.interpret()"
      ],
      "execution_count": 0,
      "outputs": []
    },
    {
      "metadata": {
        "id": "kho7tLQIL7AR",
        "colab_type": "code",
        "outputId": "b2b23272-d6e2-4996-8fdc-720190095916",
        "colab": {
          "base_uri": "https://localhost:8080/",
          "height": 415
        }
      },
      "cell_type": "code",
      "source": [
        "interp.plot_confusion_matrix()"
      ],
      "execution_count": 164,
      "outputs": [
        {
          "output_type": "display_data",
          "data": {
            "image/png": "[encoded data removed]",
            "text/plain": [
              "<Figure size 576x396 with 1 Axes>"
            ]
          },
          "metadata": {
            "tags": []
          }
        }
      ]
    },
    {
      "metadata": {
        "id": "azkSOHPqL9Pr",
        "colab_type": "code",
        "outputId": "00f1e780-bd59-401e-f76b-6e8f68d7bd6d",
        "colab": {
          "base_uri": "https://localhost:8080/",
          "height": 267
        }
      },
      "cell_type": "code",
      "source": [
        "get_metrics(interp.confusion_matrix())"
      ],
      "execution_count": 165,
      "outputs": [
        {
          "output_type": "stream",
          "text": [
            "Accuracy score: 0.7937249666221629\n",
            "Class-wise accuracy:\n",
            "[0.932302 0.926531 0.515275]\n",
            "Classification report:\n",
            "              precision    recall  f1-score   support\n",
            "\n",
            "           0       1.00      0.93      0.96       517\n",
            "           1       0.63      0.93      0.75       490\n",
            "           2       0.87      0.52      0.65       491\n",
            "\n",
            "   micro avg       0.79      0.79      0.79      1498\n",
            "   macro avg       0.83      0.79      0.79      1498\n",
            "weighted avg       0.84      0.79      0.79      1498\n",
            "\n"
          ],
          "name": "stdout"
        }
      ]
    },
    {
      "metadata": {
        "id": "8cuV1MdY86AI",
        "colab_type": "text"
      },
      "cell_type": "markdown",
      "source": [
        "## Without surface temp"
      ]
    },
    {
      "metadata": {
        "id": "WmpyjGvf8rbM",
        "colab_type": "code",
        "colab": {}
      },
      "cell_type": "code",
      "source": [
        "!cp gdrive/\"My Drive\"/dataset-rocky-no-STemp.csv ./"
      ],
      "execution_count": 0,
      "outputs": []
    },
    {
      "metadata": {
        "id": "AY8Rc5Ga9FB2",
        "colab_type": "code",
        "colab": {}
      },
      "cell_type": "code",
      "source": [
        "df = pd.read_csv('dataset-rocky-no-STemp.csv')"
      ],
      "execution_count": 0,
      "outputs": []
    },
    {
      "metadata": {
        "id": "4Z1VZ1pQ9VUs",
        "colab_type": "code",
        "outputId": "dd0f5e51-08a1-4beb-e268-2b2e04cc83cb",
        "colab": {
          "base_uri": "https://localhost:8080/",
          "height": 875
        }
      },
      "cell_type": "code",
      "source": [
        "df.info()"
      ],
      "execution_count": 0,
      "outputs": [
        {
          "output_type": "stream",
          "text": [
            "<class 'pandas.core.frame.DataFrame'>\n",
            "RangeIndex: 1713 entries, 0 to 1712\n",
            "Data columns (total 43 columns):\n",
            "hab_lbl                      1713 non-null int64\n",
            "P. Zone Class                1713 non-null int64\n",
            "P. Mass Class                1713 non-null int64\n",
            "P. Composition Class         1713 non-null int64\n",
            "P. Atmosphere Class          1713 non-null int64\n",
            "P. Min Mass (EU)             1713 non-null float64\n",
            "P. Mass (EU)                 1713 non-null float64\n",
            "P. Radius (EU)               1713 non-null float64\n",
            "P. Density (EU)              1713 non-null float64\n",
            "P. Gravity (EU)              1713 non-null float64\n",
            "P. Esc Vel (EU)              1713 non-null float64\n",
            "P. SFlux Min (EU)            1713 non-null float64\n",
            "P. SFlux Mean (EU)           1713 non-null float64\n",
            "P. SFlux Max (EU)            1713 non-null float64\n",
            "P. Teq Min (K)               1713 non-null float64\n",
            "P. Teq Mean (K)              1713 non-null float64\n",
            "P. Teq Max (K)               1713 non-null float64\n",
            "P. Surf Press (EU)           1713 non-null float64\n",
            "P. Mag                       1713 non-null float64\n",
            "P. Appar Size (deg)          1713 non-null float64\n",
            "P. Period (days)             1713 non-null float64\n",
            "P. Sem Major Axis (AU)       1713 non-null float64\n",
            "P. Eccentricity              1713 non-null float64\n",
            "P. Mean Distance (AU)        1713 non-null float64\n",
            "P. Inclination (deg)         1713 non-null float64\n",
            "P. Omega (deg)               1713 non-null float64\n",
            "S. Mass (SU)                 1713 non-null float64\n",
            "S. Radius (SU)               1713 non-null float64\n",
            "S. Teff (K)                  1713 non-null float64\n",
            "S. Luminosity (SU)           1713 non-null float64\n",
            "S. [Fe/H]                    1713 non-null float64\n",
            "S. Age (Gyrs)                1713 non-null float64\n",
            "S. Appar Mag                 1713 non-null float64\n",
            "S. Mag from Planet           1713 non-null float64\n",
            "S. Size from Planet (deg)    1713 non-null float64\n",
            "S. Hab Zone Min (AU)         1713 non-null float64\n",
            "S. Hab Zone Max (AU)         1713 non-null float64\n",
            "P. HZD                       1713 non-null float64\n",
            "P. HZC                       1713 non-null float64\n",
            "P. HZA                       1713 non-null float64\n",
            "P. HZI                       1713 non-null float64\n",
            "P. ESI                       1713 non-null float64\n",
            "P. Habitable                 1713 non-null int64\n",
            "dtypes: float64(37), int64(6)\n",
            "memory usage: 575.5 KB\n"
          ],
          "name": "stdout"
        }
      ]
    },
    {
      "metadata": {
        "id": "ISdSixmb-p0n",
        "colab_type": "code",
        "colab": {}
      },
      "cell_type": "code",
      "source": [
        "df = df.drop('P. Habitable', axis=1)"
      ],
      "execution_count": 0,
      "outputs": []
    },
    {
      "metadata": {
        "id": "tqp3fsFb9Y1H",
        "colab_type": "code",
        "colab": {}
      },
      "cell_type": "code",
      "source": [
        "cat_vars = df.columns[np.where(df.dtypes == 'int64')]\n",
        "cat_vars = cat_vars.tolist()\n",
        "cat_vars.remove('hab_lbl')"
      ],
      "execution_count": 0,
      "outputs": []
    },
    {
      "metadata": {
        "id": "AfOv-aNw9bk_",
        "colab_type": "code",
        "outputId": "4851fbfd-8506-41e4-f10b-c67f3bba9f6a",
        "colab": {
          "base_uri": "https://localhost:8080/",
          "height": 88
        }
      },
      "cell_type": "code",
      "source": [
        "cat_vars"
      ],
      "execution_count": 0,
      "outputs": [
        {
          "output_type": "execute_result",
          "data": {
            "text/plain": [
              "['P. Zone Class',\n",
              " 'P. Mass Class',\n",
              " 'P. Composition Class',\n",
              " 'P. Atmosphere Class']"
            ]
          },
          "metadata": {
            "tags": []
          },
          "execution_count": 153
        }
      ]
    },
    {
      "metadata": {
        "id": "k9BDXXFb9cRY",
        "colab_type": "code",
        "colab": {}
      },
      "cell_type": "code",
      "source": [
        "cont_vars = df.columns[np.where(df.dtypes == 'float64')]\n",
        "cont_vars = cont_vars.tolist()"
      ],
      "execution_count": 0,
      "outputs": []
    },
    {
      "metadata": {
        "id": "7_IC-9-l9oIK",
        "colab_type": "code",
        "colab": {}
      },
      "cell_type": "code",
      "source": [
        "data = (TabularList.from_df(df, cat_names=cat_vars, cont_names=cont_vars, procs=procs)\n",
        "                   .random_split_by_pct(0.2)\n",
        "                   .label_from_df(cols='hab_lbl')\n",
        "                   .databunch())"
      ],
      "execution_count": 0,
      "outputs": []
    },
    {
      "metadata": {
        "id": "m4mbCzRj9qek",
        "colab_type": "code",
        "outputId": "a2655b00-ceb0-4f9f-b496-b1bcc0155d42",
        "colab": {
          "base_uri": "https://localhost:8080/",
          "height": 341
        }
      },
      "cell_type": "code",
      "source": [
        "data"
      ],
      "execution_count": 0,
      "outputs": [
        {
          "output_type": "execute_result",
          "data": {
            "text/plain": [
              "TabularDataBunch;\n",
              "\n",
              "Train: LabelList (1371 items)\n",
              "x: TabularList\n",
              "P. Zone Class 2; P. Mass Class 2; P. Composition Class 2; P. Atmosphere Class 2; P. Min Mass (EU) 0.0087; P. Mass (EU) -0.0503; P. Radius (EU) 0.6435; P. Density (EU) -0.0630; P. Gravity (EU) -0.0434; P. Esc Vel (EU) 0.1064; P. SFlux Min (EU) 0.0654; P. SFlux Mean (EU) 0.0721; P. SFlux Max (EU) 0.0791; P. Teq Min (K) 2.0656; P. Teq Mean (K) 2.1160; P. Teq Max (K) 2.1606; P. Surf Press (EU) -0.0319; P. Mag -1.9456; P. Appar Size (deg) 0.6403; P. Period (days) -0.0944; P. Sem Major Axis (AU) -0.3410; P. Eccentricity 0.2617; P. Mean Distance (AU) -0.3324; P. Inclination (deg) 1.4447; P. Omega (deg) 3.6446; S. Mass (SU) 0.1266; S. Radius (SU) 0.1132; S. Teff (K) -0.1185; S. Luminosity (SU) -0.2924; S. [Fe/H] 2.8319; S. Age (Gyrs) 4.4594; S. Appar Mag -4.0512; S. Mag from Planet -1.6697; S. Size from Planet (deg) 3.6733; S. Hab Zone Min (AU) -0.1423; S. Hab Zone Max (AU) -0.1232; P. HZD -0.1833; P. HZC 1.4839; P. HZA -0.4698; P. HZI -0.5125; P. ESI -0.6045; ,P. Zone Class 2; P. Mass Class 2; P. Composition Class 3; P. Atmosphere Class 2; P. Min Mass (EU) -0.5365; P. Mass (EU) -0.1068; P. Radius (EU) -0.0147; P. Density (EU) -0.0503; P. Gravity (EU) -0.0618; P. Esc Vel (EU) -0.1134; P. SFlux Min (EU) -0.0419; P. SFlux Mean (EU) -0.0389; P. SFlux Max (EU) -0.0349; P. Teq Min (K) 0.3370; P. Teq Mean (K) 0.4586; P. Teq Max (K) 0.6046; P. Surf Press (EU) -0.0323; P. Mag -0.7195; P. Appar Size (deg) -0.0101; P. Period (days) -0.0825; P. Sem Major Axis (AU) -0.2271; P. Eccentricity 1.7529; P. Mean Distance (AU) -0.2315; P. Inclination (deg) -0.0422; P. Omega (deg) 2.1798; S. Mass (SU) 0.2957; S. Radius (SU) 0.1132; S. Teff (K) 0.1596; S. Luminosity (SU) -0.1684; S. [Fe/H] 0.7777; S. Age (Gyrs) 3.5429; S. Appar Mag -4.7362; S. Mag from Planet -0.6398; S. Size from Planet (deg) 0.3100; S. Hab Zone Min (AU) 0.0477; S. Hab Zone Max (AU) 0.0512; P. HZD -0.1671; P. HZC -0.0498; P. HZA -0.3541; P. HZI -0.3308; P. ESI -0.5096; ,P. Zone Class 2; P. Mass Class 4; P. Composition Class 3; P. Atmosphere Class 3; P. Min Mass (EU) -0.7005; P. Mass (EU) -0.1808; P. Radius (EU) -1.1516; P. Density (EU) -0.0882; P. Gravity (EU) -0.1381; P. Esc Vel (EU) -0.6995; P. SFlux Min (EU) -0.0381; P. SFlux Mean (EU) -0.0383; P. SFlux Max (EU) -0.0386; P. Teq Min (K) 0.4962; P. Teq Mean (K) 0.4892; P. Teq Max (K) 0.4763; P. Surf Press (EU) -0.0328; P. Mag -0.3123; P. Appar Size (deg) -1.1642; P. Period (days) -0.0858; P. Sem Major Axis (AU) -0.2605; P. Eccentricity -0.2354; P. Mean Distance (AU) -0.2651; P. Inclination (deg) -0.0422; P. Omega (deg) -0.1865; S. Mass (SU) 0.2111; S. Radius (SU) -0.1468; S. Teff (K) -0.1035; S. Luminosity (SU) -0.3600; S. [Fe/H] 0.0201; S. Age (Gyrs) 0.0148; S. Appar Mag -6.5277; S. Mag from Planet -0.6845; S. Size from Planet (deg) 0.5233; S. Hab Zone Min (AU) -0.2768; S. Hab Zone Max (AU) -0.2671; P. HZD -0.1590; P. HZC -0.1958; P. HZA -0.7685; P. HZI -0.5125; P. ESI -0.2250; ,P. Zone Class 2; P. Mass Class 2; P. Composition Class 3; P. Atmosphere Class 2; P. Min Mass (EU) -0.2591; P. Mass (EU) 0.1035; P. Radius (EU) 1.1222; P. Density (EU) 0.0164; P. Gravity (EU) 0.0645; P. Esc Vel (EU) 0.6680; P. SFlux Min (EU) -0.0533; P. SFlux Mean (EU) -0.0535; P. SFlux Max (EU) -0.0538; P. Teq Min (K) -0.7834; P. Teq Mean (K) -0.7923; P. Teq Max (K) -0.8050; P. Surf Press (EU) -0.0301; P. Mag 0.4928; P. Appar Size (deg) 1.1229; P. Period (days) 0.0457; P. Sem Major Axis (AU) 0.3975; P. Eccentricity -0.2354; P. Mean Distance (AU) 0.4079; P. Inclination (deg) 1.3898; P. Omega (deg) -0.1865; S. Mass (SU) 0.3380; S. Radius (SU) 0.0807; S. Teff (K) 0.3547; S. Luminosity (SU) -0.0817; S. [Fe/H] -0.1210; S. Age (Gyrs) -0.6106; S. Appar Mag -1.4167; S. Mag from Planet 0.7932; S. Size from Planet (deg) -0.8640; S. Hab Zone Min (AU) 0.1587; S. Hab Zone Max (AU) 0.1530; P. HZD -0.0086; P. HZC 0.0963; P. HZA 0.8986; P. HZI 0.3962; P. ESI 0.0596; ,P. Zone Class 2; P. Mass Class 2; P. Composition Class 3; P. Atmosphere Class 2; P. Min Mass (EU) -0.3915; P. Mass (EU) -0.0413; P. Radius (EU) 0.4839; P. Density (EU) -0.0269; P. Gravity (EU) -0.0171; P. Esc Vel (EU) 0.1878; P. SFlux Min (EU) -0.0305; P. SFlux Mean (EU) -0.0306; P. SFlux Max (EU) -0.0309; P. Teq Min (K) 0.7422; P. Teq Mean (K) 0.7356; P. Teq Max (K) 0.7226; P. Surf Press (EU) -0.0317; P. Mag -1.0718; P. Appar Size (deg) 0.4830; P. Period (days) -0.0837; P. Sem Major Axis (AU) -0.2513; P. Eccentricity -0.2354; P. Mean Distance (AU) -0.2651; P. Inclination (deg) -0.0422; P. Omega (deg) -0.1865; S. Mass (SU) -0.7613; S. Radius (SU) 2.3883; S. Teff (K) -0.8423; S. Luminosity (SU) -0.0959; S. [Fe/H] -0.0569; S. Age (Gyrs) 0.1728; S. Appar Mag -3.6824; S. Mag from Planet -0.8637; S. Size from Planet (deg) 1.8398; S. Hab Zone Min (AU) 0.2786; S. Hab Zone Max (AU) 0.4025; P. HZD -0.1305; P. HZC 0.0233; P. HZA -0.2096; P. HZI -0.1490; P. ESI -0.6045; \n",
              "y: CategoryList\n",
              "0,0,0,0,0\n",
              "Path: .;\n",
              "\n",
              "Valid: LabelList (342 items)\n",
              "x: TabularList\n",
              "P. Zone Class 2; P. Mass Class 2; P. Composition Class 3; P. Atmosphere Class 2; P. Min Mass (EU) 0.0087; P. Mass (EU) 0.2045; P. Radius (EU) 1.4413; P. Density (EU) 0.0398; P. Gravity (EU) 0.1110; P. Esc Vel (EU) 0.9204; P. SFlux Min (EU) -0.0462; P. SFlux Mean (EU) -0.0464; P. SFlux Max (EU) -0.0467; P. Teq Min (K) 0.1049; P. Teq Mean (K) 0.0974; P. Teq Max (K) 0.0845; P. Surf Press (EU) -0.0289; P. Mag -0.7424; P. Appar Size (deg) 1.4272; P. Period (days) -0.0758; P. Sem Major Axis (AU) -0.1655; P. Eccentricity -0.2354; P. Mean Distance (AU) -0.1642; P. Inclination (deg) -0.0422; P. Omega (deg) -0.1865; S. Mass (SU) 2.3251; S. Radius (SU) -0.0168; S. Teff (K) 0.2285; S. Luminosity (SU) -0.1839; S. [Fe/H] 1.7598; S. Age (Gyrs) 0.0148; S. Appar Mag 0.0309; S. Mag from Planet -0.3263; S. Size from Planet (deg) -0.1455; S. Hab Zone Min (AU) 0.0126; S. Hab Zone Max (AU) 0.0105; P. HZD -0.1508; P. HZC 0.1693; P. HZA 0.5228; P. HZI -0.1490; P. ESI -0.7943; ,P. Zone Class 2; P. Mass Class 4; P. Composition Class 2; P. Atmosphere Class 2; P. Min Mass (EU) 0.0087; P. Mass (EU) -0.1157; P. Radius (EU) 0.2645; P. Density (EU) -0.1062; P. Gravity (EU) -0.0987; P. Esc Vel (EU) -0.2355; P. SFlux Min (EU) -0.0539; P. SFlux Mean (EU) -0.0540; P. SFlux Max (EU) -0.0543; P. Teq Min (K) -1.0899; P. Teq Mean (K) -1.0993; P. Teq Max (K) -1.1119; P. Surf Press (EU) -0.0325; P. Mag 1.3392; P. Appar Size (deg) 0.2731; P. Period (days) -0.0267; P. Sem Major Axis (AU) -0.0120; P. Eccentricity -0.2354; P. Mean Distance (AU) 0.0041; P. Inclination (deg) 1.4996; P. Omega (deg) -0.1865; S. Mass (SU) -1.2686; S. Radius (SU) -1.1869; S. Teff (K) -1.2690; S. Luminosity (SU) -0.6993; S. [Fe/H] 0.1999; S. Age (Gyrs) 0.0148; S. Appar Mag 0.1113; S. Mag from Planet 1.4201; S. Size from Planet (deg) -0.8008; S. Hab Zone Min (AU) -1.3114; S. Hab Zone Max (AU) -1.3083; P. HZD 0.1742; P. HZC 2.7984; P. HZA 0.2048; P. HZI 1.6684; P. ESI 1.8621; ,P. Zone Class 2; P. Mass Class 2; P. Composition Class 2; P. Atmosphere Class 2; P. Min Mass (EU) 0.0087; P. Mass (EU) -0.0166; P. Radius (EU) 1.5011; P. Density (EU) -0.1225; P. Gravity (EU) -0.0750; P. Esc Vel (EU) 0.1064; P. SFlux Min (EU) -0.0474; P. SFlux Mean (EU) -0.0476; P. SFlux Max (EU) -0.0479; P. Teq Min (K) 0.0229; P. Teq Mean (K) 0.0152; P. Teq Max (K) 0.0024; P. Surf Press (EU) -0.0321; P. Mag -0.6737; P. Appar Size (deg) 1.5006; P. Period (days) -0.0608; P. Sem Major Axis (AU) -0.0758; P. Eccentricity -0.2354; P. Mean Distance (AU) -0.0632; P. Inclination (deg) 0.8957; P. Omega (deg) -0.1865; S. Mass (SU) 0.8030; S. Radius (SU) 0.6332; S. Teff (K) 0.3472; S. Luminosity (SU) 0.1799; S. [Fe/H] 2.6393; S. Age (Gyrs) 0.0148; S. Appar Mag -1.2060; S. Mag from Planet -0.2368; S. Size from Planet (deg) -0.2732; S. Hab Zone Min (AU) 0.5299; S. Hab Zone Max (AU) 0.5324; P. HZD -0.1468; P. HZC 5.6466; P. HZA -0.0650; P. HZI -0.3308; P. ESI -0.7943; ,P. Zone Class 2; P. Mass Class 4; P. Composition Class 3; P. Atmosphere Class 3; P. Min Mass (EU) 0.0087; P. Mass (EU) -0.1733; P. Radius (EU) -0.9522; P. Density (EU) -0.0828; P. Gravity (EU) -0.1267; P. Esc Vel (EU) -0.6100; P. SFlux Min (EU) 0.0768; P. SFlux Mean (EU) 0.0766; P. SFlux Max (EU) 0.0763; P. Teq Min (K) 2.1567; P. Teq Mean (K) 2.1522; P. Teq Max (K) 2.1390; P. Surf Press (EU) -0.0327; P. Mag -1.4515; P. Appar Size (deg) -0.9544; P. Period (days) -0.0941; P. Sem Major Axis (AU) -0.3367; P. Eccentricity -0.2354; P. Mean Distance (AU) -0.3324; P. Inclination (deg) -0.0422; P. Omega (deg) -0.1865; S. Mass (SU) 0.2534; S. Radius (SU) 0.0157; S. Teff (K) 0.1754; S. Luminosity (SU) -0.1970; S. [Fe/H] 0.0201; S. Age (Gyrs) 0.2245; S. Appar Mag 0.2167; S. Mag from Planet -1.7145; S. Size from Planet (deg) 3.1377; S. Hab Zone Min (AU) -0.0020; S. Hab Zone Max (AU) -0.0023; P. HZD -0.1955; P. HZC -0.1958; P. HZA -0.8552; P. HZI -0.6943; P. ESI -0.3199; ,P. Zone Class 2; P. Mass Class 2; P. Composition Class 3; P. Atmosphere Class 2; P. Min Mass (EU) 0.0087; P. Mass (EU) -0.0072; P. Radius (EU) 0.6634; P. Density (EU) -0.0161; P. Gravity (EU) 0.0040; P. Esc Vel (EU) 0.3180; P. SFlux Min (EU) -0.0487; P. SFlux Mean (EU) -0.0489; P. SFlux Max (EU) -0.0492; P. Teq Min (K) -0.0790; P. Teq Mean (K) -0.0868; P. Teq Max (K) -0.0996; P. Surf Press (EU) -0.0313; P. Mag -0.3764; P. Appar Size (deg) 0.6718; P. Period (days) -0.0615; P. Sem Major Axis (AU) -0.0893; P. Eccentricity -0.2354; P. Mean Distance (AU) -0.0969; P. Inclination (deg) -0.0422; P. Omega (deg) -0.1865; S. Mass (SU) 0.4225; S. Radius (SU) 0.2107; S. Teff (K) 0.2850; S. Luminosity (SU) -0.0617; S. [Fe/H] 0.0201; S. Age (Gyrs) 0.4610; S. Appar Mag 0.5328; S. Mag from Planet -0.1472; S. Size from Planet (deg) -0.3438; S. Hab Zone Min (AU) 0.1996; S. Hab Zone Max (AU) 0.1989; P. HZD -0.1387; P. HZC 0.0963; P. HZA 0.1373; P. HZI -0.1490; P. ESI -0.5096; \n",
              "y: CategoryList\n",
              "0,0,0,0,0\n",
              "Path: .;\n",
              "\n",
              "Test: None"
            ]
          },
          "metadata": {
            "tags": []
          },
          "execution_count": 156
        }
      ]
    },
    {
      "metadata": {
        "id": "QdgCCSxG9tlL",
        "colab_type": "code",
        "colab": {}
      },
      "cell_type": "code",
      "source": [
        "learn = tabular_learner(data, layers=[10,5], ps=[0.001,0.01], emb_drop=0.04, metrics=fastai.basics.accuracy)"
      ],
      "execution_count": 0,
      "outputs": []
    },
    {
      "metadata": {
        "id": "nXTUqXU19xMS",
        "colab_type": "code",
        "outputId": "908b8c3c-10d6-4663-d79c-172600d55018",
        "colab": {
          "base_uri": "https://localhost:8080/",
          "height": 392
        }
      },
      "cell_type": "code",
      "source": [
        "learn.model"
      ],
      "execution_count": 0,
      "outputs": [
        {
          "output_type": "execute_result",
          "data": {
            "text/plain": [
              "TabularModel(\n",
              "  (embeds): ModuleList(\n",
              "    (0): Embedding(5, 4)\n",
              "    (1): Embedding(7, 5)\n",
              "    (2): Embedding(3, 3)\n",
              "    (3): Embedding(5, 4)\n",
              "  )\n",
              "  (emb_drop): Dropout(p=0.04)\n",
              "  (bn_cont): BatchNorm1d(37, eps=1e-05, momentum=0.1, affine=True, track_running_stats=True)\n",
              "  (layers): Sequential(\n",
              "    (0): Linear(in_features=53, out_features=10, bias=True)\n",
              "    (1): ReLU(inplace)\n",
              "    (2): BatchNorm1d(10, eps=1e-05, momentum=0.1, affine=True, track_running_stats=True)\n",
              "    (3): Dropout(p=0.001)\n",
              "    (4): Linear(in_features=10, out_features=5, bias=True)\n",
              "    (5): ReLU(inplace)\n",
              "    (6): BatchNorm1d(5, eps=1e-05, momentum=0.1, affine=True, track_running_stats=True)\n",
              "    (7): Dropout(p=0.01)\n",
              "    (8): Linear(in_features=5, out_features=3, bias=True)\n",
              "  )\n",
              ")"
            ]
          },
          "metadata": {
            "tags": []
          },
          "execution_count": 158
        }
      ]
    },
    {
      "metadata": {
        "id": "atPBNylg9yXT",
        "colab_type": "code",
        "outputId": "154888f3-5c15-43a4-b329-3d058bdba6eb",
        "colab": {
          "base_uri": "https://localhost:8080/",
          "height": 35
        }
      },
      "cell_type": "code",
      "source": [
        "learn.lr_find()"
      ],
      "execution_count": 0,
      "outputs": [
        {
          "output_type": "display_data",
          "data": {
            "text/html": [
              ""
            ],
            "text/plain": [
              "<IPython.core.display.HTML object>"
            ]
          },
          "metadata": {
            "tags": []
          }
        },
        {
          "output_type": "stream",
          "text": [
            "LR Finder is complete, type {learner_name}.recorder.plot() to see the graph.\n"
          ],
          "name": "stdout"
        }
      ]
    },
    {
      "metadata": {
        "id": "--2TLd9S9zvn",
        "colab_type": "code",
        "outputId": "2d6bc089-65e7-450d-b690-5706c1d8db38",
        "colab": {
          "base_uri": "https://localhost:8080/",
          "height": 361
        }
      },
      "cell_type": "code",
      "source": [
        "learn.recorder.plot()"
      ],
      "execution_count": 0,
      "outputs": [
        {
          "output_type": "display_data",
          "data": {
            "image/png": "[encoded data removed]",
            "text/plain": [
              "<Figure size 576x396 with 1 Axes>"
            ]
          },
          "metadata": {
            "tags": []
          }
        }
      ]
    },
    {
      "metadata": {
        "id": "nK8pHyjH91fp",
        "colab_type": "code",
        "outputId": "c675f8d7-f44b-42f5-d4c2-20a00d11f472",
        "colab": {
          "base_uri": "https://localhost:8080/",
          "height": 386
        }
      },
      "cell_type": "code",
      "source": [
        "learn.fit_one_cycle(10, 5e-2)"
      ],
      "execution_count": 0,
      "outputs": [
        {
          "output_type": "display_data",
          "data": {
            "text/html": [
              "Total time: 00:05 <p><table border=\"1\" class=\"dataframe\">\n",
              "  <thead>\n",
              "    <tr style=\"text-align: left;\">\n",
              "      <th>epoch</th>\n",
              "      <th>train_loss</th>\n",
              "      <th>valid_loss</th>\n",
              "      <th>accuracy</th>\n",
              "      <th>time</th>\n",
              "    </tr>\n",
              "  </thead>\n",
              "  <tbody>\n",
              "    <tr>\n",
              "      <td>1</td>\n",
              "      <td>0.832402</td>\n",
              "      <td>0.670953</td>\n",
              "      <td>0.967836</td>\n",
              "      <td>00:00</td>\n",
              "    </tr>\n",
              "    <tr>\n",
              "      <td>2</td>\n",
              "      <td>0.507236</td>\n",
              "      <td>0.045812</td>\n",
              "      <td>0.976608</td>\n",
              "      <td>00:00</td>\n",
              "    </tr>\n",
              "    <tr>\n",
              "      <td>3</td>\n",
              "      <td>0.295812</td>\n",
              "      <td>0.025153</td>\n",
              "      <td>0.976608</td>\n",
              "      <td>00:00</td>\n",
              "    </tr>\n",
              "    <tr>\n",
              "      <td>4</td>\n",
              "      <td>0.195619</td>\n",
              "      <td>0.035485</td>\n",
              "      <td>0.991228</td>\n",
              "      <td>00:00</td>\n",
              "    </tr>\n",
              "    <tr>\n",
              "      <td>5</td>\n",
              "      <td>0.130140</td>\n",
              "      <td>0.026568</td>\n",
              "      <td>0.991228</td>\n",
              "      <td>00:00</td>\n",
              "    </tr>\n",
              "    <tr>\n",
              "      <td>6</td>\n",
              "      <td>0.090432</td>\n",
              "      <td>0.023071</td>\n",
              "      <td>0.991228</td>\n",
              "      <td>00:00</td>\n",
              "    </tr>\n",
              "    <tr>\n",
              "      <td>7</td>\n",
              "      <td>0.069896</td>\n",
              "      <td>0.037762</td>\n",
              "      <td>0.976608</td>\n",
              "      <td>00:00</td>\n",
              "    </tr>\n",
              "    <tr>\n",
              "      <td>8</td>\n",
              "      <td>0.057618</td>\n",
              "      <td>0.021429</td>\n",
              "      <td>0.991228</td>\n",
              "      <td>00:00</td>\n",
              "    </tr>\n",
              "    <tr>\n",
              "      <td>9</td>\n",
              "      <td>0.049564</td>\n",
              "      <td>0.023954</td>\n",
              "      <td>0.991228</td>\n",
              "      <td>00:00</td>\n",
              "    </tr>\n",
              "    <tr>\n",
              "      <td>10</td>\n",
              "      <td>0.040301</td>\n",
              "      <td>0.026728</td>\n",
              "      <td>0.991228</td>\n",
              "      <td>00:00</td>\n",
              "    </tr>\n",
              "  </tbody>\n",
              "</table>"
            ],
            "text/plain": [
              "<IPython.core.display.HTML object>"
            ]
          },
          "metadata": {
            "tags": []
          }
        }
      ]
    },
    {
      "metadata": {
        "id": "zpIbJoFW90CZ",
        "colab_type": "code",
        "colab": {}
      },
      "cell_type": "code",
      "source": [
        "interp = learn.interpret()"
      ],
      "execution_count": 0,
      "outputs": []
    },
    {
      "metadata": {
        "id": "J4JMkItDMx6C",
        "colab_type": "code",
        "outputId": "83445f03-a182-4c62-f8f5-6ec3edc2f1a8",
        "colab": {
          "base_uri": "https://localhost:8080/",
          "height": 415
        }
      },
      "cell_type": "code",
      "source": [
        "interp.plot_confusion_matrix()"
      ],
      "execution_count": 0,
      "outputs": [
        {
          "output_type": "display_data",
          "data": {
            "image/png": "[encoded data removed]",
            "text/plain": [
              "<Figure size 576x396 with 1 Axes>"
            ]
          },
          "metadata": {
            "tags": []
          }
        }
      ]
    },
    {
      "metadata": {
        "id": "tVJglbvKMzxp",
        "colab_type": "code",
        "outputId": "0f9f27d4-57f3-423b-9586-ae9891468c2f",
        "colab": {
          "base_uri": "https://localhost:8080/",
          "height": 323
        }
      },
      "cell_type": "code",
      "source": [
        "get_metrics(interp.confusion_matrix())"
      ],
      "execution_count": 0,
      "outputs": [
        {
          "output_type": "stream",
          "text": [
            "Accuracy score: 0.9912280701754386\n",
            "Class-wise accuracy:\n",
            "[1. 0. 1.]\n",
            "Classification report:\n",
            "              precision    recall  f1-score   support\n",
            "\n",
            "           0       1.00      1.00      1.00       331\n",
            "           1       0.00      0.00      0.00         3\n",
            "           2       0.73      1.00      0.84         8\n",
            "\n",
            "   micro avg       0.99      0.99      0.99       342\n",
            "   macro avg       0.58      0.67      0.61       342\n",
            "weighted avg       0.98      0.99      0.99       342\n",
            "\n"
          ],
          "name": "stdout"
        },
        {
          "output_type": "stream",
          "text": [
            "/usr/local/lib/python3.6/dist-packages/sklearn/metrics/classification.py:1143: UndefinedMetricWarning: Precision and F-score are ill-defined and being set to 0.0 in labels with no predicted samples.\n",
            "  'precision', 'predicted', average, warn_for)\n"
          ],
          "name": "stderr"
        }
      ]
    },
    {
      "metadata": {
        "id": "WMhyZmupM4WL",
        "colab_type": "code",
        "colab": {}
      },
      "cell_type": "code",
      "source": [
        ""
      ],
      "execution_count": 0,
      "outputs": []
    }
  ]
}