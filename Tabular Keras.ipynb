{
 "cells": [
  {
   "cell_type": "code",
   "execution_count": 74,
   "metadata": {},
   "outputs": [],
   "source": [
    "import pandas as pd\n",
    "import numpy as np\n",
    "import keras\n",
    "from sklearn.model_selection import train_test_split\n",
    "from keras.models import Model\n",
    "from keras.layers import Embedding, Dense, BatchNormalization, Dropout, Input, Flatten\n",
    "from keras.optimizers import SGD\n",
    "from keras.utils import to_categorical"
   ]
  },
  {
   "cell_type": "code",
   "execution_count": 2,
   "metadata": {},
   "outputs": [],
   "source": [
    "def rebalance(frame, col='hab_lbl', factor=1):\n",
    "    max_size = frame[col].value_counts().max()\n",
    "    lst = [frame]\n",
    "    for class_index, group in frame.groupby(col):\n",
    "        lst.append(group.sample(int((max_size-len(group)) / factor), replace=True))\n",
    "    frame_new = pd.concat(lst)\n",
    "    \n",
    "    return frame_new"
   ]
  },
  {
   "cell_type": "code",
   "execution_count": 3,
   "metadata": {},
   "outputs": [],
   "source": [
    "df = pd.read_csv('dataset-rocky-no-STemp.csv')\n",
    "df = df.drop('P. Habitable', axis=1)\n",
    "y = df['hab_lbl']\n",
    "#df.drop('hab_lbl', axis=1, inplace=True)"
   ]
  },
  {
   "cell_type": "code",
   "execution_count": 4,
   "metadata": {},
   "outputs": [],
   "source": [
    "from sklearn.preprocessing import LabelEncoder"
   ]
  },
  {
   "cell_type": "code",
   "execution_count": 5,
   "metadata": {},
   "outputs": [],
   "source": [
    "cat_vars = df.columns[np.where(df.dtypes == 'int64')]\n",
    "cat_vars = cat_vars.tolist()\n",
    "cat_vars.remove('hab_lbl')"
   ]
  },
  {
   "cell_type": "code",
   "execution_count": 6,
   "metadata": {},
   "outputs": [],
   "source": [
    "cont_vars = df.columns[np.where(df.dtypes != 'int64')].tolist()"
   ]
  },
  {
   "cell_type": "code",
   "execution_count": 7,
   "metadata": {},
   "outputs": [],
   "source": [
    "label_encoders = {}"
   ]
  },
  {
   "cell_type": "code",
   "execution_count": 8,
   "metadata": {},
   "outputs": [],
   "source": [
    "for cat_col in cat_vars:\n",
    "    label_encoders[cat_col] = LabelEncoder()\n",
    "    df[cat_col] = label_encoders[cat_col].fit_transform(df[cat_col])"
   ]
  },
  {
   "cell_type": "code",
   "execution_count": 9,
   "metadata": {},
   "outputs": [
    {
     "data": {
      "text/plain": [
       "['P. Zone Class',\n",
       " 'P. Mass Class',\n",
       " 'P. Composition Class',\n",
       " 'P. Atmosphere Class']"
      ]
     },
     "execution_count": 9,
     "metadata": {},
     "output_type": "execute_result"
    }
   ],
   "source": [
    "cat_vars"
   ]
  },
  {
   "cell_type": "code",
   "execution_count": 10,
   "metadata": {},
   "outputs": [
    {
     "name": "stderr",
     "output_type": "stream",
     "text": [
      "/home/rahul/.local/lib/python3.5/site-packages/sklearn/model_selection/_split.py:2179: FutureWarning: From version 0.21, test_size will always complement train_size unless both are specified.\n",
      "  FutureWarning)\n"
     ]
    }
   ],
   "source": [
    "train_df, test_df = train_test_split(df, train_size=0.7)"
   ]
  },
  {
   "cell_type": "code",
   "execution_count": 11,
   "metadata": {},
   "outputs": [],
   "source": [
    "train_df = rebalance(train_df)"
   ]
  },
  {
   "cell_type": "code",
   "execution_count": 12,
   "metadata": {},
   "outputs": [
    {
     "name": "stderr",
     "output_type": "stream",
     "text": [
      "/home/rahul/.local/lib/python3.5/site-packages/pandas/core/frame.py:3940: SettingWithCopyWarning: \n",
      "A value is trying to be set on a copy of a slice from a DataFrame\n",
      "\n",
      "See the caveats in the documentation: http://pandas.pydata.org/pandas-docs/stable/indexing.html#indexing-view-versus-copy\n",
      "  errors=errors)\n"
     ]
    }
   ],
   "source": [
    "train_df.drop('hab_lbl', axis=1, inplace=True)\n",
    "test_df.drop('hab_lbl', axis=1, inplace=True)"
   ]
  },
  {
   "cell_type": "code",
   "execution_count": 13,
   "metadata": {},
   "outputs": [
    {
     "data": {
      "text/html": [
       "<div>\n",
       "<style scoped>\n",
       "    .dataframe tbody tr th:only-of-type {\n",
       "        vertical-align: middle;\n",
       "    }\n",
       "\n",
       "    .dataframe tbody tr th {\n",
       "        vertical-align: top;\n",
       "    }\n",
       "\n",
       "    .dataframe thead th {\n",
       "        text-align: right;\n",
       "    }\n",
       "</style>\n",
       "<table border=\"1\" class=\"dataframe\">\n",
       "  <thead>\n",
       "    <tr style=\"text-align: right;\">\n",
       "      <th></th>\n",
       "      <th>P. Zone Class</th>\n",
       "      <th>P. Mass Class</th>\n",
       "      <th>P. Composition Class</th>\n",
       "      <th>P. Atmosphere Class</th>\n",
       "      <th>P. Min Mass (EU)</th>\n",
       "      <th>P. Mass (EU)</th>\n",
       "      <th>P. Radius (EU)</th>\n",
       "      <th>P. Density (EU)</th>\n",
       "      <th>P. Gravity (EU)</th>\n",
       "      <th>P. Esc Vel (EU)</th>\n",
       "      <th>...</th>\n",
       "      <th>S. Appar Mag</th>\n",
       "      <th>S. Mag from Planet</th>\n",
       "      <th>S. Size from Planet (deg)</th>\n",
       "      <th>S. Hab Zone Min (AU)</th>\n",
       "      <th>S. Hab Zone Max (AU)</th>\n",
       "      <th>P. HZD</th>\n",
       "      <th>P. HZC</th>\n",
       "      <th>P. HZA</th>\n",
       "      <th>P. HZI</th>\n",
       "      <th>P. ESI</th>\n",
       "    </tr>\n",
       "  </thead>\n",
       "  <tbody>\n",
       "    <tr>\n",
       "      <th>1015</th>\n",
       "      <td>2</td>\n",
       "      <td>1</td>\n",
       "      <td>1</td>\n",
       "      <td>2</td>\n",
       "      <td>18.217914</td>\n",
       "      <td>26.81</td>\n",
       "      <td>2.50</td>\n",
       "      <td>1.72</td>\n",
       "      <td>4.30</td>\n",
       "      <td>3.28</td>\n",
       "      <td>...</td>\n",
       "      <td>12.8</td>\n",
       "      <td>-31.9</td>\n",
       "      <td>5.0042</td>\n",
       "      <td>1.133</td>\n",
       "      <td>2.644</td>\n",
       "      <td>-2.31</td>\n",
       "      <td>-0.11</td>\n",
       "      <td>0.46</td>\n",
       "      <td>0.30</td>\n",
       "      <td>0.24</td>\n",
       "    </tr>\n",
       "    <tr>\n",
       "      <th>1102</th>\n",
       "      <td>2</td>\n",
       "      <td>1</td>\n",
       "      <td>1</td>\n",
       "      <td>2</td>\n",
       "      <td>18.217914</td>\n",
       "      <td>14.46</td>\n",
       "      <td>2.17</td>\n",
       "      <td>1.41</td>\n",
       "      <td>3.06</td>\n",
       "      <td>2.58</td>\n",
       "      <td>...</td>\n",
       "      <td>15.4</td>\n",
       "      <td>-34.4</td>\n",
       "      <td>17.5499</td>\n",
       "      <td>0.760</td>\n",
       "      <td>1.788</td>\n",
       "      <td>-2.42</td>\n",
       "      <td>-0.13</td>\n",
       "      <td>-0.43</td>\n",
       "      <td>0.29</td>\n",
       "      <td>0.25</td>\n",
       "    </tr>\n",
       "    <tr>\n",
       "      <th>898</th>\n",
       "      <td>2</td>\n",
       "      <td>1</td>\n",
       "      <td>1</td>\n",
       "      <td>2</td>\n",
       "      <td>18.217914</td>\n",
       "      <td>20.80</td>\n",
       "      <td>2.36</td>\n",
       "      <td>1.58</td>\n",
       "      <td>3.72</td>\n",
       "      <td>2.97</td>\n",
       "      <td>...</td>\n",
       "      <td>13.9</td>\n",
       "      <td>-30.4</td>\n",
       "      <td>3.1627</td>\n",
       "      <td>0.605</td>\n",
       "      <td>1.437</td>\n",
       "      <td>-2.10</td>\n",
       "      <td>-0.12</td>\n",
       "      <td>0.63</td>\n",
       "      <td>0.31</td>\n",
       "      <td>0.28</td>\n",
       "    </tr>\n",
       "    <tr>\n",
       "      <th>1037</th>\n",
       "      <td>2</td>\n",
       "      <td>1</td>\n",
       "      <td>1</td>\n",
       "      <td>2</td>\n",
       "      <td>18.217914</td>\n",
       "      <td>6.25</td>\n",
       "      <td>1.76</td>\n",
       "      <td>1.15</td>\n",
       "      <td>2.02</td>\n",
       "      <td>1.89</td>\n",
       "      <td>...</td>\n",
       "      <td>15.2</td>\n",
       "      <td>-29.5</td>\n",
       "      <td>2.2966</td>\n",
       "      <td>0.517</td>\n",
       "      <td>1.238</td>\n",
       "      <td>-1.91</td>\n",
       "      <td>-0.14</td>\n",
       "      <td>-0.07</td>\n",
       "      <td>0.34</td>\n",
       "      <td>0.37</td>\n",
       "    </tr>\n",
       "    <tr>\n",
       "      <th>806</th>\n",
       "      <td>2</td>\n",
       "      <td>3</td>\n",
       "      <td>1</td>\n",
       "      <td>2</td>\n",
       "      <td>18.217914</td>\n",
       "      <td>2.86</td>\n",
       "      <td>1.10</td>\n",
       "      <td>2.16</td>\n",
       "      <td>2.38</td>\n",
       "      <td>1.61</td>\n",
       "      <td>...</td>\n",
       "      <td>16.5</td>\n",
       "      <td>-29.3</td>\n",
       "      <td>5.1659</td>\n",
       "      <td>0.066</td>\n",
       "      <td>0.174</td>\n",
       "      <td>-1.78</td>\n",
       "      <td>-0.93</td>\n",
       "      <td>-0.28</td>\n",
       "      <td>0.33</td>\n",
       "      <td>0.41</td>\n",
       "    </tr>\n",
       "  </tbody>\n",
       "</table>\n",
       "<p>5 rows × 41 columns</p>\n",
       "</div>"
      ],
      "text/plain": [
       "      P. Zone Class  P. Mass Class  P. Composition Class  P. Atmosphere Class  \\\n",
       "1015              2              1                     1                    2   \n",
       "1102              2              1                     1                    2   \n",
       "898               2              1                     1                    2   \n",
       "1037              2              1                     1                    2   \n",
       "806               2              3                     1                    2   \n",
       "\n",
       "      P. Min Mass (EU)  P. Mass (EU)  P. Radius (EU)  P. Density (EU)  \\\n",
       "1015         18.217914         26.81            2.50             1.72   \n",
       "1102         18.217914         14.46            2.17             1.41   \n",
       "898          18.217914         20.80            2.36             1.58   \n",
       "1037         18.217914          6.25            1.76             1.15   \n",
       "806          18.217914          2.86            1.10             2.16   \n",
       "\n",
       "      P. Gravity (EU)  P. Esc Vel (EU)  ...  S. Appar Mag  S. Mag from Planet  \\\n",
       "1015             4.30             3.28  ...          12.8               -31.9   \n",
       "1102             3.06             2.58  ...          15.4               -34.4   \n",
       "898              3.72             2.97  ...          13.9               -30.4   \n",
       "1037             2.02             1.89  ...          15.2               -29.5   \n",
       "806              2.38             1.61  ...          16.5               -29.3   \n",
       "\n",
       "      S. Size from Planet (deg)  S. Hab Zone Min (AU)  S. Hab Zone Max (AU)  \\\n",
       "1015                     5.0042                 1.133                 2.644   \n",
       "1102                    17.5499                 0.760                 1.788   \n",
       "898                      3.1627                 0.605                 1.437   \n",
       "1037                     2.2966                 0.517                 1.238   \n",
       "806                      5.1659                 0.066                 0.174   \n",
       "\n",
       "      P. HZD  P. HZC  P. HZA  P. HZI  P. ESI  \n",
       "1015   -2.31   -0.11    0.46    0.30    0.24  \n",
       "1102   -2.42   -0.13   -0.43    0.29    0.25  \n",
       "898    -2.10   -0.12    0.63    0.31    0.28  \n",
       "1037   -1.91   -0.14   -0.07    0.34    0.37  \n",
       "806    -1.78   -0.93   -0.28    0.33    0.41  \n",
       "\n",
       "[5 rows x 41 columns]"
      ]
     },
     "execution_count": 13,
     "metadata": {},
     "output_type": "execute_result"
    }
   ],
   "source": [
    "train_df.head()"
   ]
  },
  {
   "cell_type": "code",
   "execution_count": 14,
   "metadata": {},
   "outputs": [],
   "source": [
    "y = to_categorical(np.array(y))"
   ]
  },
  {
   "cell_type": "code",
   "execution_count": 50,
   "metadata": {},
   "outputs": [],
   "source": [
    "cat_inps = [list(df[x]) for x in cat_vars]\n",
    "cont_inp = np.array(list(df[cont_vars]))"
   ]
  },
  {
   "cell_type": "code",
   "execution_count": 51,
   "metadata": {},
   "outputs": [
    {
     "data": {
      "text/plain": [
       "(1713, 37)"
      ]
     },
     "execution_count": 51,
     "metadata": {},
     "output_type": "execute_result"
    }
   ],
   "source": [
    "df[cont_vars].shape"
   ]
  },
  {
   "cell_type": "code",
   "execution_count": 55,
   "metadata": {},
   "outputs": [],
   "source": [
    "lci = len(cat_inps)"
   ]
  },
  {
   "cell_type": "code",
   "execution_count": 82,
   "metadata": {},
   "outputs": [],
   "source": [
    "model_cat_inps = [Input(shape=(1,)) for _ in cat_inps]\n",
    "model_cont_inp = Input(shape=(1, 37), name='cont_inp')\n",
    "\n",
    "embeddings = [Embedding(input_dim=len(np.unique(x)),\n",
    "                        output_dim=round(1.6 * len(np.unique(x)) ** 0.56)\n",
    "                       )(y) for x, y in zip(cat_inps, model_cat_inps)]\n",
    "bn1 = BatchNormalization(name='first_bn')(model_cont_inp)\n",
    "\n",
    "concat = keras.layers.concatenate([*embeddings, bn1], name='concatenate')\n",
    "\n",
    "relu = Dense(5, activation='relu', name='dense1')(concat)\n",
    "bn = BatchNormalization(name='bn1')(relu)\n",
    "drop = Dropout(0.2, name='dropout1')(bn)\n",
    "\n",
    "relu = Dense(5, activation='relu', name='dense2')(drop)\n",
    "bn = BatchNormalization()(relu)\n",
    "drop = Dropout(0.2)(bn)\n",
    "\n",
    "flat = Flatten()(drop)\n",
    "out = Dense(3, activation='softmax', name='dense3')(flat)\n",
    "\n",
    "model = Model(inputs=[*model_cat_inps, model_cont_inp], outputs=out)"
   ]
  },
  {
   "cell_type": "code",
   "execution_count": 83,
   "metadata": {},
   "outputs": [],
   "source": [
    "model.compile(SGD(0.1), loss='categorical_crossentropy', metrics=['accuracy'])"
   ]
  },
  {
   "cell_type": "code",
   "execution_count": 84,
   "metadata": {},
   "outputs": [
    {
     "data": {
      "text/plain": [
       "TensorShape([Dimension(None), Dimension(None)])"
      ]
     },
     "execution_count": 84,
     "metadata": {},
     "output_type": "execute_result"
    }
   ],
   "source": [
    "model.layers[-2].output.shape"
   ]
  },
  {
   "cell_type": "code",
   "execution_count": 85,
   "metadata": {},
   "outputs": [
    {
     "data": {
      "text/plain": [
       "4"
      ]
     },
     "execution_count": 85,
     "metadata": {},
     "output_type": "execute_result"
    }
   ],
   "source": [
    "len(cat_inps)"
   ]
  },
  {
   "cell_type": "code",
   "execution_count": 91,
   "metadata": {},
   "outputs": [
    {
     "name": "stdout",
     "output_type": "stream",
     "text": [
      "Epoch 1/10\n",
      "1713/1713 [==============================] - 9s 5ms/step - loss: 0.3695 - acc: 0.8984\n",
      "Epoch 2/10\n",
      "1713/1713 [==============================] - 0s 214us/step - loss: 0.1409 - acc: 0.9720\n",
      "Epoch 3/10\n",
      "1713/1713 [==============================] - 0s 215us/step - loss: 0.1213 - acc: 0.9720\n",
      "Epoch 4/10\n",
      "1713/1713 [==============================] - 0s 213us/step - loss: 0.1119 - acc: 0.9720\n",
      "Epoch 5/10\n",
      "1713/1713 [==============================] - 0s 234us/step - loss: 0.1106 - acc: 0.9720\n",
      "Epoch 6/10\n",
      "1713/1713 [==============================] - 0s 230us/step - loss: 0.1054 - acc: 0.9731\n",
      "Epoch 7/10\n",
      "1713/1713 [==============================] - 0s 254us/step - loss: 0.0949 - acc: 0.9720\n",
      "Epoch 8/10\n",
      "1713/1713 [==============================] - 0s 219us/step - loss: 0.0926 - acc: 0.9702\n",
      "Epoch 9/10\n",
      "1713/1713 [==============================] - 0s 222us/step - loss: 0.0945 - acc: 0.9702\n",
      "Epoch 10/10\n",
      "1713/1713 [==============================] - 0s 212us/step - loss: 0.0915 - acc: 0.9714\n"
     ]
    },
    {
     "data": {
      "text/plain": [
       "<keras.callbacks.History at 0x7efb9f54b400>"
      ]
     },
     "execution_count": 91,
     "metadata": {},
     "output_type": "execute_result"
    }
   ],
   "source": [
    "model.fit(x=[*cat_inps, np.array(df[cont_vars]).reshape(1713, 1, 37)], y=y, epochs=10)"
   ]
  },
  {
   "cell_type": "code",
   "execution_count": null,
   "metadata": {},
   "outputs": [],
   "source": []
  }
 ],
 "metadata": {
  "kernelspec": {
   "display_name": "Python 3",
   "language": "python",
   "name": "python3"
  },
  "language_info": {
   "codemirror_mode": {
    "name": "ipython",
    "version": 3
   },
   "file_extension": ".py",
   "mimetype": "text/x-python",
   "name": "python",
   "nbconvert_exporter": "python",
   "pygments_lexer": "ipython3",
   "version": "3.5.3"
  }
 },
 "nbformat": 4,
 "nbformat_minor": 2
}
