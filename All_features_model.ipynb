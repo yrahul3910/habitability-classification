{
  "nbformat": 4,
  "nbformat_minor": 0,
  "metadata": {
    "colab": {
      "name": "All features model.ipynb",
      "version": "0.3.2",
      "provenance": [],
      "collapsed_sections": []
    },
    "kernelspec": {
      "name": "python3",
      "display_name": "Python 3"
    },
    "accelerator": "GPU"
  },
  "cells": [
    {
      "metadata": {
        "id": "HD3W79xtxZeu",
        "colab_type": "code",
        "outputId": "8a4a0ab0-1dea-4172-e9ec-fa66fad80aee",
        "colab": {
          "base_uri": "https://localhost:8080/",
          "height": 126
        }
      },
      "cell_type": "code",
      "source": [
        "from google.colab import drive\n",
        "drive.mount('/content/gdrive', force_remount=True)\n",
        "root_dir = \"/content/gdrive/My Drive/\""
      ],
      "execution_count": 1,
      "outputs": [
        {
          "output_type": "stream",
          "text": [
            "Go to this URL in a browser: https://accounts.google.com/o/oauth2/auth?client_id=947318989803-6bn6qk8qdgf4n4g3pfee6491hc0brc4i.apps.googleusercontent.com&redirect_uri=urn%3Aietf%3Awg%3Aoauth%3A2.0%3Aoob&scope=email%20https%3A%2F%2Fwww.googleapis.com%2Fauth%2Fdocs.test%20https%3A%2F%2Fwww.googleapis.com%2Fauth%2Fdrive%20https%3A%2F%2Fwww.googleapis.com%2Fauth%2Fdrive.photos.readonly%20https%3A%2F%2Fwww.googleapis.com%2Fauth%2Fpeopleapi.readonly&response_type=code\n",
            "\n",
            "Enter your authorization code:\n",
            "··········\n",
            "Mounted at /content/gdrive\n"
          ],
          "name": "stdout"
        }
      ]
    },
    {
      "metadata": {
        "id": "G45O220Gx1qU",
        "colab_type": "code",
        "colab": {}
      },
      "cell_type": "code",
      "source": [
        "!cp gdrive/\"My Drive\"/dataset-rocky-all-feats.csv ./"
      ],
      "execution_count": 0,
      "outputs": []
    },
    {
      "metadata": {
        "id": "lJ7Zoi1eyMo-",
        "colab_type": "code",
        "colab": {}
      },
      "cell_type": "code",
      "source": [
        "from fastai import *\n",
        "from fastai.tabular import *"
      ],
      "execution_count": 0,
      "outputs": []
    },
    {
      "metadata": {
        "id": "Mzf_SPnvyn7i",
        "colab_type": "code",
        "colab": {}
      },
      "cell_type": "code",
      "source": [
        "from fastai.basics import *"
      ],
      "execution_count": 0,
      "outputs": []
    },
    {
      "metadata": {
        "id": "ixy4vnCHyPwr",
        "colab_type": "code",
        "colab": {}
      },
      "cell_type": "code",
      "source": [
        "df = pd.read_csv('dataset-rocky-all-feats.csv')"
      ],
      "execution_count": 0,
      "outputs": []
    },
    {
      "metadata": {
        "id": "nucsoiASynDD",
        "colab_type": "code",
        "outputId": "bf7c65fc-6d1c-45c9-cb37-685deee03452",
        "colab": {
          "base_uri": "https://localhost:8080/",
          "height": 928
        }
      },
      "cell_type": "code",
      "source": [
        "df.info()"
      ],
      "execution_count": 166,
      "outputs": [
        {
          "output_type": "stream",
          "text": [
            "<class 'pandas.core.frame.DataFrame'>\n",
            "RangeIndex: 1713 entries, 0 to 1712\n",
            "Data columns (total 46 columns):\n",
            "hab_lbl                      1713 non-null int64\n",
            "P. Zone Class                1713 non-null int64\n",
            "P. Mass Class                1713 non-null int64\n",
            "P. Composition Class         1713 non-null int64\n",
            "P. Atmosphere Class          1713 non-null int64\n",
            "P. Min Mass (EU)             1713 non-null float64\n",
            "P. Mass (EU)                 1713 non-null float64\n",
            "P. Radius (EU)               1713 non-null float64\n",
            "P. Density (EU)              1713 non-null float64\n",
            "P. Gravity (EU)              1713 non-null float64\n",
            "P. Esc Vel (EU)              1713 non-null float64\n",
            "P. SFlux Min (EU)            1713 non-null float64\n",
            "P. SFlux Mean (EU)           1713 non-null float64\n",
            "P. SFlux Max (EU)            1713 non-null float64\n",
            "P. Teq Min (K)               1713 non-null float64\n",
            "P. Teq Mean (K)              1713 non-null float64\n",
            "P. Teq Max (K)               1713 non-null float64\n",
            "P. Ts Min (K)                1713 non-null float64\n",
            "P. Ts Mean (K)               1713 non-null float64\n",
            "P. Ts Max (K)                1713 non-null float64\n",
            "P. Surf Press (EU)           1713 non-null float64\n",
            "P. Mag                       1713 non-null float64\n",
            "P. Appar Size (deg)          1713 non-null float64\n",
            "P. Period (days)             1713 non-null float64\n",
            "P. Sem Major Axis (AU)       1713 non-null float64\n",
            "P. Eccentricity              1713 non-null float64\n",
            "P. Mean Distance (AU)        1713 non-null float64\n",
            "P. Inclination (deg)         1713 non-null float64\n",
            "P. Omega (deg)               1713 non-null float64\n",
            "S. Mass (SU)                 1713 non-null float64\n",
            "S. Radius (SU)               1713 non-null float64\n",
            "S. Teff (K)                  1713 non-null float64\n",
            "S. Luminosity (SU)           1713 non-null float64\n",
            "S. [Fe/H]                    1713 non-null float64\n",
            "S. Age (Gyrs)                1713 non-null float64\n",
            "S. Appar Mag                 1713 non-null float64\n",
            "S. Mag from Planet           1713 non-null float64\n",
            "S. Size from Planet (deg)    1713 non-null float64\n",
            "S. Hab Zone Min (AU)         1713 non-null float64\n",
            "S. Hab Zone Max (AU)         1713 non-null float64\n",
            "P. HZD                       1713 non-null float64\n",
            "P. HZC                       1713 non-null float64\n",
            "P. HZA                       1713 non-null float64\n",
            "P. HZI                       1713 non-null float64\n",
            "P. ESI                       1713 non-null float64\n",
            "P. Habitable                 1713 non-null int64\n",
            "dtypes: float64(40), int64(6)\n",
            "memory usage: 615.7 KB\n"
          ],
          "name": "stdout"
        }
      ]
    },
    {
      "metadata": {
        "id": "KU8b9OhX-A6p",
        "colab_type": "code",
        "colab": {}
      },
      "cell_type": "code",
      "source": [
        "df = df.drop('P. Habitable', axis=1)"
      ],
      "execution_count": 0,
      "outputs": []
    },
    {
      "metadata": {
        "id": "YcSOXMtVzDk-",
        "colab_type": "code",
        "outputId": "87bb321a-523a-4edd-ea67-77933c2b2072",
        "colab": {
          "base_uri": "https://localhost:8080/",
          "height": 325
        }
      },
      "cell_type": "code",
      "source": [
        "df.head()"
      ],
      "execution_count": 168,
      "outputs": [
        {
          "output_type": "execute_result",
          "data": {
            "text/html": [
              "<div>\n",
              "<style scoped>\n",
              "    .dataframe tbody tr th:only-of-type {\n",
              "        vertical-align: middle;\n",
              "    }\n",
              "\n",
              "    .dataframe tbody tr th {\n",
              "        vertical-align: top;\n",
              "    }\n",
              "\n",
              "    .dataframe thead th {\n",
              "        text-align: right;\n",
              "    }\n",
              "</style>\n",
              "<table border=\"1\" class=\"dataframe\">\n",
              "  <thead>\n",
              "    <tr style=\"text-align: right;\">\n",
              "      <th></th>\n",
              "      <th>hab_lbl</th>\n",
              "      <th>P. Zone Class</th>\n",
              "      <th>P. Mass Class</th>\n",
              "      <th>P. Composition Class</th>\n",
              "      <th>P. Atmosphere Class</th>\n",
              "      <th>P. Min Mass (EU)</th>\n",
              "      <th>P. Mass (EU)</th>\n",
              "      <th>P. Radius (EU)</th>\n",
              "      <th>P. Density (EU)</th>\n",
              "      <th>P. Gravity (EU)</th>\n",
              "      <th>...</th>\n",
              "      <th>S. Appar Mag</th>\n",
              "      <th>S. Mag from Planet</th>\n",
              "      <th>S. Size from Planet (deg)</th>\n",
              "      <th>S. Hab Zone Min (AU)</th>\n",
              "      <th>S. Hab Zone Max (AU)</th>\n",
              "      <th>P. HZD</th>\n",
              "      <th>P. HZC</th>\n",
              "      <th>P. HZA</th>\n",
              "      <th>P. HZI</th>\n",
              "      <th>P. ESI</th>\n",
              "    </tr>\n",
              "  </thead>\n",
              "  <tbody>\n",
              "    <tr>\n",
              "      <th>0</th>\n",
              "      <td>0</td>\n",
              "      <td>2</td>\n",
              "      <td>2</td>\n",
              "      <td>2</td>\n",
              "      <td>2</td>\n",
              "      <td>18.217914</td>\n",
              "      <td>8.10</td>\n",
              "      <td>1.99</td>\n",
              "      <td>1.03</td>\n",
              "      <td>2.05</td>\n",
              "      <td>...</td>\n",
              "      <td>6.0</td>\n",
              "      <td>-35.2</td>\n",
              "      <td>33.0178</td>\n",
              "      <td>0.591</td>\n",
              "      <td>1.419</td>\n",
              "      <td>-2.39</td>\n",
              "      <td>0.06</td>\n",
              "      <td>-0.81</td>\n",
              "      <td>0.28</td>\n",
              "      <td>0.26</td>\n",
              "    </tr>\n",
              "    <tr>\n",
              "      <th>1</th>\n",
              "      <td>0</td>\n",
              "      <td>2</td>\n",
              "      <td>2</td>\n",
              "      <td>3</td>\n",
              "      <td>2</td>\n",
              "      <td>5.090000</td>\n",
              "      <td>5.09</td>\n",
              "      <td>1.66</td>\n",
              "      <td>1.10</td>\n",
              "      <td>1.84</td>\n",
              "      <td>...</td>\n",
              "      <td>4.7</td>\n",
              "      <td>-32.9</td>\n",
              "      <td>10.0643</td>\n",
              "      <td>0.656</td>\n",
              "      <td>1.556</td>\n",
              "      <td>-2.35</td>\n",
              "      <td>-0.15</td>\n",
              "      <td>-0.69</td>\n",
              "      <td>0.29</td>\n",
              "      <td>0.27</td>\n",
              "    </tr>\n",
              "    <tr>\n",
              "      <th>2</th>\n",
              "      <td>0</td>\n",
              "      <td>2</td>\n",
              "      <td>4</td>\n",
              "      <td>3</td>\n",
              "      <td>3</td>\n",
              "      <td>1.140000</td>\n",
              "      <td>1.14</td>\n",
              "      <td>1.09</td>\n",
              "      <td>0.89</td>\n",
              "      <td>0.97</td>\n",
              "      <td>...</td>\n",
              "      <td>1.3</td>\n",
              "      <td>-33.0</td>\n",
              "      <td>11.5197</td>\n",
              "      <td>0.545</td>\n",
              "      <td>1.306</td>\n",
              "      <td>-2.33</td>\n",
              "      <td>-0.17</td>\n",
              "      <td>-1.12</td>\n",
              "      <td>0.28</td>\n",
              "      <td>0.30</td>\n",
              "    </tr>\n",
              "    <tr>\n",
              "      <th>3</th>\n",
              "      <td>0</td>\n",
              "      <td>2</td>\n",
              "      <td>2</td>\n",
              "      <td>3</td>\n",
              "      <td>2</td>\n",
              "      <td>11.770000</td>\n",
              "      <td>16.31</td>\n",
              "      <td>2.23</td>\n",
              "      <td>1.47</td>\n",
              "      <td>3.28</td>\n",
              "      <td>...</td>\n",
              "      <td>11.0</td>\n",
              "      <td>-29.7</td>\n",
              "      <td>2.0522</td>\n",
              "      <td>0.694</td>\n",
              "      <td>1.636</td>\n",
              "      <td>-1.96</td>\n",
              "      <td>-0.13</td>\n",
              "      <td>0.61</td>\n",
              "      <td>0.33</td>\n",
              "      <td>0.33</td>\n",
              "    </tr>\n",
              "    <tr>\n",
              "      <th>4</th>\n",
              "      <td>0</td>\n",
              "      <td>2</td>\n",
              "      <td>2</td>\n",
              "      <td>3</td>\n",
              "      <td>2</td>\n",
              "      <td>8.580000</td>\n",
              "      <td>8.58</td>\n",
              "      <td>1.91</td>\n",
              "      <td>1.23</td>\n",
              "      <td>2.35</td>\n",
              "      <td>...</td>\n",
              "      <td>6.7</td>\n",
              "      <td>-33.4</td>\n",
              "      <td>20.5046</td>\n",
              "      <td>0.735</td>\n",
              "      <td>1.832</td>\n",
              "      <td>-2.26</td>\n",
              "      <td>-0.14</td>\n",
              "      <td>-0.54</td>\n",
              "      <td>0.30</td>\n",
              "      <td>0.26</td>\n",
              "    </tr>\n",
              "  </tbody>\n",
              "</table>\n",
              "<p>5 rows × 45 columns</p>\n",
              "</div>"
            ],
            "text/plain": [
              "   hab_lbl  P. Zone Class  P. Mass Class  P. Composition Class  \\\n",
              "0        0              2              2                     2   \n",
              "1        0              2              2                     3   \n",
              "2        0              2              4                     3   \n",
              "3        0              2              2                     3   \n",
              "4        0              2              2                     3   \n",
              "\n",
              "   P. Atmosphere Class  P. Min Mass (EU)  P. Mass (EU)  P. Radius (EU)  \\\n",
              "0                    2         18.217914          8.10            1.99   \n",
              "1                    2          5.090000          5.09            1.66   \n",
              "2                    3          1.140000          1.14            1.09   \n",
              "3                    2         11.770000         16.31            2.23   \n",
              "4                    2          8.580000          8.58            1.91   \n",
              "\n",
              "   P. Density (EU)  P. Gravity (EU)   ...    S. Appar Mag  S. Mag from Planet  \\\n",
              "0             1.03             2.05   ...             6.0               -35.2   \n",
              "1             1.10             1.84   ...             4.7               -32.9   \n",
              "2             0.89             0.97   ...             1.3               -33.0   \n",
              "3             1.47             3.28   ...            11.0               -29.7   \n",
              "4             1.23             2.35   ...             6.7               -33.4   \n",
              "\n",
              "   S. Size from Planet (deg)  S. Hab Zone Min (AU)  S. Hab Zone Max (AU)  \\\n",
              "0                    33.0178                 0.591                 1.419   \n",
              "1                    10.0643                 0.656                 1.556   \n",
              "2                    11.5197                 0.545                 1.306   \n",
              "3                     2.0522                 0.694                 1.636   \n",
              "4                    20.5046                 0.735                 1.832   \n",
              "\n",
              "   P. HZD  P. HZC  P. HZA  P. HZI  P. ESI  \n",
              "0   -2.39    0.06   -0.81    0.28    0.26  \n",
              "1   -2.35   -0.15   -0.69    0.29    0.27  \n",
              "2   -2.33   -0.17   -1.12    0.28    0.30  \n",
              "3   -1.96   -0.13    0.61    0.33    0.33  \n",
              "4   -2.26   -0.14   -0.54    0.30    0.26  \n",
              "\n",
              "[5 rows x 45 columns]"
            ]
          },
          "metadata": {
            "tags": []
          },
          "execution_count": 168
        }
      ]
    },
    {
      "metadata": {
        "id": "lhbheYxtzciR",
        "colab_type": "code",
        "colab": {}
      },
      "cell_type": "code",
      "source": [
        "cat_vars = df.columns[np.where(df.dtypes == 'int64')]"
      ],
      "execution_count": 0,
      "outputs": []
    },
    {
      "metadata": {
        "id": "hZRILmuL0JmB",
        "colab_type": "code",
        "colab": {}
      },
      "cell_type": "code",
      "source": [
        "cat_vars = cat_vars.tolist()\n",
        "cat_vars.remove('hab_lbl')"
      ],
      "execution_count": 0,
      "outputs": []
    },
    {
      "metadata": {
        "id": "qsz_dZ7C0Sfx",
        "colab_type": "code",
        "outputId": "55a08eea-ed55-4966-b8af-70fe3135cc57",
        "colab": {
          "base_uri": "https://localhost:8080/",
          "height": 88
        }
      },
      "cell_type": "code",
      "source": [
        "cat_vars"
      ],
      "execution_count": 171,
      "outputs": [
        {
          "output_type": "execute_result",
          "data": {
            "text/plain": [
              "['P. Zone Class',\n",
              " 'P. Mass Class',\n",
              " 'P. Composition Class',\n",
              " 'P. Atmosphere Class']"
            ]
          },
          "metadata": {
            "tags": []
          },
          "execution_count": 171
        }
      ]
    },
    {
      "metadata": {
        "id": "dsN1eq_I0fos",
        "colab_type": "code",
        "colab": {}
      },
      "cell_type": "code",
      "source": [
        "cont_vars = df.columns[np.where(df.dtypes == 'float64')]"
      ],
      "execution_count": 0,
      "outputs": []
    },
    {
      "metadata": {
        "id": "fBc55zA_0mu6",
        "colab_type": "code",
        "colab": {}
      },
      "cell_type": "code",
      "source": [
        "cont_vars = cont_vars.tolist()"
      ],
      "execution_count": 0,
      "outputs": []
    },
    {
      "metadata": {
        "id": "76JTEuzO0o_Y",
        "colab_type": "code",
        "outputId": "7e143f51-d0de-4955-f012-2b67978740c5",
        "colab": {
          "base_uri": "https://localhost:8080/",
          "height": 35
        }
      },
      "cell_type": "code",
      "source": [
        "len(cont_vars) + len(cat_vars)"
      ],
      "execution_count": 174,
      "outputs": [
        {
          "output_type": "execute_result",
          "data": {
            "text/plain": [
              "44"
            ]
          },
          "metadata": {
            "tags": []
          },
          "execution_count": 174
        }
      ]
    },
    {
      "metadata": {
        "id": "hxyfrKy5yy3D",
        "colab_type": "code",
        "colab": {}
      },
      "cell_type": "code",
      "source": [
        "procs = [Normalize, Categorify]"
      ],
      "execution_count": 0,
      "outputs": []
    },
    {
      "metadata": {
        "id": "rQi8-sq-y2cx",
        "colab_type": "code",
        "colab": {}
      },
      "cell_type": "code",
      "source": [
        "data = (TabularList.from_df(df, cat_names=cat_vars, cont_names=cont_vars, procs=procs)\n",
        "                   .random_split_by_pct(0.2)\n",
        "                   .label_from_df(cols='hab_lbl')\n",
        "                   .databunch())"
      ],
      "execution_count": 0,
      "outputs": []
    },
    {
      "metadata": {
        "id": "4VzWgfFb6km2",
        "colab_type": "code",
        "outputId": "e11ac61f-8945-4cd1-a8dd-87cebffda38c",
        "colab": {
          "base_uri": "https://localhost:8080/",
          "height": 341
        }
      },
      "cell_type": "code",
      "source": [
        "data"
      ],
      "execution_count": 177,
      "outputs": [
        {
          "output_type": "execute_result",
          "data": {
            "text/plain": [
              "TabularDataBunch;\n",
              "\n",
              "Train: LabelList (1371 items)\n",
              "x: TabularList\n",
              "P. Zone Class 2; P. Mass Class 2; P. Composition Class 2; P. Atmosphere Class 2; P. Min Mass (EU) 0.0067; P. Mass (EU) -0.0491; P. Radius (EU) 0.6163; P. Density (EU) -0.0620; P. Gravity (EU) -0.0429; P. Esc Vel (EU) 0.0973; P. SFlux Min (EU) 0.0666; P. SFlux Mean (EU) 0.0733; P. SFlux Max (EU) 0.0804; P. Teq Min (K) 2.1388; P. Teq Mean (K) 2.1911; P. Teq Max (K) 2.2399; P. Ts Min (K) 2.1503; P. Ts Mean (K) 2.2028; P. Ts Max (K) 2.2519; P. Surf Press (EU) -0.0312; P. Mag -1.9904; P. Appar Size (deg) 0.6131; P. Period (days) -0.0943; P. Sem Major Axis (AU) -0.3470; P. Eccentricity 0.2822; P. Mean Distance (AU) -0.3377; P. Inclination (deg) 1.6485; P. Omega (deg) 3.9863; S. Mass (SU) 0.1374; S. Radius (SU) 0.1169; S. Teff (K) -0.1141; S. Luminosity (SU) -0.2909; S. [Fe/H] 2.7965; S. Age (Gyrs) 4.5352; S. Appar Mag -4.0650; S. Mag from Planet -1.7242; S. Size from Planet (deg) 3.8426; S. Hab Zone Min (AU) -0.1402; S. Hab Zone Max (AU) -0.1209; P. HZD -0.1474; P. HZC 1.3971; P. HZA -0.4927; P. HZI -0.5409; P. ESI -0.6094; ,P. Zone Class 2; P. Mass Class 2; P. Composition Class 3; P. Atmosphere Class 2; P. Min Mass (EU) -0.5385; P. Mass (EU) -0.1069; P. Radius (EU) -0.0476; P. Density (EU) -0.0493; P. Gravity (EU) -0.0615; P. Esc Vel (EU) -0.1294; P. SFlux Min (EU) -0.0408; P. SFlux Mean (EU) -0.0377; P. SFlux Max (EU) -0.0336; P. Teq Min (K) 0.3751; P. Teq Mean (K) 0.4996; P. Teq Max (K) 0.6502; P. Ts Min (K) 0.3767; P. Ts Mean (K) 0.5014; P. Ts Max (K) 0.6525; P. Surf Press (EU) -0.0315; P. Mag -0.7462; P. Appar Size (deg) -0.0430; P. Period (days) -0.0824; P. Sem Major Axis (AU) -0.2317; P. Eccentricity 1.8265; P. Mean Distance (AU) -0.2359; P. Inclination (deg) -0.0677; P. Omega (deg) 2.3956; S. Mass (SU) 0.3059; S. Radius (SU) 0.1169; S. Teff (K) 0.1720; S. Luminosity (SU) -0.1659; S. [Fe/H] 0.7732; S. Age (Gyrs) 3.6049; S. Appar Mag -4.7490; S. Mag from Planet -0.6764; S. Size from Planet (deg) 0.3606; S. Hab Zone Min (AU) 0.0505; S. Hab Zone Max (AU) 0.0540; P. HZD -0.1355; P. HZC -0.0644; P. HZA -0.3754; P. HZI -0.3552; P. ESI -0.5144; ,P. Zone Class 2; P. Mass Class 4; P. Composition Class 3; P. Atmosphere Class 3; P. Min Mass (EU) -0.7025; P. Mass (EU) -0.1829; P. Radius (EU) -1.1943; P. Density (EU) -0.0874; P. Gravity (EU) -0.1384; P. Esc Vel (EU) -0.7338; P. SFlux Min (EU) -0.0370; P. SFlux Mean (EU) -0.0371; P. SFlux Max (EU) -0.0373; P. Teq Min (K) 0.5375; P. Teq Mean (K) 0.5309; P. Teq Max (K) 0.5191; P. Ts Min (K) 0.5228; P. Ts Mean (K) 0.5162; P. Ts Max (K) 0.5043; P. Surf Press (EU) -0.0321; P. Mag -0.3330; P. Appar Size (deg) -1.2070; P. Period (days) -0.0857; P. Sem Major Axis (AU) -0.2655; P. Eccentricity -0.2325; P. Mean Distance (AU) -0.2699; P. Inclination (deg) -0.0677; P. Omega (deg) -0.1739; S. Mass (SU) 0.2216; S. Radius (SU) -0.1430; S. Teff (K) -0.0987; S. Luminosity (SU) -0.3590; S. [Fe/H] 0.0270; S. Age (Gyrs) 0.0232; S. Appar Mag -6.5381; S. Mag from Planet -0.7220; S. Size from Planet (deg) 0.5813; S. Hab Zone Min (AU) -0.2751; S. Hab Zone Max (AU) -0.2652; P. HZD -0.1296; P. HZC -0.2036; P. HZA -0.7960; P. HZI -0.5409; P. ESI -0.2294; ,P. Zone Class 2; P. Mass Class 2; P. Composition Class 3; P. Atmosphere Class 2; P. Min Mass (EU) -0.2611; P. Mass (EU) 0.1087; P. Radius (EU) 1.0992; P. Density (EU) 0.0177; P. Gravity (EU) 0.0659; P. Esc Vel (EU) 0.6765; P. SFlux Min (EU) -0.0522; P. SFlux Mean (EU) -0.0523; P. SFlux Max (EU) -0.0525; P. Teq Min (K) -0.7680; P. Teq Mean (K) -0.7770; P. Teq Max (K) -0.7901; P. Ts Min (K) -0.7561; P. Ts Mean (K) -0.7650; P. Ts Max (K) -0.7782; P. Surf Press (EU) -0.0294; P. Mag 0.4841; P. Appar Size (deg) 1.0999; P. Period (days) 0.0463; P. Sem Major Axis (AU) 0.4000; P. Eccentricity -0.2325; P. Mean Distance (AU) 0.4088; P. Inclination (deg) 1.5851; P. Omega (deg) -0.1739; S. Mass (SU) 0.3480; S. Radius (SU) 0.0844; S. Teff (K) 0.3728; S. Luminosity (SU) -0.0786; S. [Fe/H] -0.1120; S. Age (Gyrs) -0.6116; S. Appar Mag -1.4340; S. Mag from Planet 0.7814; S. Size from Planet (deg) -0.8548; S. Hab Zone Min (AU) 0.1619; S. Hab Zone Max (AU) 0.1562; P. HZD -0.0198; P. HZC 0.0748; P. HZA 0.8962; P. HZI 0.3878; P. ESI 0.0556; ,P. Zone Class 2; P. Mass Class 4; P. Composition Class 3; P. Atmosphere Class 2; P. Min Mass (EU) -0.7428; P. Mass (EU) -0.1137; P. Radius (EU) -0.3292; P. Density (EU) -0.0059; P. Gravity (EU) -0.0438; P. Esc Vel (EU) -0.1210; P. SFlux Min (EU) 0.0225; P. SFlux Mean (EU) 0.0423; P. SFlux Max (EU) 0.0690; P. Teq Min (K) 1.6992; P. Teq Mean (K) 1.9020; P. Teq Max (K) 2.1479; P. Ts Min (K) 1.7065; P. Ts Mean (K) 1.9100; P. Ts Max (K) 2.1568; P. Surf Press (EU) -0.0314; P. Mag -1.5819; P. Appar Size (deg) -0.3287; P. Period (days) -0.0939; P. Sem Major Axis (AU) -0.3410; P. Eccentricity 1.8265; P. Mean Distance (AU) -0.3377; P. Inclination (deg) -4.3715; P. Omega (deg) -0.1739; S. Mass (SU) 0.2216; S. Radius (SU) -0.1106; S. Teff (K) -0.0142; S. Luminosity (SU) -0.3224; S. [Fe/H] 1.0261; S. Age (Gyrs) -1.9922; S. Appar Mag -1.0656; S. Mag from Planet -1.5875; S. Size from Planet (deg) 2.9922; S. Hab Zone Min (AU) -0.2105; S. Hab Zone Max (AU) -0.2026; P. HZD -0.1503; P. HZC -1.6652; P. HZA -0.5808; P. HZI -0.5409; P. ESI -0.4194; \n",
              "y: CategoryList\n",
              "0,0,0,0,0\n",
              "Path: .;\n",
              "\n",
              "Valid: LabelList (342 items)\n",
              "x: TabularList\n",
              "P. Zone Class 2; P. Mass Class 4; P. Composition Class 3; P. Atmosphere Class 3; P. Min Mass (EU) 0.0067; P. Mass (EU) -0.1877; P. Radius (EU) -1.3553; P. Density (EU) -0.0910; P. Gravity (EU) -0.1464; P. Esc Vel (EU) -0.8094; P. SFlux Min (EU) -0.0404; P. SFlux Mean (EU) -0.0405; P. SFlux Max (EU) -0.0407; P. Teq Min (K) 0.3951; P. Teq Mean (K) 0.3882; P. Teq Max (K) 0.3762; P. Ts Min (K) 0.3771; P. Ts Mean (K) 0.3702; P. Ts Max (K) 0.3582; P. Surf Press (EU) -0.0321; P. Mag -0.1333; P. Appar Size (deg) -1.3551; P. Period (days) -0.0836; P. Sem Major Axis (AU) -0.2453; P. Eccentricity -0.2325; P. Mean Distance (AU) -0.2359; P. Inclination (deg) -0.0677; P. Omega (deg) -0.1739; S. Mass (SU) 0.0109; S. Radius (SU) -0.2080; S. Teff (K) 0.0132; S. Luminosity (SU) -0.3414; S. [Fe/H] 0.0270; S. Age (Gyrs) 0.3937; S. Appar Mag -0.0132; S. Mag from Planet -0.5853; S. Size from Planet (deg) 0.3082; S. Hab Zone Min (AU) -0.2516; S. Hab Zone Max (AU) -0.2473; P. HZD -0.1266; P. HZC -0.2036; P. HZA -0.8351; P. HZI -0.5409; P. ESI -0.2294; ,P. Zone Class 2; P. Mass Class 4; P. Composition Class 3; P. Atmosphere Class 2; P. Min Mass (EU) 0.0067; P. Mass (EU) -0.1592; P. Radius (EU) -0.6913; P. Density (EU) -0.0729; P. Gravity (EU) -0.1084; P. Esc Vel (EU) -0.4820; P. SFlux Min (EU) -0.0328; P. SFlux Mean (EU) -0.0329; P. SFlux Max (EU) -0.0331; P. Teq Min (K) 0.6836; P. Teq Mean (K) 0.6773; P. Teq Max (K) 0.6656; P. Ts Min (K) 0.6775; P. Ts Mean (K) 0.6712; P. Ts Max (K) 0.6594; P. Surf Press (EU) -0.0319; P. Mag -0.6673; P. Appar Size (deg) -0.6885; P. Period (days) -0.0878; P. Sem Major Axis (AU) -0.2788; P. Eccentricity -0.2325; P. Mean Distance (AU) -0.2699; P. Inclination (deg) -0.0677; P. Omega (deg) -0.1739; S. Mass (SU) -0.1155; S. Radius (SU) -0.3055; S. Teff (K) 0.0695; S. Luminosity (SU) -0.3508; S. [Fe/H] 0.4381; S. Age (Gyrs) 0.0232; S. Appar Mag 0.0118; S. Mag from Planet -0.8131; S. Size from Planet (deg) 0.6561; S. Hab Zone Min (AU) -0.2751; S. Hab Zone Max (AU) -0.2767; P. HZD -0.1355; P. HZC -0.1340; P. HZA -0.6492; P. HZI -0.5409; P. ESI -0.3244; ,P. Zone Class 2; P. Mass Class 4; P. Composition Class 3; P. Atmosphere Class 2; P. Min Mass (EU) 0.0067; P. Mass (EU) -0.1321; P. Radius (EU) -0.3091; P. Density (EU) -0.0584; P. Gravity (EU) -0.0818; P. Esc Vel (EU) -0.2805; P. SFlux Min (EU) 0.0068; P. SFlux Mean (EU) 0.0067; P. SFlux Max (EU) 0.0065; P. Teq Min (K) 1.4944; P. Teq Mean (K) 1.4895; P. Teq Max (K) 1.4785; P. Ts Min (K) 1.4963; P. Ts Mean (K) 1.4914; P. Ts Max (K) 1.4805; P. Surf Press (EU) -0.0317; P. Mag -1.3497; P. Appar Size (deg) -0.2969; P. Period (days) -0.0863; P. Sem Major Axis (AU) -0.2536; P. Eccentricity -0.2325; P. Mean Distance (AU) -0.2699; P. Inclination (deg) -0.0677; P. Omega (deg) -0.1739; S. Mass (SU) 1.2751; S. Radius (SU) 1.2217; S. Teff (K) 0.7546; S. Luminosity (SU) 0.9624; S. [Fe/H] 0.0270; S. Age (Gyrs) -1.0993; S. Appar Mag 0.5656; S. Mag from Planet -1.3597; S. Size from Planet (deg) 1.2172; S. Hab Zone Min (AU) 1.2997; S. Hab Zone Max (AU) 1.2889; P. HZD -0.1622; P. HZC -0.0644; P. HZA -0.6199; P. HZI -0.5409; P. ESI -0.4194; ,P. Zone Class 2; P. Mass Class 2; P. Composition Class 3; P. Atmosphere Class 2; P. Min Mass (EU) 0.0067; P. Mass (EU) -0.0929; P. Radius (EU) 0.0732; P. Density (EU) -0.0439; P. Gravity (EU) -0.0517; P. Esc Vel (EU) -0.0538; P. SFlux Min (EU) -0.0518; P. SFlux Mean (EU) -0.0519; P. SFlux Max (EU) -0.0522; P. Teq Min (K) -0.6497; P. Teq Mean (K) -0.6584; P. Teq Max (K) -0.6714; P. Ts Min (K) -0.6500; P. Ts Mean (K) -0.6587; P. Ts Max (K) -0.6718; P. Surf Press (EU) -0.0314; P. Mag 0.5398; P. Appar Size (deg) 0.0840; P. Period (days) -0.0403; P. Sem Major Axis (AU) -0.0168; P. Eccentricity -0.2325; P. Mean Distance (AU) 0.0016; P. Inclination (deg) -0.0677; P. Omega (deg) -0.1739; S. Mass (SU) -0.5369; S. Radius (SU) -0.5979; S. Teff (K) -0.2884; S. Luminosity (SU) -0.5189; S. [Fe/H] 0.0270; S. Age (Gyrs) 0.7313; S. Appar Mag 1.1444; S. Mag from Planet 0.5991; S. Size from Planet (deg) -0.6604; S. Hab Zone Min (AU) -0.6387; S. Hab Zone Max (AU) -0.6330; P. HZD -0.0376; P. HZC -0.0644; P. HZA 0.0843; P. HZI 0.3878; P. ESI 0.0556; ,P. Zone Class 2; P. Mass Class 2; P. Composition Class 3; P. Atmosphere Class 1; P. Min Mass (EU) 0.0067; P. Mass (EU) 0.1865; P. Radius (EU) 1.3406; P. Density (EU) 0.0358; P. Gravity (EU) 0.1013; P. Esc Vel (EU) 0.8696; P. SFlux Min (EU) -0.0527; P. SFlux Mean (EU) -0.0528; P. SFlux Max (EU) -0.0530; P. Teq Min (K) -1.0142; P. Teq Mean (K) -1.0236; P. Teq Max (K) -1.0369; P. Ts Min (K) -1.0003; P. Ts Mean (K) -1.0097; P. Ts Max (K) -1.0231; P. Surf Press (EU) -0.0285; P. Mag 0.9159; P. Appar Size (deg) 1.3432; P. Period (days) 0.1190; P. Sem Major Axis (AU) 0.5802; P. Eccentricity -0.2325; P. Mean Distance (AU) 0.6124; P. Inclination (deg) -0.0677; P. Omega (deg) -0.1739; S. Mass (SU) -0.0312; S. Radius (SU) -0.2405; S. Teff (K) -0.0270; S. Luminosity (SU) -0.3645; S. [Fe/H] 0.0270; S. Age (Gyrs) 0.3112; S. Appar Mag 0.9340; S. Mag from Planet 1.2825; S. Size from Planet (deg) -0.9390; S. Hab Zone Min (AU) -0.2956; S. Hab Zone Max (AU) -0.2895; P. HZD 0.0722; P. HZC 0.1444; P. HZA 1.4243; P. HZI 0.3878; P. ESI 1.0057; \n",
              "y: CategoryList\n",
              "0,0,0,0,0\n",
              "Path: .;\n",
              "\n",
              "Test: None"
            ]
          },
          "metadata": {
            "tags": []
          },
          "execution_count": 177
        }
      ]
    },
    {
      "metadata": {
        "id": "TUuQEapXCRVT",
        "colab_type": "code",
        "outputId": "6cb534d3-1aa7-4fc4-daa8-f3d0f355b3c2",
        "colab": {
          "base_uri": "https://localhost:8080/",
          "height": 88
        }
      },
      "cell_type": "code",
      "source": [
        "data.cat_names"
      ],
      "execution_count": 178,
      "outputs": [
        {
          "output_type": "execute_result",
          "data": {
            "text/plain": [
              "['P. Zone Class',\n",
              " 'P. Mass Class',\n",
              " 'P. Composition Class',\n",
              " 'P. Atmosphere Class']"
            ]
          },
          "metadata": {
            "tags": []
          },
          "execution_count": 178
        }
      ]
    },
    {
      "metadata": {
        "id": "77VJQwROCipS",
        "colab_type": "code",
        "outputId": "f60a2d58-b0fd-4dd3-f464-1cf8d1a43275",
        "colab": {
          "base_uri": "https://localhost:8080/",
          "height": 35
        }
      },
      "cell_type": "code",
      "source": [
        "data.classes"
      ],
      "execution_count": 179,
      "outputs": [
        {
          "output_type": "execute_result",
          "data": {
            "text/plain": [
              "[0, 1, 2]"
            ]
          },
          "metadata": {
            "tags": []
          },
          "execution_count": 179
        }
      ]
    },
    {
      "metadata": {
        "id": "aX6C1FxO1PlK",
        "colab_type": "code",
        "colab": {}
      },
      "cell_type": "code",
      "source": [
        "# We want more than just L2, which is provided by fastai by default. So ps and \n",
        "# emb_drop adds dropout regularization\n",
        "learn = tabular_learner(data, layers=[1000,500], ps=[0.01,0.1], emb_drop=0.04, metrics=fastai.basics.accuracy)"
      ],
      "execution_count": 0,
      "outputs": []
    },
    {
      "metadata": {
        "id": "oiLvh4BF5URa",
        "colab_type": "code",
        "outputId": "fff97267-093a-4db9-8ba8-15b4ecbb81bd",
        "colab": {
          "base_uri": "https://localhost:8080/",
          "height": 392
        }
      },
      "cell_type": "code",
      "source": [
        "learn.model"
      ],
      "execution_count": 195,
      "outputs": [
        {
          "output_type": "execute_result",
          "data": {
            "text/plain": [
              "TabularModel(\n",
              "  (embeds): ModuleList(\n",
              "    (0): Embedding(5, 4)\n",
              "    (1): Embedding(7, 5)\n",
              "    (2): Embedding(3, 3)\n",
              "    (3): Embedding(5, 4)\n",
              "  )\n",
              "  (emb_drop): Dropout(p=0.04)\n",
              "  (bn_cont): BatchNorm1d(40, eps=1e-05, momentum=0.1, affine=True, track_running_stats=True)\n",
              "  (layers): Sequential(\n",
              "    (0): Linear(in_features=56, out_features=1000, bias=True)\n",
              "    (1): ReLU(inplace)\n",
              "    (2): BatchNorm1d(1000, eps=1e-05, momentum=0.1, affine=True, track_running_stats=True)\n",
              "    (3): Dropout(p=0.01)\n",
              "    (4): Linear(in_features=1000, out_features=500, bias=True)\n",
              "    (5): ReLU(inplace)\n",
              "    (6): BatchNorm1d(500, eps=1e-05, momentum=0.1, affine=True, track_running_stats=True)\n",
              "    (7): Dropout(p=0.1)\n",
              "    (8): Linear(in_features=500, out_features=3, bias=True)\n",
              "  )\n",
              ")"
            ]
          },
          "metadata": {
            "tags": []
          },
          "execution_count": 195
        }
      ]
    },
    {
      "metadata": {
        "id": "2A3kDRyo5WmB",
        "colab_type": "code",
        "outputId": "3865ddb7-6b8e-45b1-e482-2f6699fdc333",
        "colab": {
          "base_uri": "https://localhost:8080/",
          "height": 35
        }
      },
      "cell_type": "code",
      "source": [
        "learn.lr_find()"
      ],
      "execution_count": 196,
      "outputs": [
        {
          "output_type": "display_data",
          "data": {
            "text/html": [
              ""
            ],
            "text/plain": [
              "<IPython.core.display.HTML object>"
            ]
          },
          "metadata": {
            "tags": []
          }
        },
        {
          "output_type": "stream",
          "text": [
            "LR Finder is complete, type {learner_name}.recorder.plot() to see the graph.\n"
          ],
          "name": "stdout"
        }
      ]
    },
    {
      "metadata": {
        "id": "7CKWfi_x5gok",
        "colab_type": "code",
        "outputId": "e3d28e6d-2408-4b42-e9cf-40b42fe5e73a",
        "colab": {
          "base_uri": "https://localhost:8080/",
          "height": 361
        }
      },
      "cell_type": "code",
      "source": [
        "learn.recorder.plot()"
      ],
      "execution_count": 197,
      "outputs": [
        {
          "output_type": "display_data",
          "data": {
            "image/png": "[encoded data removed]",
            "text/plain": [
              "<Figure size 576x396 with 1 Axes>"
            ]
          },
          "metadata": {
            "tags": []
          }
        }
      ]
    },
    {
      "metadata": {
        "id": "KSx04chH6Rl-",
        "colab_type": "code",
        "outputId": "67147b15-8c74-431c-ed4f-e505c9c499de",
        "colab": {
          "base_uri": "https://localhost:8080/",
          "height": 386
        }
      },
      "cell_type": "code",
      "source": [
        "learn.fit_one_cycle(10, 1e-2)"
      ],
      "execution_count": 199,
      "outputs": [
        {
          "output_type": "display_data",
          "data": {
            "text/html": [
              "Total time: 00:04 <p><table border=\"1\" class=\"dataframe\">\n",
              "  <thead>\n",
              "    <tr style=\"text-align: left;\">\n",
              "      <th>epoch</th>\n",
              "      <th>train_loss</th>\n",
              "      <th>valid_loss</th>\n",
              "      <th>accuracy</th>\n",
              "      <th>time</th>\n",
              "    </tr>\n",
              "  </thead>\n",
              "  <tbody>\n",
              "    <tr>\n",
              "      <td>1</td>\n",
              "      <td>0.011290</td>\n",
              "      <td>0.022953</td>\n",
              "      <td>0.985380</td>\n",
              "      <td>00:00</td>\n",
              "    </tr>\n",
              "    <tr>\n",
              "      <td>2</td>\n",
              "      <td>0.009992</td>\n",
              "      <td>0.024453</td>\n",
              "      <td>0.994152</td>\n",
              "      <td>00:00</td>\n",
              "    </tr>\n",
              "    <tr>\n",
              "      <td>3</td>\n",
              "      <td>0.022006</td>\n",
              "      <td>0.048309</td>\n",
              "      <td>0.988304</td>\n",
              "      <td>00:00</td>\n",
              "    </tr>\n",
              "    <tr>\n",
              "      <td>4</td>\n",
              "      <td>0.041492</td>\n",
              "      <td>0.157031</td>\n",
              "      <td>0.988304</td>\n",
              "      <td>00:00</td>\n",
              "    </tr>\n",
              "    <tr>\n",
              "      <td>5</td>\n",
              "      <td>0.044659</td>\n",
              "      <td>0.018687</td>\n",
              "      <td>0.991228</td>\n",
              "      <td>00:00</td>\n",
              "    </tr>\n",
              "    <tr>\n",
              "      <td>6</td>\n",
              "      <td>0.033585</td>\n",
              "      <td>0.022249</td>\n",
              "      <td>0.991228</td>\n",
              "      <td>00:00</td>\n",
              "    </tr>\n",
              "    <tr>\n",
              "      <td>7</td>\n",
              "      <td>0.029566</td>\n",
              "      <td>0.020039</td>\n",
              "      <td>0.991228</td>\n",
              "      <td>00:00</td>\n",
              "    </tr>\n",
              "    <tr>\n",
              "      <td>8</td>\n",
              "      <td>0.023528</td>\n",
              "      <td>0.018866</td>\n",
              "      <td>0.991228</td>\n",
              "      <td>00:00</td>\n",
              "    </tr>\n",
              "    <tr>\n",
              "      <td>9</td>\n",
              "      <td>0.020009</td>\n",
              "      <td>0.018610</td>\n",
              "      <td>0.991228</td>\n",
              "      <td>00:00</td>\n",
              "    </tr>\n",
              "    <tr>\n",
              "      <td>10</td>\n",
              "      <td>0.017435</td>\n",
              "      <td>0.018448</td>\n",
              "      <td>0.991228</td>\n",
              "      <td>00:00</td>\n",
              "    </tr>\n",
              "  </tbody>\n",
              "</table>"
            ],
            "text/plain": [
              "<IPython.core.display.HTML object>"
            ]
          },
          "metadata": {
            "tags": []
          }
        }
      ]
    },
    {
      "metadata": {
        "id": "TxaEuVKNHYuc",
        "colab_type": "code",
        "colab": {}
      },
      "cell_type": "code",
      "source": [
        "interp = learn.interpret()"
      ],
      "execution_count": 0,
      "outputs": []
    },
    {
      "metadata": {
        "id": "NdUolyaeHsWA",
        "colab_type": "code",
        "colab": {
          "base_uri": "https://localhost:8080/",
          "height": 415
        },
        "outputId": "18327751-5005-4d0f-859d-9301c530d806"
      },
      "cell_type": "code",
      "source": [
        "interp.plot_confusion_matrix()"
      ],
      "execution_count": 201,
      "outputs": [
        {
          "output_type": "display_data",
          "data": {
            "image/png": "[encoded data removed]",
            "text/plain": [
              "<Figure size 576x396 with 1 Axes>"
            ]
          },
          "metadata": {
            "tags": []
          }
        }
      ]
    },
    {
      "metadata": {
        "id": "ljRaXw7NIniQ",
        "colab_type": "code",
        "colab": {}
      },
      "cell_type": "code",
      "source": [
        "matrix = interp.confusion_matrix()"
      ],
      "execution_count": 0,
      "outputs": []
    },
    {
      "metadata": {
        "id": "x61WsppvIx1-",
        "colab_type": "code",
        "colab": {
          "base_uri": "https://localhost:8080/",
          "height": 71
        },
        "outputId": "56b7ed0d-3d92-40c5-e485-7f24e6cb3113"
      },
      "cell_type": "code",
      "source": [
        "matrix"
      ],
      "execution_count": 203,
      "outputs": [
        {
          "output_type": "execute_result",
          "data": {
            "text/plain": [
              "array([[330,   0,   0],\n",
              "       [  0,   2,   2],\n",
              "       [  0,   1,   7]])"
            ]
          },
          "metadata": {
            "tags": []
          },
          "execution_count": 203
        }
      ]
    },
    {
      "metadata": {
        "id": "heCjkxzlKX4u",
        "colab_type": "code",
        "colab": {}
      },
      "cell_type": "code",
      "source": [
        "from sklearn.metrics import classification_report, accuracy_score"
      ],
      "execution_count": 0,
      "outputs": []
    },
    {
      "metadata": {
        "id": "s9V9oggjJ2ji",
        "colab_type": "code",
        "colab": {}
      },
      "cell_type": "code",
      "source": [
        "def get_metrics(matrix):\n",
        "    preds = []\n",
        "    targs = []\n",
        "    \n",
        "    for i in range(len(matrix)):\n",
        "        for j in range(len(matrix)):\n",
        "            for k in range(matrix[i][j]):\n",
        "                targs.append(i)\n",
        "                preds.append(j)\n",
        "    \n",
        "    print('Accuracy score:', accuracy_score(targs, preds))\n",
        "    print('Class-wise accuracy:')\n",
        "    print([matrix[i][i] for i in range(len(matrix))] / np.sum(matrix, axis=1))\n",
        "    print('Classification report:')\n",
        "    print(classification_report(targs, preds))"
      ],
      "execution_count": 0,
      "outputs": []
    },
    {
      "metadata": {
        "id": "bKF3_gMMKe4j",
        "colab_type": "code",
        "colab": {
          "base_uri": "https://localhost:8080/",
          "height": 267
        },
        "outputId": "0c3b82c7-d6c0-435e-8648-1a2dedd1bb7b"
      },
      "cell_type": "code",
      "source": [
        "get_metrics(matrix)"
      ],
      "execution_count": 207,
      "outputs": [
        {
          "output_type": "stream",
          "text": [
            "Accuracy score: 0.9912280701754386\n",
            "Class-wise accuracy:\n",
            "[1.    0.5   0.875]\n",
            "Classification report:\n",
            "              precision    recall  f1-score   support\n",
            "\n",
            "           0       1.00      1.00      1.00       330\n",
            "           1       0.67      0.50      0.57         4\n",
            "           2       0.78      0.88      0.82         8\n",
            "\n",
            "   micro avg       0.99      0.99      0.99       342\n",
            "   macro avg       0.81      0.79      0.80       342\n",
            "weighted avg       0.99      0.99      0.99       342\n",
            "\n"
          ],
          "name": "stdout"
        }
      ]
    },
    {
      "metadata": {
        "id": "6Pi_dzfm7ZFR",
        "colab_type": "text"
      },
      "cell_type": "markdown",
      "source": [
        "## Only 6 features"
      ]
    },
    {
      "metadata": {
        "id": "XO3uWP9E70B7",
        "colab_type": "code",
        "colab": {}
      },
      "cell_type": "code",
      "source": [
        "!cp gdrive/\"My Drive\"/dataset-rocky-restricted-feat-set.csv ./"
      ],
      "execution_count": 0,
      "outputs": []
    },
    {
      "metadata": {
        "id": "_ZtDDgNO7sc7",
        "colab_type": "code",
        "colab": {}
      },
      "cell_type": "code",
      "source": [
        "df = pd.read_csv('dataset-rocky-restricted-feat-set.csv')"
      ],
      "execution_count": 0,
      "outputs": []
    },
    {
      "metadata": {
        "id": "2mHrVhji7yg1",
        "colab_type": "code",
        "outputId": "d62c9a31-ae1b-46ba-ef2e-d78e4eb141fe",
        "colab": {
          "base_uri": "https://localhost:8080/",
          "height": 231
        }
      },
      "cell_type": "code",
      "source": [
        "df.info()"
      ],
      "execution_count": 209,
      "outputs": [
        {
          "output_type": "stream",
          "text": [
            "<class 'pandas.core.frame.DataFrame'>\n",
            "RangeIndex: 1713 entries, 0 to 1712\n",
            "Data columns (total 7 columns):\n",
            "hab_lbl               1713 non-null int64\n",
            "P. Min Mass (EU)      1713 non-null float64\n",
            "P. Mass (EU)          1713 non-null float64\n",
            "P. Radius (EU)        1713 non-null float64\n",
            "P. SFlux Min (EU)     1713 non-null float64\n",
            "P. SFlux Mean (EU)    1713 non-null float64\n",
            "P. SFlux Max (EU)     1713 non-null float64\n",
            "dtypes: float64(6), int64(1)\n",
            "memory usage: 93.8 KB\n"
          ],
          "name": "stdout"
        }
      ]
    },
    {
      "metadata": {
        "id": "IR60WOjF8D9b",
        "colab_type": "code",
        "colab": {}
      },
      "cell_type": "code",
      "source": [
        "cat_vars = df.columns[np.where(df.dtypes == 'int64')]\n",
        "cat_vars = cat_vars.tolist()\n",
        "cat_vars.remove('hab_lbl')"
      ],
      "execution_count": 0,
      "outputs": []
    },
    {
      "metadata": {
        "id": "_UW5BMrq8NWC",
        "colab_type": "code",
        "outputId": "6efc3cce-4765-4510-86cb-d9a68a22b300",
        "colab": {
          "base_uri": "https://localhost:8080/",
          "height": 35
        }
      },
      "cell_type": "code",
      "source": [
        "cat_vars"
      ],
      "execution_count": 211,
      "outputs": [
        {
          "output_type": "execute_result",
          "data": {
            "text/plain": [
              "[]"
            ]
          },
          "metadata": {
            "tags": []
          },
          "execution_count": 211
        }
      ]
    },
    {
      "metadata": {
        "id": "kXlWN7JQ8PCG",
        "colab_type": "code",
        "colab": {}
      },
      "cell_type": "code",
      "source": [
        "cont_vars = df.columns[np.where(df.dtypes == 'float64')]\n",
        "cont_vars = cont_vars.tolist()"
      ],
      "execution_count": 0,
      "outputs": []
    },
    {
      "metadata": {
        "id": "yDf_x_-E8R9Y",
        "colab_type": "code",
        "colab": {}
      },
      "cell_type": "code",
      "source": [
        "data = (TabularList.from_df(df, cat_names=cat_vars, cont_names=cont_vars, procs=procs)\n",
        "                   .random_split_by_pct(0.3)\n",
        "                   .label_from_df(cols='hab_lbl')\n",
        "                   .databunch())"
      ],
      "execution_count": 0,
      "outputs": []
    },
    {
      "metadata": {
        "id": "4Ixw9tu58VUB",
        "colab_type": "code",
        "outputId": "cc1d9183-7485-47bc-9d6a-d163813eef99",
        "colab": {
          "base_uri": "https://localhost:8080/",
          "height": 341
        }
      },
      "cell_type": "code",
      "source": [
        "data"
      ],
      "execution_count": 214,
      "outputs": [
        {
          "output_type": "execute_result",
          "data": {
            "text/plain": [
              "TabularDataBunch;\n",
              "\n",
              "Train: LabelList (1200 items)\n",
              "x: TabularList\n",
              "P. Min Mass (EU) 0.0324; P. Mass (EU) -0.0367; P. Radius (EU) 0.6252; P. SFlux Min (EU) 0.0840; P. SFlux Mean (EU) 0.0912; P. SFlux Max (EU) 0.0989; ,P. Min Mass (EU) -0.6216; P. Mass (EU) -0.1510; P. Radius (EU) -0.0508; P. SFlux Min (EU) -0.0342; P. SFlux Mean (EU) -0.0310; P. SFlux Max (EU) -0.0266; ,P. Min Mass (EU) -0.8184; P. Mass (EU) -0.3010; P. Radius (EU) -1.2183; P. SFlux Min (EU) -0.0300; P. SFlux Mean (EU) -0.0303; P. SFlux Max (EU) -0.0306; ,P. Min Mass (EU) -0.2888; P. Mass (EU) 0.2752; P. Radius (EU) 1.1168; P. SFlux Min (EU) -0.0468; P. SFlux Mean (EU) -0.0470; P. SFlux Max (EU) -0.0474; ,P. Min Mass (EU) -0.4478; P. Mass (EU) -0.0184; P. Radius (EU) 0.4613; P. SFlux Min (EU) -0.0216; P. SFlux Mean (EU) -0.0219; P. SFlux Max (EU) -0.0222; \n",
              "y: CategoryList\n",
              "0,0,0,0,0\n",
              "Path: .;\n",
              "\n",
              "Valid: LabelList (513 items)\n",
              "x: TabularList\n",
              "P. Min Mass (EU) 0.0324; P. Mass (EU) -0.2668; P. Radius (EU) -0.8086; P. SFlux Min (EU) -0.0340; P. SFlux Mean (EU) -0.0342; P. SFlux Max (EU) -0.0346; ,P. Min Mass (EU) 0.0324; P. Mass (EU) 0.6740; P. Radius (EU) 1.6698; P. SFlux Min (EU) -0.0465; P. SFlux Mean (EU) -0.0468; P. SFlux Max (EU) -0.0471; ,P. Min Mass (EU) 0.0324; P. Mass (EU) -0.2911; P. Radius (EU) -1.0954; P. SFlux Min (EU) 0.0006; P. SFlux Mean (EU) 0.0003; P. SFlux Max (EU) -0.0000; ,P. Min Mass (EU) 0.0324; P. Mass (EU) 0.3663; P. Radius (EU) 1.2806; P. SFlux Min (EU) -0.0468; P. SFlux Mean (EU) -0.0471; P. SFlux Max (EU) -0.0474; ,P. Min Mass (EU) 0.0324; P. Mass (EU) -0.3078; P. Radius (EU) -1.3412; P. SFlux Min (EU) -0.0462; P. SFlux Mean (EU) -0.0464; P. SFlux Max (EU) -0.0468; \n",
              "y: CategoryList\n",
              "0,0,0,0,0\n",
              "Path: .;\n",
              "\n",
              "Test: None"
            ]
          },
          "metadata": {
            "tags": []
          },
          "execution_count": 214
        }
      ]
    },
    {
      "metadata": {
        "id": "KAAdnF0KLkgD",
        "colab_type": "code",
        "colab": {}
      },
      "cell_type": "code",
      "source": [
        "import fastai"
      ],
      "execution_count": 0,
      "outputs": []
    },
    {
      "metadata": {
        "id": "u9slrnjO8fwH",
        "colab_type": "code",
        "colab": {}
      },
      "cell_type": "code",
      "source": [
        "learn = tabular_learner(data, layers=[10,5], ps=[0.01,0.1], emb_drop=0.04, metrics=fastai.basics.accuracy)"
      ],
      "execution_count": 0,
      "outputs": []
    },
    {
      "metadata": {
        "id": "UP_WlJOQ8g0m",
        "colab_type": "code",
        "outputId": "e6ebe37c-7f57-4d94-e8be-9f39f7ac3bc7",
        "colab": {
          "base_uri": "https://localhost:8080/",
          "height": 303
        }
      },
      "cell_type": "code",
      "source": [
        "learn.model"
      ],
      "execution_count": 216,
      "outputs": [
        {
          "output_type": "execute_result",
          "data": {
            "text/plain": [
              "TabularModel(\n",
              "  (embeds): ModuleList()\n",
              "  (emb_drop): Dropout(p=0.04)\n",
              "  (bn_cont): BatchNorm1d(6, eps=1e-05, momentum=0.1, affine=True, track_running_stats=True)\n",
              "  (layers): Sequential(\n",
              "    (0): Linear(in_features=6, out_features=10, bias=True)\n",
              "    (1): ReLU(inplace)\n",
              "    (2): BatchNorm1d(10, eps=1e-05, momentum=0.1, affine=True, track_running_stats=True)\n",
              "    (3): Dropout(p=0.01)\n",
              "    (4): Linear(in_features=10, out_features=5, bias=True)\n",
              "    (5): ReLU(inplace)\n",
              "    (6): BatchNorm1d(5, eps=1e-05, momentum=0.1, affine=True, track_running_stats=True)\n",
              "    (7): Dropout(p=0.1)\n",
              "    (8): Linear(in_features=5, out_features=3, bias=True)\n",
              "  )\n",
              ")"
            ]
          },
          "metadata": {
            "tags": []
          },
          "execution_count": 216
        }
      ]
    },
    {
      "metadata": {
        "id": "RsieO8c_8kPU",
        "colab_type": "code",
        "outputId": "668e8a13-93ef-42f6-ae4e-7ae980e93d3f",
        "colab": {
          "base_uri": "https://localhost:8080/",
          "height": 35
        }
      },
      "cell_type": "code",
      "source": [
        "learn.lr_find()"
      ],
      "execution_count": 217,
      "outputs": [
        {
          "output_type": "display_data",
          "data": {
            "text/html": [
              ""
            ],
            "text/plain": [
              "<IPython.core.display.HTML object>"
            ]
          },
          "metadata": {
            "tags": []
          }
        },
        {
          "output_type": "stream",
          "text": [
            "LR Finder is complete, type {learner_name}.recorder.plot() to see the graph.\n"
          ],
          "name": "stdout"
        }
      ]
    },
    {
      "metadata": {
        "id": "BnxLOU9I8mlf",
        "colab_type": "code",
        "outputId": "b3bbd465-792f-481c-8b47-ec1366a45044",
        "colab": {
          "base_uri": "https://localhost:8080/",
          "height": 361
        }
      },
      "cell_type": "code",
      "source": [
        "learn.recorder.plot()"
      ],
      "execution_count": 218,
      "outputs": [
        {
          "output_type": "display_data",
          "data": {
            "image/png": "[encoded data removed]",
            "text/plain": [
              "<Figure size 576x396 with 1 Axes>"
            ]
          },
          "metadata": {
            "tags": []
          }
        }
      ]
    },
    {
      "metadata": {
        "id": "4ikLxRWC8odO",
        "colab_type": "code",
        "outputId": "6190debf-44d3-4e19-9c6c-43a5586762ba",
        "colab": {
          "base_uri": "https://localhost:8080/",
          "height": 386
        }
      },
      "cell_type": "code",
      "source": [
        "learn.fit_one_cycle(10, 5e-2)"
      ],
      "execution_count": 219,
      "outputs": [
        {
          "output_type": "display_data",
          "data": {
            "text/html": [
              "Total time: 00:04 <p><table border=\"1\" class=\"dataframe\">\n",
              "  <thead>\n",
              "    <tr style=\"text-align: left;\">\n",
              "      <th>epoch</th>\n",
              "      <th>train_loss</th>\n",
              "      <th>valid_loss</th>\n",
              "      <th>accuracy</th>\n",
              "      <th>time</th>\n",
              "    </tr>\n",
              "  </thead>\n",
              "  <tbody>\n",
              "    <tr>\n",
              "      <td>1</td>\n",
              "      <td>1.207425</td>\n",
              "      <td>1.023358</td>\n",
              "      <td>0.962963</td>\n",
              "      <td>00:00</td>\n",
              "    </tr>\n",
              "    <tr>\n",
              "      <td>2</td>\n",
              "      <td>0.828111</td>\n",
              "      <td>0.145710</td>\n",
              "      <td>0.970760</td>\n",
              "      <td>00:00</td>\n",
              "    </tr>\n",
              "    <tr>\n",
              "      <td>3</td>\n",
              "      <td>0.507584</td>\n",
              "      <td>0.181970</td>\n",
              "      <td>0.970760</td>\n",
              "      <td>00:00</td>\n",
              "    </tr>\n",
              "    <tr>\n",
              "      <td>4</td>\n",
              "      <td>0.343478</td>\n",
              "      <td>0.186689</td>\n",
              "      <td>0.970760</td>\n",
              "      <td>00:00</td>\n",
              "    </tr>\n",
              "    <tr>\n",
              "      <td>5</td>\n",
              "      <td>0.254009</td>\n",
              "      <td>0.165373</td>\n",
              "      <td>0.968811</td>\n",
              "      <td>00:00</td>\n",
              "    </tr>\n",
              "    <tr>\n",
              "      <td>6</td>\n",
              "      <td>0.194948</td>\n",
              "      <td>0.147871</td>\n",
              "      <td>0.970760</td>\n",
              "      <td>00:00</td>\n",
              "    </tr>\n",
              "    <tr>\n",
              "      <td>7</td>\n",
              "      <td>0.154552</td>\n",
              "      <td>0.172047</td>\n",
              "      <td>0.970760</td>\n",
              "      <td>00:00</td>\n",
              "    </tr>\n",
              "    <tr>\n",
              "      <td>8</td>\n",
              "      <td>0.134006</td>\n",
              "      <td>0.170472</td>\n",
              "      <td>0.970760</td>\n",
              "      <td>00:00</td>\n",
              "    </tr>\n",
              "    <tr>\n",
              "      <td>9</td>\n",
              "      <td>0.118204</td>\n",
              "      <td>0.158740</td>\n",
              "      <td>0.970760</td>\n",
              "      <td>00:00</td>\n",
              "    </tr>\n",
              "    <tr>\n",
              "      <td>10</td>\n",
              "      <td>0.105157</td>\n",
              "      <td>0.159073</td>\n",
              "      <td>0.970760</td>\n",
              "      <td>00:00</td>\n",
              "    </tr>\n",
              "  </tbody>\n",
              "</table>"
            ],
            "text/plain": [
              "<IPython.core.display.HTML object>"
            ]
          },
          "metadata": {
            "tags": []
          }
        }
      ]
    },
    {
      "metadata": {
        "id": "M4U4_uemL3CW",
        "colab_type": "code",
        "colab": {}
      },
      "cell_type": "code",
      "source": [
        "interp = learn.interpret()"
      ],
      "execution_count": 0,
      "outputs": []
    },
    {
      "metadata": {
        "id": "kho7tLQIL7AR",
        "colab_type": "code",
        "colab": {
          "base_uri": "https://localhost:8080/",
          "height": 415
        },
        "outputId": "c7d4b87a-bedc-434c-875a-584e294e34d7"
      },
      "cell_type": "code",
      "source": [
        "interp.plot_confusion_matrix()"
      ],
      "execution_count": 145,
      "outputs": [
        {
          "output_type": "display_data",
          "data": {
            "image/png": "[encoded data removed]",
            "text/plain": [
              "<Figure size 576x396 with 1 Axes>"
            ]
          },
          "metadata": {
            "tags": []
          }
        }
      ]
    },
    {
      "metadata": {
        "id": "azkSOHPqL9Pr",
        "colab_type": "code",
        "colab": {
          "base_uri": "https://localhost:8080/",
          "height": 323
        },
        "outputId": "aaa05ea4-e15b-4f37-9599-002fdc5dca4c"
      },
      "cell_type": "code",
      "source": [
        "get_metrics(interp.confusion_matrix())"
      ],
      "execution_count": 147,
      "outputs": [
        {
          "output_type": "stream",
          "text": [
            "Accuracy score: 0.9766081871345029\n",
            "Class-wise accuracy:\n",
            "[1. 0. 0.]\n",
            "Classification report:\n",
            "              precision    recall  f1-score   support\n",
            "\n",
            "           0       0.98      1.00      0.99       501\n",
            "           1       0.00      0.00      0.00         6\n",
            "           2       0.00      0.00      0.00         6\n",
            "\n",
            "   micro avg       0.98      0.98      0.98       513\n",
            "   macro avg       0.33      0.33      0.33       513\n",
            "weighted avg       0.95      0.98      0.97       513\n",
            "\n"
          ],
          "name": "stdout"
        },
        {
          "output_type": "stream",
          "text": [
            "/usr/local/lib/python3.6/dist-packages/sklearn/metrics/classification.py:1143: UndefinedMetricWarning: Precision and F-score are ill-defined and being set to 0.0 in labels with no predicted samples.\n",
            "  'precision', 'predicted', average, warn_for)\n"
          ],
          "name": "stderr"
        }
      ]
    },
    {
      "metadata": {
        "id": "8cuV1MdY86AI",
        "colab_type": "text"
      },
      "cell_type": "markdown",
      "source": [
        "## Without surface temp"
      ]
    },
    {
      "metadata": {
        "id": "WmpyjGvf8rbM",
        "colab_type": "code",
        "colab": {}
      },
      "cell_type": "code",
      "source": [
        "!cp gdrive/\"My Drive\"/dataset-rocky-no-STemp.csv ./"
      ],
      "execution_count": 0,
      "outputs": []
    },
    {
      "metadata": {
        "id": "AY8Rc5Ga9FB2",
        "colab_type": "code",
        "colab": {}
      },
      "cell_type": "code",
      "source": [
        "df = pd.read_csv('dataset-rocky-no-STemp.csv')"
      ],
      "execution_count": 0,
      "outputs": []
    },
    {
      "metadata": {
        "id": "4Z1VZ1pQ9VUs",
        "colab_type": "code",
        "outputId": "dd0f5e51-08a1-4beb-e268-2b2e04cc83cb",
        "colab": {
          "base_uri": "https://localhost:8080/",
          "height": 875
        }
      },
      "cell_type": "code",
      "source": [
        "df.info()"
      ],
      "execution_count": 150,
      "outputs": [
        {
          "output_type": "stream",
          "text": [
            "<class 'pandas.core.frame.DataFrame'>\n",
            "RangeIndex: 1713 entries, 0 to 1712\n",
            "Data columns (total 43 columns):\n",
            "hab_lbl                      1713 non-null int64\n",
            "P. Zone Class                1713 non-null int64\n",
            "P. Mass Class                1713 non-null int64\n",
            "P. Composition Class         1713 non-null int64\n",
            "P. Atmosphere Class          1713 non-null int64\n",
            "P. Min Mass (EU)             1713 non-null float64\n",
            "P. Mass (EU)                 1713 non-null float64\n",
            "P. Radius (EU)               1713 non-null float64\n",
            "P. Density (EU)              1713 non-null float64\n",
            "P. Gravity (EU)              1713 non-null float64\n",
            "P. Esc Vel (EU)              1713 non-null float64\n",
            "P. SFlux Min (EU)            1713 non-null float64\n",
            "P. SFlux Mean (EU)           1713 non-null float64\n",
            "P. SFlux Max (EU)            1713 non-null float64\n",
            "P. Teq Min (K)               1713 non-null float64\n",
            "P. Teq Mean (K)              1713 non-null float64\n",
            "P. Teq Max (K)               1713 non-null float64\n",
            "P. Surf Press (EU)           1713 non-null float64\n",
            "P. Mag                       1713 non-null float64\n",
            "P. Appar Size (deg)          1713 non-null float64\n",
            "P. Period (days)             1713 non-null float64\n",
            "P. Sem Major Axis (AU)       1713 non-null float64\n",
            "P. Eccentricity              1713 non-null float64\n",
            "P. Mean Distance (AU)        1713 non-null float64\n",
            "P. Inclination (deg)         1713 non-null float64\n",
            "P. Omega (deg)               1713 non-null float64\n",
            "S. Mass (SU)                 1713 non-null float64\n",
            "S. Radius (SU)               1713 non-null float64\n",
            "S. Teff (K)                  1713 non-null float64\n",
            "S. Luminosity (SU)           1713 non-null float64\n",
            "S. [Fe/H]                    1713 non-null float64\n",
            "S. Age (Gyrs)                1713 non-null float64\n",
            "S. Appar Mag                 1713 non-null float64\n",
            "S. Mag from Planet           1713 non-null float64\n",
            "S. Size from Planet (deg)    1713 non-null float64\n",
            "S. Hab Zone Min (AU)         1713 non-null float64\n",
            "S. Hab Zone Max (AU)         1713 non-null float64\n",
            "P. HZD                       1713 non-null float64\n",
            "P. HZC                       1713 non-null float64\n",
            "P. HZA                       1713 non-null float64\n",
            "P. HZI                       1713 non-null float64\n",
            "P. ESI                       1713 non-null float64\n",
            "P. Habitable                 1713 non-null int64\n",
            "dtypes: float64(37), int64(6)\n",
            "memory usage: 575.5 KB\n"
          ],
          "name": "stdout"
        }
      ]
    },
    {
      "metadata": {
        "id": "ISdSixmb-p0n",
        "colab_type": "code",
        "colab": {}
      },
      "cell_type": "code",
      "source": [
        "df = df.drop('P. Habitable', axis=1)"
      ],
      "execution_count": 0,
      "outputs": []
    },
    {
      "metadata": {
        "id": "tqp3fsFb9Y1H",
        "colab_type": "code",
        "colab": {}
      },
      "cell_type": "code",
      "source": [
        "cat_vars = df.columns[np.where(df.dtypes == 'int64')]\n",
        "cat_vars = cat_vars.tolist()\n",
        "cat_vars.remove('hab_lbl')"
      ],
      "execution_count": 0,
      "outputs": []
    },
    {
      "metadata": {
        "id": "AfOv-aNw9bk_",
        "colab_type": "code",
        "outputId": "4851fbfd-8506-41e4-f10b-c67f3bba9f6a",
        "colab": {
          "base_uri": "https://localhost:8080/",
          "height": 88
        }
      },
      "cell_type": "code",
      "source": [
        "cat_vars"
      ],
      "execution_count": 153,
      "outputs": [
        {
          "output_type": "execute_result",
          "data": {
            "text/plain": [
              "['P. Zone Class',\n",
              " 'P. Mass Class',\n",
              " 'P. Composition Class',\n",
              " 'P. Atmosphere Class']"
            ]
          },
          "metadata": {
            "tags": []
          },
          "execution_count": 153
        }
      ]
    },
    {
      "metadata": {
        "id": "k9BDXXFb9cRY",
        "colab_type": "code",
        "colab": {}
      },
      "cell_type": "code",
      "source": [
        "cont_vars = df.columns[np.where(df.dtypes == 'float64')]\n",
        "cont_vars = cont_vars.tolist()"
      ],
      "execution_count": 0,
      "outputs": []
    },
    {
      "metadata": {
        "id": "7_IC-9-l9oIK",
        "colab_type": "code",
        "colab": {}
      },
      "cell_type": "code",
      "source": [
        "data = (TabularList.from_df(df, cat_names=cat_vars, cont_names=cont_vars, procs=procs)\n",
        "                   .random_split_by_pct(0.2)\n",
        "                   .label_from_df(cols='hab_lbl')\n",
        "                   .databunch())"
      ],
      "execution_count": 0,
      "outputs": []
    },
    {
      "metadata": {
        "id": "m4mbCzRj9qek",
        "colab_type": "code",
        "outputId": "a2655b00-ceb0-4f9f-b496-b1bcc0155d42",
        "colab": {
          "base_uri": "https://localhost:8080/",
          "height": 341
        }
      },
      "cell_type": "code",
      "source": [
        "data"
      ],
      "execution_count": 156,
      "outputs": [
        {
          "output_type": "execute_result",
          "data": {
            "text/plain": [
              "TabularDataBunch;\n",
              "\n",
              "Train: LabelList (1371 items)\n",
              "x: TabularList\n",
              "P. Zone Class 2; P. Mass Class 2; P. Composition Class 2; P. Atmosphere Class 2; P. Min Mass (EU) 0.0087; P. Mass (EU) -0.0503; P. Radius (EU) 0.6435; P. Density (EU) -0.0630; P. Gravity (EU) -0.0434; P. Esc Vel (EU) 0.1064; P. SFlux Min (EU) 0.0654; P. SFlux Mean (EU) 0.0721; P. SFlux Max (EU) 0.0791; P. Teq Min (K) 2.0656; P. Teq Mean (K) 2.1160; P. Teq Max (K) 2.1606; P. Surf Press (EU) -0.0319; P. Mag -1.9456; P. Appar Size (deg) 0.6403; P. Period (days) -0.0944; P. Sem Major Axis (AU) -0.3410; P. Eccentricity 0.2617; P. Mean Distance (AU) -0.3324; P. Inclination (deg) 1.4447; P. Omega (deg) 3.6446; S. Mass (SU) 0.1266; S. Radius (SU) 0.1132; S. Teff (K) -0.1185; S. Luminosity (SU) -0.2924; S. [Fe/H] 2.8319; S. Age (Gyrs) 4.4594; S. Appar Mag -4.0512; S. Mag from Planet -1.6697; S. Size from Planet (deg) 3.6733; S. Hab Zone Min (AU) -0.1423; S. Hab Zone Max (AU) -0.1232; P. HZD -0.1833; P. HZC 1.4839; P. HZA -0.4698; P. HZI -0.5125; P. ESI -0.6045; ,P. Zone Class 2; P. Mass Class 2; P. Composition Class 3; P. Atmosphere Class 2; P. Min Mass (EU) -0.5365; P. Mass (EU) -0.1068; P. Radius (EU) -0.0147; P. Density (EU) -0.0503; P. Gravity (EU) -0.0618; P. Esc Vel (EU) -0.1134; P. SFlux Min (EU) -0.0419; P. SFlux Mean (EU) -0.0389; P. SFlux Max (EU) -0.0349; P. Teq Min (K) 0.3370; P. Teq Mean (K) 0.4586; P. Teq Max (K) 0.6046; P. Surf Press (EU) -0.0323; P. Mag -0.7195; P. Appar Size (deg) -0.0101; P. Period (days) -0.0825; P. Sem Major Axis (AU) -0.2271; P. Eccentricity 1.7529; P. Mean Distance (AU) -0.2315; P. Inclination (deg) -0.0422; P. Omega (deg) 2.1798; S. Mass (SU) 0.2957; S. Radius (SU) 0.1132; S. Teff (K) 0.1596; S. Luminosity (SU) -0.1684; S. [Fe/H] 0.7777; S. Age (Gyrs) 3.5429; S. Appar Mag -4.7362; S. Mag from Planet -0.6398; S. Size from Planet (deg) 0.3100; S. Hab Zone Min (AU) 0.0477; S. Hab Zone Max (AU) 0.0512; P. HZD -0.1671; P. HZC -0.0498; P. HZA -0.3541; P. HZI -0.3308; P. ESI -0.5096; ,P. Zone Class 2; P. Mass Class 4; P. Composition Class 3; P. Atmosphere Class 3; P. Min Mass (EU) -0.7005; P. Mass (EU) -0.1808; P. Radius (EU) -1.1516; P. Density (EU) -0.0882; P. Gravity (EU) -0.1381; P. Esc Vel (EU) -0.6995; P. SFlux Min (EU) -0.0381; P. SFlux Mean (EU) -0.0383; P. SFlux Max (EU) -0.0386; P. Teq Min (K) 0.4962; P. Teq Mean (K) 0.4892; P. Teq Max (K) 0.4763; P. Surf Press (EU) -0.0328; P. Mag -0.3123; P. Appar Size (deg) -1.1642; P. Period (days) -0.0858; P. Sem Major Axis (AU) -0.2605; P. Eccentricity -0.2354; P. Mean Distance (AU) -0.2651; P. Inclination (deg) -0.0422; P. Omega (deg) -0.1865; S. Mass (SU) 0.2111; S. Radius (SU) -0.1468; S. Teff (K) -0.1035; S. Luminosity (SU) -0.3600; S. [Fe/H] 0.0201; S. Age (Gyrs) 0.0148; S. Appar Mag -6.5277; S. Mag from Planet -0.6845; S. Size from Planet (deg) 0.5233; S. Hab Zone Min (AU) -0.2768; S. Hab Zone Max (AU) -0.2671; P. HZD -0.1590; P. HZC -0.1958; P. HZA -0.7685; P. HZI -0.5125; P. ESI -0.2250; ,P. Zone Class 2; P. Mass Class 2; P. Composition Class 3; P. Atmosphere Class 2; P. Min Mass (EU) -0.2591; P. Mass (EU) 0.1035; P. Radius (EU) 1.1222; P. Density (EU) 0.0164; P. Gravity (EU) 0.0645; P. Esc Vel (EU) 0.6680; P. SFlux Min (EU) -0.0533; P. SFlux Mean (EU) -0.0535; P. SFlux Max (EU) -0.0538; P. Teq Min (K) -0.7834; P. Teq Mean (K) -0.7923; P. Teq Max (K) -0.8050; P. Surf Press (EU) -0.0301; P. Mag 0.4928; P. Appar Size (deg) 1.1229; P. Period (days) 0.0457; P. Sem Major Axis (AU) 0.3975; P. Eccentricity -0.2354; P. Mean Distance (AU) 0.4079; P. Inclination (deg) 1.3898; P. Omega (deg) -0.1865; S. Mass (SU) 0.3380; S. Radius (SU) 0.0807; S. Teff (K) 0.3547; S. Luminosity (SU) -0.0817; S. [Fe/H] -0.1210; S. Age (Gyrs) -0.6106; S. Appar Mag -1.4167; S. Mag from Planet 0.7932; S. Size from Planet (deg) -0.8640; S. Hab Zone Min (AU) 0.1587; S. Hab Zone Max (AU) 0.1530; P. HZD -0.0086; P. HZC 0.0963; P. HZA 0.8986; P. HZI 0.3962; P. ESI 0.0596; ,P. Zone Class 2; P. Mass Class 2; P. Composition Class 3; P. Atmosphere Class 2; P. Min Mass (EU) -0.3915; P. Mass (EU) -0.0413; P. Radius (EU) 0.4839; P. Density (EU) -0.0269; P. Gravity (EU) -0.0171; P. Esc Vel (EU) 0.1878; P. SFlux Min (EU) -0.0305; P. SFlux Mean (EU) -0.0306; P. SFlux Max (EU) -0.0309; P. Teq Min (K) 0.7422; P. Teq Mean (K) 0.7356; P. Teq Max (K) 0.7226; P. Surf Press (EU) -0.0317; P. Mag -1.0718; P. Appar Size (deg) 0.4830; P. Period (days) -0.0837; P. Sem Major Axis (AU) -0.2513; P. Eccentricity -0.2354; P. Mean Distance (AU) -0.2651; P. Inclination (deg) -0.0422; P. Omega (deg) -0.1865; S. Mass (SU) -0.7613; S. Radius (SU) 2.3883; S. Teff (K) -0.8423; S. Luminosity (SU) -0.0959; S. [Fe/H] -0.0569; S. Age (Gyrs) 0.1728; S. Appar Mag -3.6824; S. Mag from Planet -0.8637; S. Size from Planet (deg) 1.8398; S. Hab Zone Min (AU) 0.2786; S. Hab Zone Max (AU) 0.4025; P. HZD -0.1305; P. HZC 0.0233; P. HZA -0.2096; P. HZI -0.1490; P. ESI -0.6045; \n",
              "y: CategoryList\n",
              "0,0,0,0,0\n",
              "Path: .;\n",
              "\n",
              "Valid: LabelList (342 items)\n",
              "x: TabularList\n",
              "P. Zone Class 2; P. Mass Class 2; P. Composition Class 3; P. Atmosphere Class 2; P. Min Mass (EU) 0.0087; P. Mass (EU) 0.2045; P. Radius (EU) 1.4413; P. Density (EU) 0.0398; P. Gravity (EU) 0.1110; P. Esc Vel (EU) 0.9204; P. SFlux Min (EU) -0.0462; P. SFlux Mean (EU) -0.0464; P. SFlux Max (EU) -0.0467; P. Teq Min (K) 0.1049; P. Teq Mean (K) 0.0974; P. Teq Max (K) 0.0845; P. Surf Press (EU) -0.0289; P. Mag -0.7424; P. Appar Size (deg) 1.4272; P. Period (days) -0.0758; P. Sem Major Axis (AU) -0.1655; P. Eccentricity -0.2354; P. Mean Distance (AU) -0.1642; P. Inclination (deg) -0.0422; P. Omega (deg) -0.1865; S. Mass (SU) 2.3251; S. Radius (SU) -0.0168; S. Teff (K) 0.2285; S. Luminosity (SU) -0.1839; S. [Fe/H] 1.7598; S. Age (Gyrs) 0.0148; S. Appar Mag 0.0309; S. Mag from Planet -0.3263; S. Size from Planet (deg) -0.1455; S. Hab Zone Min (AU) 0.0126; S. Hab Zone Max (AU) 0.0105; P. HZD -0.1508; P. HZC 0.1693; P. HZA 0.5228; P. HZI -0.1490; P. ESI -0.7943; ,P. Zone Class 2; P. Mass Class 4; P. Composition Class 2; P. Atmosphere Class 2; P. Min Mass (EU) 0.0087; P. Mass (EU) -0.1157; P. Radius (EU) 0.2645; P. Density (EU) -0.1062; P. Gravity (EU) -0.0987; P. Esc Vel (EU) -0.2355; P. SFlux Min (EU) -0.0539; P. SFlux Mean (EU) -0.0540; P. SFlux Max (EU) -0.0543; P. Teq Min (K) -1.0899; P. Teq Mean (K) -1.0993; P. Teq Max (K) -1.1119; P. Surf Press (EU) -0.0325; P. Mag 1.3392; P. Appar Size (deg) 0.2731; P. Period (days) -0.0267; P. Sem Major Axis (AU) -0.0120; P. Eccentricity -0.2354; P. Mean Distance (AU) 0.0041; P. Inclination (deg) 1.4996; P. Omega (deg) -0.1865; S. Mass (SU) -1.2686; S. Radius (SU) -1.1869; S. Teff (K) -1.2690; S. Luminosity (SU) -0.6993; S. [Fe/H] 0.1999; S. Age (Gyrs) 0.0148; S. Appar Mag 0.1113; S. Mag from Planet 1.4201; S. Size from Planet (deg) -0.8008; S. Hab Zone Min (AU) -1.3114; S. Hab Zone Max (AU) -1.3083; P. HZD 0.1742; P. HZC 2.7984; P. HZA 0.2048; P. HZI 1.6684; P. ESI 1.8621; ,P. Zone Class 2; P. Mass Class 2; P. Composition Class 2; P. Atmosphere Class 2; P. Min Mass (EU) 0.0087; P. Mass (EU) -0.0166; P. Radius (EU) 1.5011; P. Density (EU) -0.1225; P. Gravity (EU) -0.0750; P. Esc Vel (EU) 0.1064; P. SFlux Min (EU) -0.0474; P. SFlux Mean (EU) -0.0476; P. SFlux Max (EU) -0.0479; P. Teq Min (K) 0.0229; P. Teq Mean (K) 0.0152; P. Teq Max (K) 0.0024; P. Surf Press (EU) -0.0321; P. Mag -0.6737; P. Appar Size (deg) 1.5006; P. Period (days) -0.0608; P. Sem Major Axis (AU) -0.0758; P. Eccentricity -0.2354; P. Mean Distance (AU) -0.0632; P. Inclination (deg) 0.8957; P. Omega (deg) -0.1865; S. Mass (SU) 0.8030; S. Radius (SU) 0.6332; S. Teff (K) 0.3472; S. Luminosity (SU) 0.1799; S. [Fe/H] 2.6393; S. Age (Gyrs) 0.0148; S. Appar Mag -1.2060; S. Mag from Planet -0.2368; S. Size from Planet (deg) -0.2732; S. Hab Zone Min (AU) 0.5299; S. Hab Zone Max (AU) 0.5324; P. HZD -0.1468; P. HZC 5.6466; P. HZA -0.0650; P. HZI -0.3308; P. ESI -0.7943; ,P. Zone Class 2; P. Mass Class 4; P. Composition Class 3; P. Atmosphere Class 3; P. Min Mass (EU) 0.0087; P. Mass (EU) -0.1733; P. Radius (EU) -0.9522; P. Density (EU) -0.0828; P. Gravity (EU) -0.1267; P. Esc Vel (EU) -0.6100; P. SFlux Min (EU) 0.0768; P. SFlux Mean (EU) 0.0766; P. SFlux Max (EU) 0.0763; P. Teq Min (K) 2.1567; P. Teq Mean (K) 2.1522; P. Teq Max (K) 2.1390; P. Surf Press (EU) -0.0327; P. Mag -1.4515; P. Appar Size (deg) -0.9544; P. Period (days) -0.0941; P. Sem Major Axis (AU) -0.3367; P. Eccentricity -0.2354; P. Mean Distance (AU) -0.3324; P. Inclination (deg) -0.0422; P. Omega (deg) -0.1865; S. Mass (SU) 0.2534; S. Radius (SU) 0.0157; S. Teff (K) 0.1754; S. Luminosity (SU) -0.1970; S. [Fe/H] 0.0201; S. Age (Gyrs) 0.2245; S. Appar Mag 0.2167; S. Mag from Planet -1.7145; S. Size from Planet (deg) 3.1377; S. Hab Zone Min (AU) -0.0020; S. Hab Zone Max (AU) -0.0023; P. HZD -0.1955; P. HZC -0.1958; P. HZA -0.8552; P. HZI -0.6943; P. ESI -0.3199; ,P. Zone Class 2; P. Mass Class 2; P. Composition Class 3; P. Atmosphere Class 2; P. Min Mass (EU) 0.0087; P. Mass (EU) -0.0072; P. Radius (EU) 0.6634; P. Density (EU) -0.0161; P. Gravity (EU) 0.0040; P. Esc Vel (EU) 0.3180; P. SFlux Min (EU) -0.0487; P. SFlux Mean (EU) -0.0489; P. SFlux Max (EU) -0.0492; P. Teq Min (K) -0.0790; P. Teq Mean (K) -0.0868; P. Teq Max (K) -0.0996; P. Surf Press (EU) -0.0313; P. Mag -0.3764; P. Appar Size (deg) 0.6718; P. Period (days) -0.0615; P. Sem Major Axis (AU) -0.0893; P. Eccentricity -0.2354; P. Mean Distance (AU) -0.0969; P. Inclination (deg) -0.0422; P. Omega (deg) -0.1865; S. Mass (SU) 0.4225; S. Radius (SU) 0.2107; S. Teff (K) 0.2850; S. Luminosity (SU) -0.0617; S. [Fe/H] 0.0201; S. Age (Gyrs) 0.4610; S. Appar Mag 0.5328; S. Mag from Planet -0.1472; S. Size from Planet (deg) -0.3438; S. Hab Zone Min (AU) 0.1996; S. Hab Zone Max (AU) 0.1989; P. HZD -0.1387; P. HZC 0.0963; P. HZA 0.1373; P. HZI -0.1490; P. ESI -0.5096; \n",
              "y: CategoryList\n",
              "0,0,0,0,0\n",
              "Path: .;\n",
              "\n",
              "Test: None"
            ]
          },
          "metadata": {
            "tags": []
          },
          "execution_count": 156
        }
      ]
    },
    {
      "metadata": {
        "id": "QdgCCSxG9tlL",
        "colab_type": "code",
        "colab": {}
      },
      "cell_type": "code",
      "source": [
        "learn = tabular_learner(data, layers=[10,5], ps=[0.001,0.01], emb_drop=0.04, metrics=fastai.basics.accuracy)"
      ],
      "execution_count": 0,
      "outputs": []
    },
    {
      "metadata": {
        "id": "nXTUqXU19xMS",
        "colab_type": "code",
        "outputId": "908b8c3c-10d6-4663-d79c-172600d55018",
        "colab": {
          "base_uri": "https://localhost:8080/",
          "height": 392
        }
      },
      "cell_type": "code",
      "source": [
        "learn.model"
      ],
      "execution_count": 158,
      "outputs": [
        {
          "output_type": "execute_result",
          "data": {
            "text/plain": [
              "TabularModel(\n",
              "  (embeds): ModuleList(\n",
              "    (0): Embedding(5, 4)\n",
              "    (1): Embedding(7, 5)\n",
              "    (2): Embedding(3, 3)\n",
              "    (3): Embedding(5, 4)\n",
              "  )\n",
              "  (emb_drop): Dropout(p=0.04)\n",
              "  (bn_cont): BatchNorm1d(37, eps=1e-05, momentum=0.1, affine=True, track_running_stats=True)\n",
              "  (layers): Sequential(\n",
              "    (0): Linear(in_features=53, out_features=10, bias=True)\n",
              "    (1): ReLU(inplace)\n",
              "    (2): BatchNorm1d(10, eps=1e-05, momentum=0.1, affine=True, track_running_stats=True)\n",
              "    (3): Dropout(p=0.001)\n",
              "    (4): Linear(in_features=10, out_features=5, bias=True)\n",
              "    (5): ReLU(inplace)\n",
              "    (6): BatchNorm1d(5, eps=1e-05, momentum=0.1, affine=True, track_running_stats=True)\n",
              "    (7): Dropout(p=0.01)\n",
              "    (8): Linear(in_features=5, out_features=3, bias=True)\n",
              "  )\n",
              ")"
            ]
          },
          "metadata": {
            "tags": []
          },
          "execution_count": 158
        }
      ]
    },
    {
      "metadata": {
        "id": "atPBNylg9yXT",
        "colab_type": "code",
        "outputId": "154888f3-5c15-43a4-b329-3d058bdba6eb",
        "colab": {
          "base_uri": "https://localhost:8080/",
          "height": 35
        }
      },
      "cell_type": "code",
      "source": [
        "learn.lr_find()"
      ],
      "execution_count": 159,
      "outputs": [
        {
          "output_type": "display_data",
          "data": {
            "text/html": [
              ""
            ],
            "text/plain": [
              "<IPython.core.display.HTML object>"
            ]
          },
          "metadata": {
            "tags": []
          }
        },
        {
          "output_type": "stream",
          "text": [
            "LR Finder is complete, type {learner_name}.recorder.plot() to see the graph.\n"
          ],
          "name": "stdout"
        }
      ]
    },
    {
      "metadata": {
        "id": "--2TLd9S9zvn",
        "colab_type": "code",
        "outputId": "2d6bc089-65e7-450d-b690-5706c1d8db38",
        "colab": {
          "base_uri": "https://localhost:8080/",
          "height": 361
        }
      },
      "cell_type": "code",
      "source": [
        "learn.recorder.plot()"
      ],
      "execution_count": 160,
      "outputs": [
        {
          "output_type": "display_data",
          "data": {
            "image/png": "[encoded data removed]",
            "text/plain": [
              "<Figure size 576x396 with 1 Axes>"
            ]
          },
          "metadata": {
            "tags": []
          }
        }
      ]
    },
    {
      "metadata": {
        "id": "nK8pHyjH91fp",
        "colab_type": "code",
        "outputId": "c675f8d7-f44b-42f5-d4c2-20a00d11f472",
        "colab": {
          "base_uri": "https://localhost:8080/",
          "height": 386
        }
      },
      "cell_type": "code",
      "source": [
        "learn.fit_one_cycle(10, 5e-2)"
      ],
      "execution_count": 161,
      "outputs": [
        {
          "output_type": "display_data",
          "data": {
            "text/html": [
              "Total time: 00:05 <p><table border=\"1\" class=\"dataframe\">\n",
              "  <thead>\n",
              "    <tr style=\"text-align: left;\">\n",
              "      <th>epoch</th>\n",
              "      <th>train_loss</th>\n",
              "      <th>valid_loss</th>\n",
              "      <th>accuracy</th>\n",
              "      <th>time</th>\n",
              "    </tr>\n",
              "  </thead>\n",
              "  <tbody>\n",
              "    <tr>\n",
              "      <td>1</td>\n",
              "      <td>0.832402</td>\n",
              "      <td>0.670953</td>\n",
              "      <td>0.967836</td>\n",
              "      <td>00:00</td>\n",
              "    </tr>\n",
              "    <tr>\n",
              "      <td>2</td>\n",
              "      <td>0.507236</td>\n",
              "      <td>0.045812</td>\n",
              "      <td>0.976608</td>\n",
              "      <td>00:00</td>\n",
              "    </tr>\n",
              "    <tr>\n",
              "      <td>3</td>\n",
              "      <td>0.295812</td>\n",
              "      <td>0.025153</td>\n",
              "      <td>0.976608</td>\n",
              "      <td>00:00</td>\n",
              "    </tr>\n",
              "    <tr>\n",
              "      <td>4</td>\n",
              "      <td>0.195619</td>\n",
              "      <td>0.035485</td>\n",
              "      <td>0.991228</td>\n",
              "      <td>00:00</td>\n",
              "    </tr>\n",
              "    <tr>\n",
              "      <td>5</td>\n",
              "      <td>0.130140</td>\n",
              "      <td>0.026568</td>\n",
              "      <td>0.991228</td>\n",
              "      <td>00:00</td>\n",
              "    </tr>\n",
              "    <tr>\n",
              "      <td>6</td>\n",
              "      <td>0.090432</td>\n",
              "      <td>0.023071</td>\n",
              "      <td>0.991228</td>\n",
              "      <td>00:00</td>\n",
              "    </tr>\n",
              "    <tr>\n",
              "      <td>7</td>\n",
              "      <td>0.069896</td>\n",
              "      <td>0.037762</td>\n",
              "      <td>0.976608</td>\n",
              "      <td>00:00</td>\n",
              "    </tr>\n",
              "    <tr>\n",
              "      <td>8</td>\n",
              "      <td>0.057618</td>\n",
              "      <td>0.021429</td>\n",
              "      <td>0.991228</td>\n",
              "      <td>00:00</td>\n",
              "    </tr>\n",
              "    <tr>\n",
              "      <td>9</td>\n",
              "      <td>0.049564</td>\n",
              "      <td>0.023954</td>\n",
              "      <td>0.991228</td>\n",
              "      <td>00:00</td>\n",
              "    </tr>\n",
              "    <tr>\n",
              "      <td>10</td>\n",
              "      <td>0.040301</td>\n",
              "      <td>0.026728</td>\n",
              "      <td>0.991228</td>\n",
              "      <td>00:00</td>\n",
              "    </tr>\n",
              "  </tbody>\n",
              "</table>"
            ],
            "text/plain": [
              "<IPython.core.display.HTML object>"
            ]
          },
          "metadata": {
            "tags": []
          }
        }
      ]
    },
    {
      "metadata": {
        "id": "zpIbJoFW90CZ",
        "colab_type": "code",
        "colab": {}
      },
      "cell_type": "code",
      "source": [
        "interp = learn.interpret()"
      ],
      "execution_count": 0,
      "outputs": []
    },
    {
      "metadata": {
        "id": "J4JMkItDMx6C",
        "colab_type": "code",
        "colab": {
          "base_uri": "https://localhost:8080/",
          "height": 415
        },
        "outputId": "83445f03-a182-4c62-f8f5-6ec3edc2f1a8"
      },
      "cell_type": "code",
      "source": [
        "interp.plot_confusion_matrix()"
      ],
      "execution_count": 163,
      "outputs": [
        {
          "output_type": "display_data",
          "data": {
            "image/png": "[encoded data removed]",
            "text/plain": [
              "<Figure size 576x396 with 1 Axes>"
            ]
          },
          "metadata": {
            "tags": []
          }
        }
      ]
    },
    {
      "metadata": {
        "id": "tVJglbvKMzxp",
        "colab_type": "code",
        "colab": {
          "base_uri": "https://localhost:8080/",
          "height": 323
        },
        "outputId": "0f9f27d4-57f3-423b-9586-ae9891468c2f"
      },
      "cell_type": "code",
      "source": [
        "get_metrics(interp.confusion_matrix())"
      ],
      "execution_count": 164,
      "outputs": [
        {
          "output_type": "stream",
          "text": [
            "Accuracy score: 0.9912280701754386\n",
            "Class-wise accuracy:\n",
            "[1. 0. 1.]\n",
            "Classification report:\n",
            "              precision    recall  f1-score   support\n",
            "\n",
            "           0       1.00      1.00      1.00       331\n",
            "           1       0.00      0.00      0.00         3\n",
            "           2       0.73      1.00      0.84         8\n",
            "\n",
            "   micro avg       0.99      0.99      0.99       342\n",
            "   macro avg       0.58      0.67      0.61       342\n",
            "weighted avg       0.98      0.99      0.99       342\n",
            "\n"
          ],
          "name": "stdout"
        },
        {
          "output_type": "stream",
          "text": [
            "/usr/local/lib/python3.6/dist-packages/sklearn/metrics/classification.py:1143: UndefinedMetricWarning: Precision and F-score are ill-defined and being set to 0.0 in labels with no predicted samples.\n",
            "  'precision', 'predicted', average, warn_for)\n"
          ],
          "name": "stderr"
        }
      ]
    },
    {
      "metadata": {
        "id": "WMhyZmupM4WL",
        "colab_type": "code",
        "colab": {}
      },
      "cell_type": "code",
      "source": [
        ""
      ],
      "execution_count": 0,
      "outputs": []
    }
  ]
}