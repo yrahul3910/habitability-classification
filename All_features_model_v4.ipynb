{
  "nbformat": 4,
  "nbformat_minor": 0,
  "metadata": {
    "colab": {
      "name": "All features model.ipynb",
      "version": "0.3.2",
      "provenance": [],
      "collapsed_sections": []
    },
    "kernelspec": {
      "name": "python3",
      "display_name": "Python 3"
    },
    "accelerator": "GPU"
  },
  "cells": [
    {
      "metadata": {
        "id": "HD3W79xtxZeu",
        "colab_type": "code",
        "outputId": "8709d7e2-1b83-45b8-a14e-2a389c00e706",
        "colab": {
          "base_uri": "https://localhost:8080/",
          "height": 126
        }
      },
      "cell_type": "code",
      "source": [
        "from google.colab import drive\n",
        "drive.mount('/content/gdrive', force_remount=True)\n",
        "root_dir = \"/content/gdrive/My Drive/\""
      ],
      "execution_count": 1,
      "outputs": [
        {
          "output_type": "stream",
          "text": [
            "Go to this URL in a browser: https://accounts.google.com/o/oauth2/auth?client_id=947318989803-6bn6qk8qdgf4n4g3pfee6491hc0brc4i.apps.googleusercontent.com&redirect_uri=urn%3Aietf%3Awg%3Aoauth%3A2.0%3Aoob&scope=email%20https%3A%2F%2Fwww.googleapis.com%2Fauth%2Fdocs.test%20https%3A%2F%2Fwww.googleapis.com%2Fauth%2Fdrive%20https%3A%2F%2Fwww.googleapis.com%2Fauth%2Fdrive.photos.readonly%20https%3A%2F%2Fwww.googleapis.com%2Fauth%2Fpeopleapi.readonly&response_type=code\n",
            "\n",
            "Enter your authorization code:\n",
            "··········\n",
            "Mounted at /content/gdrive\n"
          ],
          "name": "stdout"
        }
      ]
    },
    {
      "metadata": {
        "id": "G45O220Gx1qU",
        "colab_type": "code",
        "colab": {}
      },
      "cell_type": "code",
      "source": [
        "!cp gdrive/\"My Drive\"/dataset-rocky-all-feats.csv ./"
      ],
      "execution_count": 0,
      "outputs": []
    },
    {
      "metadata": {
        "id": "OHjJ6mSgcqxO",
        "colab_type": "text"
      },
      "cell_type": "markdown",
      "source": [
        "# Test with sklearn"
      ]
    },
    {
      "metadata": {
        "id": "KF_O9pW-cuhz",
        "colab_type": "code",
        "colab": {}
      },
      "cell_type": "code",
      "source": [
        "from sklearn.naive_bayes import GaussianNB\n",
        "from sklearn.ensemble import RandomForestClassifier\n",
        "from sklearn.model_selection import train_test_split\n",
        "from sklearn.metrics import classification_report"
      ],
      "execution_count": 0,
      "outputs": []
    },
    {
      "metadata": {
        "id": "Nxr2klYicxl2",
        "colab_type": "code",
        "colab": {}
      },
      "cell_type": "code",
      "source": [
        "df = pd.read_csv('dataset-rocky-all-feats.csv')"
      ],
      "execution_count": 0,
      "outputs": []
    },
    {
      "metadata": {
        "id": "J6MQbsa0dFr4",
        "colab_type": "code",
        "colab": {}
      },
      "cell_type": "code",
      "source": [
        "df = df.drop('P. Habitable', axis=1)"
      ],
      "execution_count": 0,
      "outputs": []
    },
    {
      "metadata": {
        "id": "38RyWyQlc1JM",
        "colab_type": "code",
        "colab": {}
      },
      "cell_type": "code",
      "source": [
        "nb = GaussianNB()"
      ],
      "execution_count": 0,
      "outputs": []
    },
    {
      "metadata": {
        "id": "ucKycWSyc38-",
        "colab_type": "code",
        "colab": {}
      },
      "cell_type": "code",
      "source": [
        "y = df['hab_lbl']"
      ],
      "execution_count": 0,
      "outputs": []
    },
    {
      "metadata": {
        "id": "I9Mg5UsNdLJ_",
        "colab_type": "code",
        "colab": {}
      },
      "cell_type": "code",
      "source": [
        "x = df.drop('hab_lbl', axis=1)"
      ],
      "execution_count": 0,
      "outputs": []
    },
    {
      "metadata": {
        "id": "i_jLdcPRdNll",
        "colab_type": "code",
        "outputId": "d5077df5-4e7b-4ac7-8316-6f874dd05fd3",
        "colab": {
          "base_uri": "https://localhost:8080/",
          "height": 325
        }
      },
      "cell_type": "code",
      "source": [
        "x.head()"
      ],
      "execution_count": 0,
      "outputs": [
        {
          "output_type": "execute_result",
          "data": {
            "text/html": [
              "<div>\n",
              "<style scoped>\n",
              "    .dataframe tbody tr th:only-of-type {\n",
              "        vertical-align: middle;\n",
              "    }\n",
              "\n",
              "    .dataframe tbody tr th {\n",
              "        vertical-align: top;\n",
              "    }\n",
              "\n",
              "    .dataframe thead th {\n",
              "        text-align: right;\n",
              "    }\n",
              "</style>\n",
              "<table border=\"1\" class=\"dataframe\">\n",
              "  <thead>\n",
              "    <tr style=\"text-align: right;\">\n",
              "      <th></th>\n",
              "      <th>P. Zone Class</th>\n",
              "      <th>P. Mass Class</th>\n",
              "      <th>P. Composition Class</th>\n",
              "      <th>P. Atmosphere Class</th>\n",
              "      <th>P. Min Mass (EU)</th>\n",
              "      <th>P. Mass (EU)</th>\n",
              "      <th>P. Radius (EU)</th>\n",
              "      <th>P. Density (EU)</th>\n",
              "      <th>P. Gravity (EU)</th>\n",
              "      <th>P. Esc Vel (EU)</th>\n",
              "      <th>...</th>\n",
              "      <th>S. Appar Mag</th>\n",
              "      <th>S. Mag from Planet</th>\n",
              "      <th>S. Size from Planet (deg)</th>\n",
              "      <th>S. Hab Zone Min (AU)</th>\n",
              "      <th>S. Hab Zone Max (AU)</th>\n",
              "      <th>P. HZD</th>\n",
              "      <th>P. HZC</th>\n",
              "      <th>P. HZA</th>\n",
              "      <th>P. HZI</th>\n",
              "      <th>P. ESI</th>\n",
              "    </tr>\n",
              "  </thead>\n",
              "  <tbody>\n",
              "    <tr>\n",
              "      <th>0</th>\n",
              "      <td>2</td>\n",
              "      <td>2</td>\n",
              "      <td>2</td>\n",
              "      <td>2</td>\n",
              "      <td>18.217914</td>\n",
              "      <td>8.10</td>\n",
              "      <td>1.99</td>\n",
              "      <td>1.03</td>\n",
              "      <td>2.05</td>\n",
              "      <td>2.02</td>\n",
              "      <td>...</td>\n",
              "      <td>6.0</td>\n",
              "      <td>-35.2</td>\n",
              "      <td>33.0178</td>\n",
              "      <td>0.591</td>\n",
              "      <td>1.419</td>\n",
              "      <td>-2.39</td>\n",
              "      <td>0.06</td>\n",
              "      <td>-0.81</td>\n",
              "      <td>0.28</td>\n",
              "      <td>0.26</td>\n",
              "    </tr>\n",
              "    <tr>\n",
              "      <th>1</th>\n",
              "      <td>2</td>\n",
              "      <td>2</td>\n",
              "      <td>3</td>\n",
              "      <td>2</td>\n",
              "      <td>5.090000</td>\n",
              "      <td>5.09</td>\n",
              "      <td>1.66</td>\n",
              "      <td>1.10</td>\n",
              "      <td>1.84</td>\n",
              "      <td>1.75</td>\n",
              "      <td>...</td>\n",
              "      <td>4.7</td>\n",
              "      <td>-32.9</td>\n",
              "      <td>10.0643</td>\n",
              "      <td>0.656</td>\n",
              "      <td>1.556</td>\n",
              "      <td>-2.35</td>\n",
              "      <td>-0.15</td>\n",
              "      <td>-0.69</td>\n",
              "      <td>0.29</td>\n",
              "      <td>0.27</td>\n",
              "    </tr>\n",
              "    <tr>\n",
              "      <th>2</th>\n",
              "      <td>2</td>\n",
              "      <td>4</td>\n",
              "      <td>3</td>\n",
              "      <td>3</td>\n",
              "      <td>1.140000</td>\n",
              "      <td>1.14</td>\n",
              "      <td>1.09</td>\n",
              "      <td>0.89</td>\n",
              "      <td>0.97</td>\n",
              "      <td>1.03</td>\n",
              "      <td>...</td>\n",
              "      <td>1.3</td>\n",
              "      <td>-33.0</td>\n",
              "      <td>11.5197</td>\n",
              "      <td>0.545</td>\n",
              "      <td>1.306</td>\n",
              "      <td>-2.33</td>\n",
              "      <td>-0.17</td>\n",
              "      <td>-1.12</td>\n",
              "      <td>0.28</td>\n",
              "      <td>0.30</td>\n",
              "    </tr>\n",
              "    <tr>\n",
              "      <th>3</th>\n",
              "      <td>2</td>\n",
              "      <td>2</td>\n",
              "      <td>3</td>\n",
              "      <td>2</td>\n",
              "      <td>11.770000</td>\n",
              "      <td>16.31</td>\n",
              "      <td>2.23</td>\n",
              "      <td>1.47</td>\n",
              "      <td>3.28</td>\n",
              "      <td>2.71</td>\n",
              "      <td>...</td>\n",
              "      <td>11.0</td>\n",
              "      <td>-29.7</td>\n",
              "      <td>2.0522</td>\n",
              "      <td>0.694</td>\n",
              "      <td>1.636</td>\n",
              "      <td>-1.96</td>\n",
              "      <td>-0.13</td>\n",
              "      <td>0.61</td>\n",
              "      <td>0.33</td>\n",
              "      <td>0.33</td>\n",
              "    </tr>\n",
              "    <tr>\n",
              "      <th>4</th>\n",
              "      <td>2</td>\n",
              "      <td>2</td>\n",
              "      <td>3</td>\n",
              "      <td>2</td>\n",
              "      <td>8.580000</td>\n",
              "      <td>8.58</td>\n",
              "      <td>1.91</td>\n",
              "      <td>1.23</td>\n",
              "      <td>2.35</td>\n",
              "      <td>2.12</td>\n",
              "      <td>...</td>\n",
              "      <td>6.7</td>\n",
              "      <td>-33.4</td>\n",
              "      <td>20.5046</td>\n",
              "      <td>0.735</td>\n",
              "      <td>1.832</td>\n",
              "      <td>-2.26</td>\n",
              "      <td>-0.14</td>\n",
              "      <td>-0.54</td>\n",
              "      <td>0.30</td>\n",
              "      <td>0.26</td>\n",
              "    </tr>\n",
              "  </tbody>\n",
              "</table>\n",
              "<p>5 rows × 44 columns</p>\n",
              "</div>"
            ],
            "text/plain": [
              "   P. Zone Class  P. Mass Class  P. Composition Class  P. Atmosphere Class  \\\n",
              "0              2              2                     2                    2   \n",
              "1              2              2                     3                    2   \n",
              "2              2              4                     3                    3   \n",
              "3              2              2                     3                    2   \n",
              "4              2              2                     3                    2   \n",
              "\n",
              "   P. Min Mass (EU)  P. Mass (EU)  P. Radius (EU)  P. Density (EU)  \\\n",
              "0         18.217914          8.10            1.99             1.03   \n",
              "1          5.090000          5.09            1.66             1.10   \n",
              "2          1.140000          1.14            1.09             0.89   \n",
              "3         11.770000         16.31            2.23             1.47   \n",
              "4          8.580000          8.58            1.91             1.23   \n",
              "\n",
              "   P. Gravity (EU)  P. Esc Vel (EU)   ...    S. Appar Mag  S. Mag from Planet  \\\n",
              "0             2.05             2.02   ...             6.0               -35.2   \n",
              "1             1.84             1.75   ...             4.7               -32.9   \n",
              "2             0.97             1.03   ...             1.3               -33.0   \n",
              "3             3.28             2.71   ...            11.0               -29.7   \n",
              "4             2.35             2.12   ...             6.7               -33.4   \n",
              "\n",
              "   S. Size from Planet (deg)  S. Hab Zone Min (AU)  S. Hab Zone Max (AU)  \\\n",
              "0                    33.0178                 0.591                 1.419   \n",
              "1                    10.0643                 0.656                 1.556   \n",
              "2                    11.5197                 0.545                 1.306   \n",
              "3                     2.0522                 0.694                 1.636   \n",
              "4                    20.5046                 0.735                 1.832   \n",
              "\n",
              "   P. HZD  P. HZC  P. HZA  P. HZI  P. ESI  \n",
              "0   -2.39    0.06   -0.81    0.28    0.26  \n",
              "1   -2.35   -0.15   -0.69    0.29    0.27  \n",
              "2   -2.33   -0.17   -1.12    0.28    0.30  \n",
              "3   -1.96   -0.13    0.61    0.33    0.33  \n",
              "4   -2.26   -0.14   -0.54    0.30    0.26  \n",
              "\n",
              "[5 rows x 44 columns]"
            ]
          },
          "metadata": {
            "tags": []
          },
          "execution_count": 196
        }
      ]
    },
    {
      "metadata": {
        "id": "QEoZEH1udSXC",
        "colab_type": "code",
        "outputId": "836bca2f-25c3-4a39-cb21-67b55bef04ac",
        "colab": {
          "base_uri": "https://localhost:8080/",
          "height": 73
        }
      },
      "cell_type": "code",
      "source": [
        "x_train, x_test, y_train, y_test = train_test_split(x, y, train_size=0.7)"
      ],
      "execution_count": 0,
      "outputs": [
        {
          "output_type": "stream",
          "text": [
            "/usr/local/lib/python3.6/dist-packages/sklearn/model_selection/_split.py:2179: FutureWarning: From version 0.21, test_size will always complement train_size unless both are specified.\n",
            "  FutureWarning)\n"
          ],
          "name": "stderr"
        }
      ]
    },
    {
      "metadata": {
        "id": "By6p6F5NdhwT",
        "colab_type": "code",
        "outputId": "cb20ce55-5c16-4cd6-f0f5-17bf3afb40af",
        "colab": {
          "base_uri": "https://localhost:8080/",
          "height": 35
        }
      },
      "cell_type": "code",
      "source": [
        "nb.fit(x_train, y_train)"
      ],
      "execution_count": 0,
      "outputs": [
        {
          "output_type": "execute_result",
          "data": {
            "text/plain": [
              "GaussianNB(priors=None, var_smoothing=1e-09)"
            ]
          },
          "metadata": {
            "tags": []
          },
          "execution_count": 199
        }
      ]
    },
    {
      "metadata": {
        "id": "Vc_rmSGadkXM",
        "colab_type": "code",
        "outputId": "fc7853bc-7dbb-49f2-b72b-07b264a73901",
        "colab": {
          "base_uri": "https://localhost:8080/",
          "height": 35
        }
      },
      "cell_type": "code",
      "source": [
        "nb.score(x_test, y_test)"
      ],
      "execution_count": 0,
      "outputs": [
        {
          "output_type": "execute_result",
          "data": {
            "text/plain": [
              "0.9863813229571985"
            ]
          },
          "metadata": {
            "tags": []
          },
          "execution_count": 200
        }
      ]
    },
    {
      "metadata": {
        "id": "E9yLJTTNdmpY",
        "colab_type": "code",
        "outputId": "dbf16dcc-1092-4836-b331-a6fbb8484449",
        "colab": {
          "base_uri": "https://localhost:8080/",
          "height": 196
        }
      },
      "cell_type": "code",
      "source": [
        "preds = nb.predict(x_test)\n",
        "print(classification_report(y_test, preds))"
      ],
      "execution_count": 0,
      "outputs": [
        {
          "output_type": "stream",
          "text": [
            "              precision    recall  f1-score   support\n",
            "\n",
            "           0       1.00      0.99      0.99       501\n",
            "           1       0.86      1.00      0.92         6\n",
            "           2       0.50      0.86      0.63         7\n",
            "\n",
            "   micro avg       0.99      0.99      0.99       514\n",
            "   macro avg       0.79      0.95      0.85       514\n",
            "weighted avg       0.99      0.99      0.99       514\n",
            "\n"
          ],
          "name": "stdout"
        }
      ]
    },
    {
      "metadata": {
        "id": "uxOEWC9cfNoj",
        "colab_type": "text"
      },
      "cell_type": "markdown",
      "source": [
        "## RandomForest"
      ]
    },
    {
      "metadata": {
        "id": "94J3tPQedxnY",
        "colab_type": "code",
        "outputId": "0d40ff3c-f0cd-4fe6-f682-8176ef6f1af3",
        "colab": {
          "base_uri": "https://localhost:8080/",
          "height": 91
        }
      },
      "cell_type": "code",
      "source": [
        "clf = RandomForestClassifier()\n",
        "clf.fit(x_train, y_train)\n",
        "clf.score(x_test, y_test)"
      ],
      "execution_count": 0,
      "outputs": [
        {
          "output_type": "stream",
          "text": [
            "/usr/local/lib/python3.6/dist-packages/sklearn/ensemble/forest.py:246: FutureWarning: The default value of n_estimators will change from 10 in version 0.20 to 100 in 0.22.\n",
            "  \"10 in version 0.20 to 100 in 0.22.\", FutureWarning)\n"
          ],
          "name": "stderr"
        },
        {
          "output_type": "execute_result",
          "data": {
            "text/plain": [
              "1.0"
            ]
          },
          "metadata": {
            "tags": []
          },
          "execution_count": 205
        }
      ]
    },
    {
      "metadata": {
        "id": "JzUVm51hfVYZ",
        "colab_type": "code",
        "outputId": "01b3f204-8541-4e9a-dd84-d4d9a69aac00",
        "colab": {
          "base_uri": "https://localhost:8080/",
          "height": 196
        }
      },
      "cell_type": "code",
      "source": [
        "print(classification_report(y_test, clf.predict(x_test)))"
      ],
      "execution_count": 0,
      "outputs": [
        {
          "output_type": "stream",
          "text": [
            "              precision    recall  f1-score   support\n",
            "\n",
            "           0       1.00      1.00      1.00       501\n",
            "           1       1.00      1.00      1.00         6\n",
            "           2       1.00      1.00      1.00         7\n",
            "\n",
            "   micro avg       1.00      1.00      1.00       514\n",
            "   macro avg       1.00      1.00      1.00       514\n",
            "weighted avg       1.00      1.00      1.00       514\n",
            "\n"
          ],
          "name": "stdout"
        }
      ]
    },
    {
      "metadata": {
        "id": "y65R3CsegBPo",
        "colab_type": "text"
      },
      "cell_type": "markdown",
      "source": [
        "## RF on data without STemp"
      ]
    },
    {
      "metadata": {
        "id": "6iZHUfpGgD4X",
        "colab_type": "code",
        "colab": {}
      },
      "cell_type": "code",
      "source": [
        "df = pd.read_csv('dataset-rocky-no-STemp.csv')"
      ],
      "execution_count": 0,
      "outputs": []
    },
    {
      "metadata": {
        "id": "8Et29nqOgOek",
        "colab_type": "code",
        "colab": {}
      },
      "cell_type": "code",
      "source": [
        "df = df.drop('P. Habitable', axis=1)\n",
        "y = df['hab_lbl']\n",
        "x = df.drop('hab_lbl', axis=1)"
      ],
      "execution_count": 0,
      "outputs": []
    },
    {
      "metadata": {
        "id": "rnxX3YxygdXZ",
        "colab_type": "code",
        "outputId": "15e242ae-4194-406a-de73-dcac72029c1b",
        "colab": {
          "base_uri": "https://localhost:8080/",
          "height": 73
        }
      },
      "cell_type": "code",
      "source": [
        "x_train, x_test, y_train, y_test = train_test_split(x, y, train_size=0.7)"
      ],
      "execution_count": 0,
      "outputs": [
        {
          "output_type": "stream",
          "text": [
            "/usr/local/lib/python3.6/dist-packages/sklearn/model_selection/_split.py:2179: FutureWarning: From version 0.21, test_size will always complement train_size unless both are specified.\n",
            "  FutureWarning)\n"
          ],
          "name": "stderr"
        }
      ]
    },
    {
      "metadata": {
        "id": "8lfaDyXHggfH",
        "colab_type": "code",
        "outputId": "8f736a48-dc4e-4f04-ed34-c724b2831aef",
        "colab": {
          "base_uri": "https://localhost:8080/",
          "height": 126
        }
      },
      "cell_type": "code",
      "source": [
        "clf = RandomForestClassifier()\n",
        "clf.fit(x_train, y_train)\n",
        "clf.score(x_test, y_test)"
      ],
      "execution_count": 0,
      "outputs": [
        {
          "output_type": "stream",
          "text": [
            "/usr/local/lib/python3.6/dist-packages/sklearn/ensemble/forest.py:246: FutureWarning: The default value of n_estimators will change from 10 in version 0.20 to 100 in 0.22.\n",
            "  \"10 in version 0.20 to 100 in 0.22.\", FutureWarning)\n"
          ],
          "name": "stderr"
        },
        {
          "output_type": "execute_result",
          "data": {
            "text/plain": [
              "0.9980544747081712"
            ]
          },
          "metadata": {
            "tags": []
          },
          "execution_count": 212
        },
        {
          "output_type": "stream",
          "text": [
            "/usr/local/lib/python3.6/dist-packages/sklearn/ensemble/forest.py:246: FutureWarning: The default value of n_estimators will change from 10 in version 0.20 to 100 in 0.22.\n",
            "  \"10 in version 0.20 to 100 in 0.22.\", FutureWarning)\n"
          ],
          "name": "stderr"
        },
        {
          "output_type": "execute_result",
          "data": {
            "text/plain": [
              "0.9980544747081712"
            ]
          },
          "metadata": {
            "tags": []
          },
          "execution_count": 212
        }
      ]
    },
    {
      "metadata": {
        "id": "nqlSYB62gmAK",
        "colab_type": "code",
        "outputId": "16010652-9ca0-440c-bd4b-bc83b7f7b1cd",
        "colab": {
          "base_uri": "https://localhost:8080/",
          "height": 196
        }
      },
      "cell_type": "code",
      "source": [
        "print(classification_report(y_test, clf.predict(x_test)))"
      ],
      "execution_count": 0,
      "outputs": [
        {
          "output_type": "stream",
          "text": [
            "              precision    recall  f1-score   support\n",
            "\n",
            "           0       1.00      1.00      1.00       498\n",
            "           1       1.00      1.00      1.00         4\n",
            "           2       0.92      1.00      0.96        12\n",
            "\n",
            "   micro avg       1.00      1.00      1.00       514\n",
            "   macro avg       0.97      1.00      0.99       514\n",
            "weighted avg       1.00      1.00      1.00       514\n",
            "\n"
          ],
          "name": "stdout"
        }
      ]
    },
    {
      "metadata": {
        "id": "vWKz2P8ChQPV",
        "colab_type": "text"
      },
      "cell_type": "markdown",
      "source": [
        "## RF with reduced features"
      ]
    },
    {
      "metadata": {
        "id": "F7U46_6zhTOf",
        "colab_type": "code",
        "colab": {}
      },
      "cell_type": "code",
      "source": [
        "!cp gdrive/\"My Drive\"/dataset-rocky-restricted-feat-set.csv ./"
      ],
      "execution_count": 0,
      "outputs": []
    },
    {
      "metadata": {
        "id": "_P_lPuAIhiP3",
        "colab_type": "code",
        "colab": {}
      },
      "cell_type": "code",
      "source": [
        "df = pd.read_csv('dataset-rocky-restricted-feat-set.csv')"
      ],
      "execution_count": 0,
      "outputs": []
    },
    {
      "metadata": {
        "id": "eUsQMe2dhkzV",
        "colab_type": "code",
        "colab": {}
      },
      "cell_type": "code",
      "source": [
        "#df = df.drop('P. Habitable', axis=1)\n",
        "y = df['hab_lbl']\n",
        "x = df.drop('hab_lbl', axis=1)"
      ],
      "execution_count": 0,
      "outputs": []
    },
    {
      "metadata": {
        "id": "T2qU-3VJhpyi",
        "colab_type": "code",
        "outputId": "5d6b7ef8-fba5-4f9a-e327-6f57d1f1e77e",
        "colab": {
          "base_uri": "https://localhost:8080/",
          "height": 73
        }
      },
      "cell_type": "code",
      "source": [
        "x_train, x_test, y_train, y_test = train_test_split(x, y, train_size=0.7)"
      ],
      "execution_count": 0,
      "outputs": [
        {
          "output_type": "stream",
          "text": [
            "/usr/local/lib/python3.6/dist-packages/sklearn/model_selection/_split.py:2179: FutureWarning: From version 0.21, test_size will always complement train_size unless both are specified.\n",
            "  FutureWarning)\n"
          ],
          "name": "stderr"
        }
      ]
    },
    {
      "metadata": {
        "id": "1kkvEVjIhvU0",
        "colab_type": "code",
        "outputId": "239d32a2-e2c5-43fb-8f46-55fe4871344e",
        "colab": {
          "base_uri": "https://localhost:8080/",
          "height": 91
        }
      },
      "cell_type": "code",
      "source": [
        "clf = RandomForestClassifier()\n",
        "clf.fit(x_train, y_train)\n",
        "clf.score(x_test, y_test)"
      ],
      "execution_count": 0,
      "outputs": [
        {
          "output_type": "stream",
          "text": [
            "/usr/local/lib/python3.6/dist-packages/sklearn/ensemble/forest.py:246: FutureWarning: The default value of n_estimators will change from 10 in version 0.20 to 100 in 0.22.\n",
            "  \"10 in version 0.20 to 100 in 0.22.\", FutureWarning)\n"
          ],
          "name": "stderr"
        },
        {
          "output_type": "execute_result",
          "data": {
            "text/plain": [
              "0.9961089494163424"
            ]
          },
          "metadata": {
            "tags": []
          },
          "execution_count": 219
        }
      ]
    },
    {
      "metadata": {
        "id": "2YQ73a22h0cB",
        "colab_type": "code",
        "outputId": "f17d7462-ddb1-45ed-c1d3-90e9785c1e99",
        "colab": {
          "base_uri": "https://localhost:8080/",
          "height": 196
        }
      },
      "cell_type": "code",
      "source": [
        "print(classification_report(y_test, clf.predict(x_test)))"
      ],
      "execution_count": 0,
      "outputs": [
        {
          "output_type": "stream",
          "text": [
            "              precision    recall  f1-score   support\n",
            "\n",
            "           0       1.00      1.00      1.00       496\n",
            "           1       1.00      0.83      0.91         6\n",
            "           2       0.92      1.00      0.96        12\n",
            "\n",
            "   micro avg       1.00      1.00      1.00       514\n",
            "   macro avg       0.97      0.94      0.96       514\n",
            "weighted avg       1.00      1.00      1.00       514\n",
            "\n"
          ],
          "name": "stdout"
        }
      ]
    },
    {
      "metadata": {
        "id": "Rax-ToXyh_ep",
        "colab_type": "code",
        "colab": {}
      },
      "cell_type": "code",
      "source": [
        ""
      ],
      "execution_count": 0,
      "outputs": []
    },
    {
      "metadata": {
        "id": "7cOE2RPLcsg7",
        "colab_type": "text"
      },
      "cell_type": "markdown",
      "source": [
        "# Back to Deep Learning!"
      ]
    },
    {
      "metadata": {
        "id": "lJ7Zoi1eyMo-",
        "colab_type": "code",
        "colab": {}
      },
      "cell_type": "code",
      "source": [
        "from fastai import *\n",
        "from fastai.tabular import *"
      ],
      "execution_count": 0,
      "outputs": []
    },
    {
      "metadata": {
        "id": "Mzf_SPnvyn7i",
        "colab_type": "code",
        "colab": {}
      },
      "cell_type": "code",
      "source": [
        "from fastai.basics import *"
      ],
      "execution_count": 0,
      "outputs": []
    },
    {
      "metadata": {
        "id": "ixy4vnCHyPwr",
        "colab_type": "code",
        "colab": {}
      },
      "cell_type": "code",
      "source": [
        "df = pd.read_csv('dataset-rocky-all-feats.csv')"
      ],
      "execution_count": 0,
      "outputs": []
    },
    {
      "metadata": {
        "id": "KU8b9OhX-A6p",
        "colab_type": "code",
        "colab": {}
      },
      "cell_type": "code",
      "source": [
        "df = df.drop('P. Habitable', axis=1)"
      ],
      "execution_count": 0,
      "outputs": []
    },
    {
      "metadata": {
        "id": "j3Lhj8xboiqY",
        "colab_type": "code",
        "colab": {
          "base_uri": "https://localhost:8080/",
          "height": 73
        },
        "outputId": "c6a47909-d2e0-4080-ec3a-7456c782b7e3"
      },
      "cell_type": "code",
      "source": [
        "train_df, valid_df = train_test_split(df, train_size=0.7)"
      ],
      "execution_count": 8,
      "outputs": [
        {
          "output_type": "stream",
          "text": [
            "/usr/local/lib/python3.6/dist-packages/sklearn/model_selection/_split.py:2179: FutureWarning: From version 0.21, test_size will always complement train_size unless both are specified.\n",
            "  FutureWarning)\n"
          ],
          "name": "stderr"
        }
      ]
    },
    {
      "metadata": {
        "id": "EcgsQABjS-kv",
        "colab_type": "code",
        "colab": {}
      },
      "cell_type": "code",
      "source": [
        "def rebalance(frame, col='hab_lbl', factor=1):\n",
        "    max_size = frame[col].value_counts().max()\n",
        "    lst = [frame]\n",
        "    for class_index, group in frame.groupby(col):\n",
        "        lst.append(group.sample(int((max_size-len(group)) / factor), replace=True))\n",
        "    frame_new = pd.concat(lst)\n",
        "    \n",
        "    return frame_new"
      ],
      "execution_count": 0,
      "outputs": []
    },
    {
      "metadata": {
        "id": "jwP9nX37TbY8",
        "colab_type": "code",
        "colab": {}
      },
      "cell_type": "code",
      "source": [
        "train_df = rebalance(train_df)"
      ],
      "execution_count": 0,
      "outputs": []
    },
    {
      "metadata": {
        "id": "nucsoiASynDD",
        "colab_type": "code",
        "outputId": "3afe749a-eaf4-4a0c-98a0-e28f6020f01c",
        "colab": {
          "base_uri": "https://localhost:8080/",
          "height": 910
        }
      },
      "cell_type": "code",
      "source": [
        "train_df.info()"
      ],
      "execution_count": 11,
      "outputs": [
        {
          "output_type": "stream",
          "text": [
            "<class 'pandas.core.frame.DataFrame'>\n",
            "Int64Index: 3495 entries, 1655 to 1695\n",
            "Data columns (total 45 columns):\n",
            "hab_lbl                      3495 non-null int64\n",
            "P. Zone Class                3495 non-null int64\n",
            "P. Mass Class                3495 non-null int64\n",
            "P. Composition Class         3495 non-null int64\n",
            "P. Atmosphere Class          3495 non-null int64\n",
            "P. Min Mass (EU)             3495 non-null float64\n",
            "P. Mass (EU)                 3495 non-null float64\n",
            "P. Radius (EU)               3495 non-null float64\n",
            "P. Density (EU)              3495 non-null float64\n",
            "P. Gravity (EU)              3495 non-null float64\n",
            "P. Esc Vel (EU)              3495 non-null float64\n",
            "P. SFlux Min (EU)            3495 non-null float64\n",
            "P. SFlux Mean (EU)           3495 non-null float64\n",
            "P. SFlux Max (EU)            3495 non-null float64\n",
            "P. Teq Min (K)               3495 non-null float64\n",
            "P. Teq Mean (K)              3495 non-null float64\n",
            "P. Teq Max (K)               3495 non-null float64\n",
            "P. Ts Min (K)                3495 non-null float64\n",
            "P. Ts Mean (K)               3495 non-null float64\n",
            "P. Ts Max (K)                3495 non-null float64\n",
            "P. Surf Press (EU)           3495 non-null float64\n",
            "P. Mag                       3495 non-null float64\n",
            "P. Appar Size (deg)          3495 non-null float64\n",
            "P. Period (days)             3495 non-null float64\n",
            "P. Sem Major Axis (AU)       3495 non-null float64\n",
            "P. Eccentricity              3495 non-null float64\n",
            "P. Mean Distance (AU)        3495 non-null float64\n",
            "P. Inclination (deg)         3495 non-null float64\n",
            "P. Omega (deg)               3495 non-null float64\n",
            "S. Mass (SU)                 3495 non-null float64\n",
            "S. Radius (SU)               3495 non-null float64\n",
            "S. Teff (K)                  3495 non-null float64\n",
            "S. Luminosity (SU)           3495 non-null float64\n",
            "S. [Fe/H]                    3495 non-null float64\n",
            "S. Age (Gyrs)                3495 non-null float64\n",
            "S. Appar Mag                 3495 non-null float64\n",
            "S. Mag from Planet           3495 non-null float64\n",
            "S. Size from Planet (deg)    3495 non-null float64\n",
            "S. Hab Zone Min (AU)         3495 non-null float64\n",
            "S. Hab Zone Max (AU)         3495 non-null float64\n",
            "P. HZD                       3495 non-null float64\n",
            "P. HZC                       3495 non-null float64\n",
            "P. HZA                       3495 non-null float64\n",
            "P. HZI                       3495 non-null float64\n",
            "P. ESI                       3495 non-null float64\n",
            "dtypes: float64(40), int64(5)\n",
            "memory usage: 1.2 MB\n"
          ],
          "name": "stdout"
        }
      ]
    },
    {
      "metadata": {
        "id": "lhbheYxtzciR",
        "colab_type": "code",
        "colab": {}
      },
      "cell_type": "code",
      "source": [
        "cat_vars = train_df.columns[np.where(train_df.dtypes == 'int64')]"
      ],
      "execution_count": 0,
      "outputs": []
    },
    {
      "metadata": {
        "id": "hZRILmuL0JmB",
        "colab_type": "code",
        "colab": {}
      },
      "cell_type": "code",
      "source": [
        "cat_vars = cat_vars.tolist()\n",
        "cat_vars.remove('hab_lbl')"
      ],
      "execution_count": 0,
      "outputs": []
    },
    {
      "metadata": {
        "id": "qsz_dZ7C0Sfx",
        "colab_type": "code",
        "outputId": "d45e8bc2-120b-4d60-a2cf-b9b609abc830",
        "colab": {
          "base_uri": "https://localhost:8080/",
          "height": 88
        }
      },
      "cell_type": "code",
      "source": [
        "cat_vars"
      ],
      "execution_count": 14,
      "outputs": [
        {
          "output_type": "execute_result",
          "data": {
            "text/plain": [
              "['P. Zone Class',\n",
              " 'P. Mass Class',\n",
              " 'P. Composition Class',\n",
              " 'P. Atmosphere Class']"
            ]
          },
          "metadata": {
            "tags": []
          },
          "execution_count": 14
        }
      ]
    },
    {
      "metadata": {
        "id": "dsN1eq_I0fos",
        "colab_type": "code",
        "colab": {}
      },
      "cell_type": "code",
      "source": [
        "cont_vars = train_df.columns[np.where(train_df.dtypes == 'float64')]"
      ],
      "execution_count": 0,
      "outputs": []
    },
    {
      "metadata": {
        "id": "fBc55zA_0mu6",
        "colab_type": "code",
        "colab": {}
      },
      "cell_type": "code",
      "source": [
        "cont_vars = cont_vars.tolist()"
      ],
      "execution_count": 0,
      "outputs": []
    },
    {
      "metadata": {
        "id": "76JTEuzO0o_Y",
        "colab_type": "code",
        "outputId": "eedbe102-ac1b-4e83-c09f-c515e2dee157",
        "colab": {
          "base_uri": "https://localhost:8080/",
          "height": 35
        }
      },
      "cell_type": "code",
      "source": [
        "len(cont_vars) + len(cat_vars)"
      ],
      "execution_count": 17,
      "outputs": [
        {
          "output_type": "execute_result",
          "data": {
            "text/plain": [
              "44"
            ]
          },
          "metadata": {
            "tags": []
          },
          "execution_count": 17
        }
      ]
    },
    {
      "metadata": {
        "id": "hxyfrKy5yy3D",
        "colab_type": "code",
        "colab": {}
      },
      "cell_type": "code",
      "source": [
        "procs = [Normalize, Categorify]"
      ],
      "execution_count": 0,
      "outputs": []
    },
    {
      "metadata": {
        "id": "2-SjG5J3wA7b",
        "colab_type": "code",
        "colab": {
          "base_uri": "https://localhost:8080/",
          "height": 88
        },
        "outputId": "4f00e157-db8c-49ad-a507-1a81b0d6d6e2"
      },
      "cell_type": "code",
      "source": [
        "valid_df.index"
      ],
      "execution_count": 36,
      "outputs": [
        {
          "output_type": "execute_result",
          "data": {
            "text/plain": [
              "Int64Index([ 819,  260, 1506,  810, 1521,  655,  628, 1349, 1092, 1578,\n",
              "            ...\n",
              "             168,  719,  722,  635,  943,  706,  289,  492, 1639,  455],\n",
              "           dtype='int64', length=514)"
            ]
          },
          "metadata": {
            "tags": []
          },
          "execution_count": 36
        }
      ]
    },
    {
      "metadata": {
        "id": "UoyX8U5bwSy0",
        "colab_type": "code",
        "colab": {}
      },
      "cell_type": "code",
      "source": [
        "df = train_df.append(valid_df)"
      ],
      "execution_count": 0,
      "outputs": []
    },
    {
      "metadata": {
        "id": "rQi8-sq-y2cx",
        "colab_type": "code",
        "colab": {}
      },
      "cell_type": "code",
      "source": [
        "data = (TabularList.from_df(df, cat_names=cat_vars, cont_names=cont_vars, procs=procs)\n",
        "                   .split_by_idx(valid_df.index)\n",
        "                   .label_from_df(cols='hab_lbl')\n",
        "                   .databunch())"
      ],
      "execution_count": 0,
      "outputs": []
    },
    {
      "metadata": {
        "id": "4VzWgfFb6km2",
        "colab_type": "code",
        "outputId": "57be626f-16af-486e-a7d2-a7112e4a3576",
        "colab": {
          "base_uri": "https://localhost:8080/",
          "height": 341
        }
      },
      "cell_type": "code",
      "source": [
        "data"
      ],
      "execution_count": 39,
      "outputs": [
        {
          "output_type": "execute_result",
          "data": {
            "text/plain": [
              "TabularDataBunch;\n",
              "\n",
              "Train: LabelList (3495 items)\n",
              "x: TabularList\n",
              "P. Zone Class 2; P. Mass Class 4; P. Composition Class 3; P. Atmosphere Class 2; P. Min Mass (EU) 0.5683; P. Mass (EU) -0.2160; P. Radius (EU) -1.3704; P. Density (EU) -0.0263; P. Gravity (EU) -0.1407; P. Esc Vel (EU) -0.8078; P. SFlux Min (EU) -0.0294; P. SFlux Mean (EU) -0.0296; P. SFlux Max (EU) -0.0298; P. Teq Min (K) -0.3911; P. Teq Mean (K) -0.4046; P. Teq Max (K) -0.4233; P. Ts Min (K) -0.4049; P. Ts Mean (K) -0.4184; P. Ts Max (K) -0.4372; P. Surf Press (EU) -0.0210; P. Mag 0.5914; P. Appar Size (deg) -1.3750; P. Period (days) -0.3135; P. Sem Major Axis (AU) -0.7372; P. Eccentricity -0.5222; P. Mean Distance (AU) -0.7253; P. Inclination (deg) 0.5318; P. Omega (deg) -0.4186; S. Mass (SU) -1.7375; S. Radius (SU) -1.5094; S. Teff (K) -1.6315; S. Luminosity (SU) -0.5451; S. [Fe/H] 1.0404; S. Age (Gyrs) -2.0998; S. Appar Mag 2.5068; S. Mag from Planet 0.2716; S. Size from Planet (deg) 0.0621; S. Hab Zone Min (AU) -1.0794; S. Hab Zone Max (AU) -1.1128; P. HZD -0.1101; P. HZC -2.0089; P. HZA -0.7276; P. HZI -0.1715; P. ESI 0.5996; ,P. Zone Class 2; P. Mass Class 4; P. Composition Class 2; P. Atmosphere Class 2; P. Min Mass (EU) 0.5683; P. Mass (EU) -0.1164; P. Radius (EU) 0.2948; P. Density (EU) -0.1330; P. Gravity (EU) -0.1112; P. Esc Vel (EU) -0.2702; P. SFlux Min (EU) -0.0266; P. SFlux Mean (EU) -0.0267; P. SFlux Max (EU) -0.0270; P. Teq Min (K) 0.3426; P. Teq Mean (K) 0.3316; P. Teq Max (K) 0.3147; P. Ts Min (K) 0.3390; P. Ts Mean (K) 0.3280; P. Ts Max (K) 0.3110; P. Surf Press (EU) -0.0206; P. Mag -0.8337; P. Appar Size (deg) 0.3050; P. Period (days) -0.2937; P. Sem Major Axis (AU) -0.5927; P. Eccentricity -0.5222; P. Mean Distance (AU) -0.5829; P. Inclination (deg) -0.2397; P. Omega (deg) -0.4186; S. Mass (SU) 0.0679; S. Radius (SU) -0.1529; S. Teff (K) -0.1501; S. Luminosity (SU) -0.4220; S. [Fe/H] -0.5916; S. Age (Gyrs) 0.0750; S. Appar Mag -0.0696; S. Mag from Planet -0.7566; S. Size from Planet (deg) 0.3218; S. Hab Zone Min (AU) -0.3603; S. Hab Zone Max (AU) -0.3432; P. HZD -0.4849; P. HZC 2.7297; P. HZA -0.7070; P. HZI -0.8184; P. ESI -1.2296; ,P. Zone Class 2; P. Mass Class 2; P. Composition Class 3; P. Atmosphere Class 2; P. Min Mass (EU) 0.5683; P. Mass (EU) -0.1146; P. Radius (EU) -0.0653; P. Density (EU) -0.0493; P. Gravity (EU) -0.0648; P. Esc Vel (EU) -0.1695; P. SFlux Min (EU) -0.0262; P. SFlux Mean (EU) -0.0264; P. SFlux Max (EU) -0.0266; P. Teq Min (K) 0.3845; P. Teq Mean (K) 0.3736; P. Teq Max (K) 0.3568; P. Ts Min (K) 0.3844; P. Ts Mean (K) 0.3735; P. Ts Max (K) 0.3567; P. Surf Press (EU) -0.0204; P. Mag -0.8021; P. Appar Size (deg) -0.0736; P. Period (days) -0.2154; P. Sem Major Axis (AU) -0.2550; P. Eccentricity -0.5222; P. Mean Distance (AU) -0.2624; P. Inclination (deg) -1.0159; P. Omega (deg) -0.4186; S. Mass (SU) 1.1132; S. Radius (SU) 0.7318; S. Teff (K) 1.2228; S. Luminosity (SU) 0.4630; S. [Fe/H] 0.2964; S. Age (Gyrs) 0.0750; S. Appar Mag 0.3372; S. Mag from Planet -0.7920; S. Size from Planet (deg) -0.1259; S. Hab Zone Min (AU) 0.9187; S. Hab Zone Max (AU) 0.9069; P. HZD -0.5311; P. HZC 0.0732; P. HZA -0.6454; P. HZI -0.8831; P. ESI -1.2296; ,P. Zone Class 2; P. Mass Class 2; P. Composition Class 3; P. Atmosphere Class 2; P. Min Mass (EU) 0.5683; P. Mass (EU) 0.1812; P. Radius (EU) 1.1499; P. Density (EU) 0.0458; P. Gravity (EU) 0.1191; P. Esc Vel (EU) 0.8160; P. SFlux Min (EU) -0.0286; P. SFlux Mean (EU) -0.0287; P. SFlux Max (EU) -0.0290; P. Teq Min (K) -0.0150; P. Teq Mean (K) -0.0273; P. Teq Max (K) -0.0450; P. Ts Min (K) -0.0008; P. Ts Mean (K) -0.0130; P. Ts Max (K) -0.0307; P. Surf Press (EU) -0.0175; P. Mag -0.5663; P. Appar Size (deg) 1.1450; P. Period (days) -0.2750; P. Sem Major Axis (AU) -0.5197; P. Eccentricity -0.5222; P. Mean Distance (AU) -0.5117; P. Inclination (deg) 0.0358; P. Omega (deg) -0.4186; S. Mass (SU) -0.0588; S. Radius (SU) -0.2414; S. Teff (K) -0.4606; S. Luminosity (SU) -0.4665; S. [Fe/H] -0.6876; S. Age (Gyrs) 0.0750; S. Appar Mag -0.3273; S. Mag from Planet -0.3311; S. Size from Planet (deg) 0.0125; S. Hab Zone Min (AU) -0.5102; S. Hab Zone Max (AU) -0.4923; P. HZD -0.3785; P. HZC 0.2168; P. HZA 0.3919; P. HZI -0.6890; P. ESI -1.0119; ,P. Zone Class 2; P. Mass Class 4; P. Composition Class 3; P. Atmosphere Class 2; P. Min Mass (EU) 0.5683; P. Mass (EU) -0.1661; P. Radius (EU) -0.5153; P. Density (EU) -0.0724; P. Gravity (EU) -0.1098; P. Esc Vel (EU) -0.4606; P. SFlux Min (EU) -0.0222; P. SFlux Mean (EU) -0.0223; P. SFlux Max (EU) -0.0226; P. Teq Min (K) 0.7210; P. Teq Mean (K) 0.7112; P. Teq Max (K) 0.6952; P. Ts Min (K) 0.7159; P. Ts Mean (K) 0.7061; P. Ts Max (K) 0.6901; P. Surf Press (EU) -0.0207; P. Mag -1.0062; P. Appar Size (deg) -0.4995; P. Period (days) -0.2941; P. Sem Major Axis (AU) -0.5761; P. Eccentricity -0.5222; P. Mean Distance (AU) -0.5829; P. Inclination (deg) -1.0159; P. Omega (deg) -0.4186; S. Mass (SU) 0.4480; S. Radius (SU) 0.3189; S. Teff (K) 0.4093; S. Luminosity (SU) -0.1916; S. [Fe/H] 0.2339; S. Age (Gyrs) 0.4962; S. Appar Mag 1.0039; S. Mag from Planet -1.1111; S. Size from Planet (deg) 0.5020; S. Hab Zone Min (AU) 0.1446; S. Hab Zone Max (AU) 0.1637; P. HZD -0.5589; P. HZC 0.0014; P. HZA -0.9638; P. HZI -0.9477; P. ESI -1.2732; \n",
              "y: CategoryList\n",
              "0,0,0,0,0\n",
              "Path: .;\n",
              "\n",
              "Valid: LabelList (514 items)\n",
              "x: TabularList\n",
              "P. Zone Class 2; P. Mass Class 4; P. Composition Class 3; P. Atmosphere Class 3; P. Min Mass (EU) 0.5683; P. Mass (EU) -0.1780; P. Radius (EU) -0.6278; P. Density (EU) -0.0782; P. Gravity (EU) -0.1210; P. Esc Vel (EU) -0.5390; P. SFlux Min (EU) 0.2726; P. SFlux Mean (EU) 0.2725; P. SFlux Max (EU) 0.2722; P. Teq Min (K) 3.6152; P. Teq Mean (K) 3.6152; P. Teq Max (K) 3.6062; P. Ts Min (K) 3.6124; P. Ts Mean (K) 3.6124; P. Ts Max (K) 3.6034; P. Surf Press (EU) -0.0208; P. Mag -2.3962; P. Appar Size (deg) -0.6296; P. Period (days) -0.3058; P. Sem Major Axis (AU) -0.5881; P. Eccentricity -0.5222; P. Mean Distance (AU) -0.5829; P. Inclination (deg) -1.0159; P. Omega (deg) -0.4186; S. Mass (SU) 3.2038; S. Radius (SU) 5.6566; S. Teff (K) 1.7779; S. Luminosity (SU) 12.2924; S. [Fe/H] 0.2339; S. Age (Gyrs) -1.2679; S. Appar Mag -0.4990; S. Mag from Planet -2.5292; S. Size from Planet (deg) 3.7101; S. Hab Zone Min (AU) 5.9248; S. Hab Zone Max (AU) 5.8928; P. HZD -0.6884; P. HZC 0.0014; P. HZA -1.3848; P. HZI -1.1418; P. ESI -1.3603; ,P. Zone Class 2; P. Mass Class 2; P. Composition Class 3; P. Atmosphere Class 2; P. Min Mass (EU) 0.5683; P. Mass (EU) -0.0261; P. Radius (EU) 0.4298; P. Density (EU) -0.0176; P. Gravity (EU) -0.0002; P. Esc Vel (EU) 0.2001; P. SFlux Min (EU) -0.0270; P. SFlux Mean (EU) -0.0272; P. SFlux Max (EU) -0.0274; P. Teq Min (K) 0.2809; P. Teq Mean (K) 0.2697; P. Teq Max (K) 0.2526; P. Ts Min (K) 0.2868; P. Ts Mean (K) 0.2756; P. Ts Max (K) 0.2585; P. Surf Press (EU) -0.0196; P. Mag -0.7950; P. Appar Size (deg) 0.4233; P. Period (days) -0.2362; P. Sem Major Axis (AU) -0.3396; P. Eccentricity -0.5222; P. Mean Distance (AU) -0.3336; P. Inclination (deg) -1.0159; P. Omega (deg) -0.4186; S. Mass (SU) 0.7014; S. Radius (SU) 0.4664; S. Teff (K) 0.7380; S. Luminosity (SU) -0.0021; S. [Fe/H] 0.8772; S. Age (Gyrs) 0.0750; S. Appar Mag 0.3372; S. Mag from Planet -0.6857; S. Size from Planet (deg) -0.0882; S. Hab Zone Min (AU) 0.4230; S. Hab Zone Max (AU) 0.4291; P. HZD -0.5034; P. HZC 0.1450; P. HZA -0.3270; P. HZI -0.8184; P. ESI -1.2296; ,P. Zone Class 3; P. Mass Class 4; P. Composition Class 3; P. Atmosphere Class 2; P. Min Mass (EU) -0.3111; P. Mass (EU) -0.2196; P. Radius (EU) -1.2354; P. Density (EU) -0.1041; P. Gravity (EU) -0.1730; P. Esc Vel (EU) -0.8974; P. SFlux Min (EU) -0.0296; P. SFlux Mean (EU) -0.0297; P. SFlux Max (EU) -0.0300; P. Teq Min (K) -0.6001; P. Teq Mean (K) -0.6143; P. Teq Max (K) -0.6335; P. Ts Min (K) -0.6180; P. Ts Mean (K) -0.6323; P. Ts Max (K) -0.6516; P. Surf Press (EU) -0.0211; P. Mag 1.0207; P. Appar Size (deg) -1.2330; P. Period (days) -0.1334; P. Sem Major Axis (AU) -0.2353; P. Eccentricity -0.5222; P. Mean Distance (AU) -0.2268; P. Inclination (deg) 0.3665; P. Omega (deg) -0.4186; S. Mass (SU) -0.8506; S. Radius (SU) -0.8311; S. Teff (K) -0.8232; S. Luminosity (SU) -0.5256; S. [Fe/H] 0.3684; S. Age (Gyrs) -0.4272; S. Appar Mag -0.3395; S. Mag from Planet 0.7324; S. Size from Planet (deg) -0.4784; S. Hab Zone Min (AU) -0.8193; S. Hab Zone Max (AU) -0.8237; P. HZD 0.2970; P. HZC -0.0704; P. HZA -0.6146; P. HZI 1.3163; P. ESI 1.1222; ,P. Zone Class 2; P. Mass Class 2; P. Composition Class 3; P. Atmosphere Class 2; P. Min Mass (EU) 0.5683; P. Mass (EU) 0.0469; P. Radius (EU) 0.7223; P. Density (EU) 0.0055; P. Gravity (EU) 0.0447; P. Esc Vel (EU) 0.4465; P. SFlux Min (EU) -0.0246; P. SFlux Mean (EU) -0.0248; P. SFlux Max (EU) -0.0250; P. Teq Min (K) 0.5421; P. Teq Mean (K) 0.5318; P. Teq Max (K) 0.5153; P. Ts Min (K) 0.5522; P. Ts Mean (K) 0.5418; P. Ts Max (K) 0.5254; P. Surf Press (EU) -0.0189; P. Mag -1.1012; P. Appar Size (deg) 0.7309; P. Period (days) -0.2456; P. Sem Major Axis (AU) -0.3657; P. Eccentricity -0.5222; P. Mean Distance (AU) -0.3692; P. Inclination (deg) -1.0159; P. Omega (deg) -0.4186; S. Mass (SU) 0.9548; S. Radius (SU) 0.8203; S. Teff (K) 1.0433; S. Luminosity (SU) 0.3880; S. [Fe/H] 0.2339; S. Age (Gyrs) 0.3015; S. Appar Mag 0.3598; S. Mag from Planet -0.9338; S. Size from Planet (deg) 0.0474; S. Hab Zone Min (AU) 0.8667; S. Hab Zone Max (AU) 0.8647; P. HZD -0.5543; P. HZC 0.2168; P. HZA -0.2962; P. HZI -0.8831; P. ESI -1.3603; ,P. Zone Class 3; P. Mass Class 4; P. Composition Class 3; P. Atmosphere Class 2; P. Min Mass (EU) -0.5826; P. Mass (EU) -0.2193; P. Radius (EU) -1.2354; P. Density (EU) -0.1041; P. Gravity (EU) -0.1730; P. Esc Vel (EU) -0.8862; P. SFlux Min (EU) -0.0296; P. SFlux Mean (EU) -0.0297; P. SFlux Max (EU) -0.0300; P. Teq Min (K) -0.5989; P. Teq Mean (K) -0.6131; P. Teq Max (K) -0.6322; P. Ts Min (K) -0.6167; P. Ts Mean (K) -0.6310; P. Ts Max (K) -0.6503; P. Surf Press (EU) -0.0211; P. Mag 1.0172; P. Appar Size (deg) -1.2330; P. Period (days) -0.2692; P. Sem Major Axis (AU) -0.6198; P. Eccentricity -0.5222; P. Mean Distance (AU) -0.6185; P. Inclination (deg) 0.5948; P. Omega (deg) -0.4186; S. Mass (SU) -1.6108; S. Radius (SU) -1.4504; S. Teff (K) -1.1979; S. Luminosity (SU) -0.5438; S. [Fe/H] -0.5421; S. Age (Gyrs) -0.4272; S. Appar Mag -0.7996; S. Mag from Planet 0.7324; S. Size from Planet (deg) -0.4106; S. Hab Zone Min (AU) -1.0396; S. Hab Zone Max (AU) -1.0666; P. HZD 0.2785; P. HZC -0.0704; P. HZA -0.6146; P. HZI 1.2516; P. ESI 1.1222; \n",
              "y: CategoryList\n",
              "0,0,1,0,1\n",
              "Path: .;\n",
              "\n",
              "Test: None"
            ]
          },
          "metadata": {
            "tags": []
          },
          "execution_count": 39
        }
      ]
    },
    {
      "metadata": {
        "id": "TUuQEapXCRVT",
        "colab_type": "code",
        "outputId": "1588bf90-c286-4907-ad08-d07dbfec1c19",
        "colab": {
          "base_uri": "https://localhost:8080/",
          "height": 88
        }
      },
      "cell_type": "code",
      "source": [
        "data.cat_names"
      ],
      "execution_count": 40,
      "outputs": [
        {
          "output_type": "execute_result",
          "data": {
            "text/plain": [
              "['P. Zone Class',\n",
              " 'P. Mass Class',\n",
              " 'P. Composition Class',\n",
              " 'P. Atmosphere Class']"
            ]
          },
          "metadata": {
            "tags": []
          },
          "execution_count": 40
        }
      ]
    },
    {
      "metadata": {
        "id": "77VJQwROCipS",
        "colab_type": "code",
        "outputId": "45fe6907-1a3b-45bb-f912-22a8a82808b9",
        "colab": {
          "base_uri": "https://localhost:8080/",
          "height": 35
        }
      },
      "cell_type": "code",
      "source": [
        "data.classes"
      ],
      "execution_count": 41,
      "outputs": [
        {
          "output_type": "execute_result",
          "data": {
            "text/plain": [
              "[0, 1, 2]"
            ]
          },
          "metadata": {
            "tags": []
          },
          "execution_count": 41
        }
      ]
    },
    {
      "metadata": {
        "id": "BI6SOmHkUI8i",
        "colab_type": "code",
        "colab": {}
      },
      "cell_type": "code",
      "source": [
        "import fastai"
      ],
      "execution_count": 0,
      "outputs": []
    },
    {
      "metadata": {
        "id": "aX6C1FxO1PlK",
        "colab_type": "code",
        "colab": {}
      },
      "cell_type": "code",
      "source": [
        "# We want more than just L2, which is provided by fastai by default. So ps and \n",
        "# emb_drop adds dropout regularization\n",
        "learn = tabular_learner(data, layers=[1000,500], ps=[0.01,0.1], emb_drop=0.04, metrics=fastai.basics.accuracy)"
      ],
      "execution_count": 0,
      "outputs": []
    },
    {
      "metadata": {
        "id": "oiLvh4BF5URa",
        "colab_type": "code",
        "outputId": "270ad04d-a36f-49e7-c65f-aa41ac023cf0",
        "colab": {
          "base_uri": "https://localhost:8080/",
          "height": 392
        }
      },
      "cell_type": "code",
      "source": [
        "learn.model"
      ],
      "execution_count": 44,
      "outputs": [
        {
          "output_type": "execute_result",
          "data": {
            "text/plain": [
              "TabularModel(\n",
              "  (embeds): ModuleList(\n",
              "    (0): Embedding(5, 4)\n",
              "    (1): Embedding(7, 5)\n",
              "    (2): Embedding(3, 3)\n",
              "    (3): Embedding(5, 4)\n",
              "  )\n",
              "  (emb_drop): Dropout(p=0.04)\n",
              "  (bn_cont): BatchNorm1d(40, eps=1e-05, momentum=0.1, affine=True, track_running_stats=True)\n",
              "  (layers): Sequential(\n",
              "    (0): Linear(in_features=56, out_features=1000, bias=True)\n",
              "    (1): ReLU(inplace)\n",
              "    (2): BatchNorm1d(1000, eps=1e-05, momentum=0.1, affine=True, track_running_stats=True)\n",
              "    (3): Dropout(p=0.01)\n",
              "    (4): Linear(in_features=1000, out_features=500, bias=True)\n",
              "    (5): ReLU(inplace)\n",
              "    (6): BatchNorm1d(500, eps=1e-05, momentum=0.1, affine=True, track_running_stats=True)\n",
              "    (7): Dropout(p=0.1)\n",
              "    (8): Linear(in_features=500, out_features=3, bias=True)\n",
              "  )\n",
              ")"
            ]
          },
          "metadata": {
            "tags": []
          },
          "execution_count": 44
        }
      ]
    },
    {
      "metadata": {
        "id": "2A3kDRyo5WmB",
        "colab_type": "code",
        "outputId": "91623708-510c-4137-ef19-281ba52068e9",
        "colab": {
          "base_uri": "https://localhost:8080/",
          "height": 35
        }
      },
      "cell_type": "code",
      "source": [
        "learn.lr_find()"
      ],
      "execution_count": 45,
      "outputs": [
        {
          "output_type": "display_data",
          "data": {
            "text/html": [
              ""
            ],
            "text/plain": [
              "<IPython.core.display.HTML object>"
            ]
          },
          "metadata": {
            "tags": []
          }
        },
        {
          "output_type": "stream",
          "text": [
            "LR Finder is complete, type {learner_name}.recorder.plot() to see the graph.\n"
          ],
          "name": "stdout"
        }
      ]
    },
    {
      "metadata": {
        "id": "7CKWfi_x5gok",
        "colab_type": "code",
        "outputId": "9fd65ee6-93d0-4ce7-d489-90ce114e3552",
        "colab": {
          "base_uri": "https://localhost:8080/",
          "height": 361
        }
      },
      "cell_type": "code",
      "source": [
        "learn.recorder.plot()"
      ],
      "execution_count": 46,
      "outputs": [
        {
          "output_type": "display_data",
          "data": {
            "image/png": "[encoded data removed]",
            "text/plain": [
              "<Figure size 576x396 with 1 Axes>"
            ]
          },
          "metadata": {
            "tags": []
          }
        }
      ]
    },
    {
      "metadata": {
        "id": "KSx04chH6Rl-",
        "colab_type": "code",
        "outputId": "541b60af-0eb0-4eaf-a096-baded1bfc4df",
        "colab": {
          "base_uri": "https://localhost:8080/",
          "height": 386
        }
      },
      "cell_type": "code",
      "source": [
        "learn.fit_one_cycle(10, 5e-3)"
      ],
      "execution_count": 47,
      "outputs": [
        {
          "output_type": "display_data",
          "data": {
            "text/html": [
              "Total time: 00:08 <p><table border=\"1\" class=\"dataframe\">\n",
              "  <thead>\n",
              "    <tr style=\"text-align: left;\">\n",
              "      <th>epoch</th>\n",
              "      <th>train_loss</th>\n",
              "      <th>valid_loss</th>\n",
              "      <th>accuracy</th>\n",
              "      <th>time</th>\n",
              "    </tr>\n",
              "  </thead>\n",
              "  <tbody>\n",
              "    <tr>\n",
              "      <td>1</td>\n",
              "      <td>0.162770</td>\n",
              "      <td>0.046883</td>\n",
              "      <td>0.982490</td>\n",
              "      <td>00:00</td>\n",
              "    </tr>\n",
              "    <tr>\n",
              "      <td>2</td>\n",
              "      <td>0.067916</td>\n",
              "      <td>0.017575</td>\n",
              "      <td>0.996109</td>\n",
              "      <td>00:00</td>\n",
              "    </tr>\n",
              "    <tr>\n",
              "      <td>3</td>\n",
              "      <td>0.042723</td>\n",
              "      <td>0.045083</td>\n",
              "      <td>0.994163</td>\n",
              "      <td>00:00</td>\n",
              "    </tr>\n",
              "    <tr>\n",
              "      <td>4</td>\n",
              "      <td>0.026991</td>\n",
              "      <td>0.102021</td>\n",
              "      <td>0.996109</td>\n",
              "      <td>00:00</td>\n",
              "    </tr>\n",
              "    <tr>\n",
              "      <td>5</td>\n",
              "      <td>0.013489</td>\n",
              "      <td>0.032054</td>\n",
              "      <td>0.998055</td>\n",
              "      <td>00:00</td>\n",
              "    </tr>\n",
              "    <tr>\n",
              "      <td>6</td>\n",
              "      <td>0.007106</td>\n",
              "      <td>0.036595</td>\n",
              "      <td>0.998055</td>\n",
              "      <td>00:00</td>\n",
              "    </tr>\n",
              "    <tr>\n",
              "      <td>7</td>\n",
              "      <td>0.002722</td>\n",
              "      <td>0.036981</td>\n",
              "      <td>0.998055</td>\n",
              "      <td>00:00</td>\n",
              "    </tr>\n",
              "    <tr>\n",
              "      <td>8</td>\n",
              "      <td>0.001422</td>\n",
              "      <td>0.038002</td>\n",
              "      <td>0.998055</td>\n",
              "      <td>00:00</td>\n",
              "    </tr>\n",
              "    <tr>\n",
              "      <td>9</td>\n",
              "      <td>0.000709</td>\n",
              "      <td>0.039544</td>\n",
              "      <td>0.998055</td>\n",
              "      <td>00:00</td>\n",
              "    </tr>\n",
              "    <tr>\n",
              "      <td>10</td>\n",
              "      <td>0.000750</td>\n",
              "      <td>0.039577</td>\n",
              "      <td>0.998055</td>\n",
              "      <td>00:00</td>\n",
              "    </tr>\n",
              "  </tbody>\n",
              "</table>"
            ],
            "text/plain": [
              "<IPython.core.display.HTML object>"
            ]
          },
          "metadata": {
            "tags": []
          }
        }
      ]
    },
    {
      "metadata": {
        "id": "TxaEuVKNHYuc",
        "colab_type": "code",
        "colab": {}
      },
      "cell_type": "code",
      "source": [
        "interp = learn.interpret()"
      ],
      "execution_count": 0,
      "outputs": []
    },
    {
      "metadata": {
        "id": "NdUolyaeHsWA",
        "colab_type": "code",
        "outputId": "f424ca9f-098e-4309-8803-8fd1ad32def7",
        "colab": {
          "base_uri": "https://localhost:8080/",
          "height": 415
        }
      },
      "cell_type": "code",
      "source": [
        "interp.plot_confusion_matrix()"
      ],
      "execution_count": 49,
      "outputs": [
        {
          "output_type": "display_data",
          "data": {
            "image/png": "[encoded data removed]",
            "text/plain": [
              "<Figure size 576x396 with 1 Axes>"
            ]
          },
          "metadata": {
            "tags": []
          }
        }
      ]
    },
    {
      "metadata": {
        "id": "ljRaXw7NIniQ",
        "colab_type": "code",
        "colab": {}
      },
      "cell_type": "code",
      "source": [
        "matrix = interp.confusion_matrix()"
      ],
      "execution_count": 0,
      "outputs": []
    },
    {
      "metadata": {
        "id": "x61WsppvIx1-",
        "colab_type": "code",
        "outputId": "d84f2d07-d091-4e0d-8f1f-c516facaa9fb",
        "colab": {
          "base_uri": "https://localhost:8080/",
          "height": 71
        }
      },
      "cell_type": "code",
      "source": [
        "matrix"
      ],
      "execution_count": 51,
      "outputs": [
        {
          "output_type": "execute_result",
          "data": {
            "text/plain": [
              "array([[354,   0,   1],\n",
              "       [  0, 151,   0],\n",
              "       [  0,   0,   8]])"
            ]
          },
          "metadata": {
            "tags": []
          },
          "execution_count": 51
        }
      ]
    },
    {
      "metadata": {
        "id": "heCjkxzlKX4u",
        "colab_type": "code",
        "colab": {}
      },
      "cell_type": "code",
      "source": [
        "from sklearn.metrics import classification_report, accuracy_score"
      ],
      "execution_count": 0,
      "outputs": []
    },
    {
      "metadata": {
        "id": "s9V9oggjJ2ji",
        "colab_type": "code",
        "colab": {}
      },
      "cell_type": "code",
      "source": [
        "def get_metrics(matrix):\n",
        "    preds = []\n",
        "    targs = []\n",
        "    \n",
        "    for i in range(len(matrix)):\n",
        "        for j in range(len(matrix)):\n",
        "            for k in range(matrix[i][j]):\n",
        "                targs.append(i)\n",
        "                preds.append(j)\n",
        "    \n",
        "    print('Accuracy score:', accuracy_score(targs, preds))\n",
        "    print('Class-wise accuracy:')\n",
        "    print([matrix[i][i] for i in range(len(matrix))] / np.sum(matrix, axis=1))\n",
        "    print('Classification report:')\n",
        "    print(classification_report(targs, preds))"
      ],
      "execution_count": 0,
      "outputs": []
    },
    {
      "metadata": {
        "id": "bKF3_gMMKe4j",
        "colab_type": "code",
        "outputId": "9b91f4fd-969b-4f91-9d90-48af7170ed2c",
        "colab": {
          "base_uri": "https://localhost:8080/",
          "height": 267
        }
      },
      "cell_type": "code",
      "source": [
        "get_metrics(matrix)"
      ],
      "execution_count": 54,
      "outputs": [
        {
          "output_type": "stream",
          "text": [
            "Accuracy score: 0.9980544747081712\n",
            "Class-wise accuracy:\n",
            "[0.997183 1.       1.      ]\n",
            "Classification report:\n",
            "              precision    recall  f1-score   support\n",
            "\n",
            "           0       1.00      1.00      1.00       355\n",
            "           1       1.00      1.00      1.00       151\n",
            "           2       0.89      1.00      0.94         8\n",
            "\n",
            "   micro avg       1.00      1.00      1.00       514\n",
            "   macro avg       0.96      1.00      0.98       514\n",
            "weighted avg       1.00      1.00      1.00       514\n",
            "\n"
          ],
          "name": "stdout"
        }
      ]
    },
    {
      "metadata": {
        "id": "6Pi_dzfm7ZFR",
        "colab_type": "text"
      },
      "cell_type": "markdown",
      "source": [
        "## Only 6 features"
      ]
    },
    {
      "metadata": {
        "id": "XO3uWP9E70B7",
        "colab_type": "code",
        "colab": {}
      },
      "cell_type": "code",
      "source": [
        "!cp gdrive/\"My Drive\"/dataset-rocky-restricted-feat-set.csv ./"
      ],
      "execution_count": 0,
      "outputs": []
    },
    {
      "metadata": {
        "id": "_ZtDDgNO7sc7",
        "colab_type": "code",
        "colab": {}
      },
      "cell_type": "code",
      "source": [
        "df = pd.read_csv('dataset-rocky-restricted-feat-set.csv')"
      ],
      "execution_count": 0,
      "outputs": []
    },
    {
      "metadata": {
        "id": "JmxzdN0Ax-3b",
        "colab_type": "code",
        "colab": {
          "base_uri": "https://localhost:8080/",
          "height": 231
        },
        "outputId": "bea5c5e9-3e05-4ceb-e2c4-fb18180d37f0"
      },
      "cell_type": "code",
      "source": [
        "df.info()"
      ],
      "execution_count": 150,
      "outputs": [
        {
          "output_type": "stream",
          "text": [
            "<class 'pandas.core.frame.DataFrame'>\n",
            "RangeIndex: 1713 entries, 0 to 1712\n",
            "Data columns (total 7 columns):\n",
            "hab_lbl               1713 non-null int64\n",
            "P. Min Mass (EU)      1713 non-null float64\n",
            "P. Mass (EU)          1713 non-null float64\n",
            "P. Radius (EU)        1713 non-null float64\n",
            "P. SFlux Min (EU)     1713 non-null float64\n",
            "P. SFlux Mean (EU)    1713 non-null float64\n",
            "P. SFlux Max (EU)     1713 non-null float64\n",
            "dtypes: float64(6), int64(1)\n",
            "memory usage: 93.8 KB\n"
          ],
          "name": "stdout"
        }
      ]
    },
    {
      "metadata": {
        "id": "oTW6qvN7xPnY",
        "colab_type": "code",
        "colab": {
          "base_uri": "https://localhost:8080/",
          "height": 73
        },
        "outputId": "e3248a7e-7b69-4a14-945c-b9ff683a960f"
      },
      "cell_type": "code",
      "source": [
        "train_df, valid_df = train_test_split(df, train_size=0.7)"
      ],
      "execution_count": 151,
      "outputs": [
        {
          "output_type": "stream",
          "text": [
            "/usr/local/lib/python3.6/dist-packages/sklearn/model_selection/_split.py:2179: FutureWarning: From version 0.21, test_size will always complement train_size unless both are specified.\n",
            "  FutureWarning)\n"
          ],
          "name": "stderr"
        }
      ]
    },
    {
      "metadata": {
        "id": "ehizGJi6yChR",
        "colab_type": "code",
        "colab": {
          "base_uri": "https://localhost:8080/",
          "height": 231
        },
        "outputId": "b682f563-3670-410e-ac1e-9e00db26c53d"
      },
      "cell_type": "code",
      "source": [
        "train_df.info()"
      ],
      "execution_count": 152,
      "outputs": [
        {
          "output_type": "stream",
          "text": [
            "<class 'pandas.core.frame.DataFrame'>\n",
            "Int64Index: 1199 entries, 120 to 672\n",
            "Data columns (total 7 columns):\n",
            "hab_lbl               1199 non-null int64\n",
            "P. Min Mass (EU)      1199 non-null float64\n",
            "P. Mass (EU)          1199 non-null float64\n",
            "P. Radius (EU)        1199 non-null float64\n",
            "P. SFlux Min (EU)     1199 non-null float64\n",
            "P. SFlux Mean (EU)    1199 non-null float64\n",
            "P. SFlux Max (EU)     1199 non-null float64\n",
            "dtypes: float64(6), int64(1)\n",
            "memory usage: 74.9 KB\n"
          ],
          "name": "stdout"
        }
      ]
    },
    {
      "metadata": {
        "id": "b1NDN5LbUu9_",
        "colab_type": "code",
        "colab": {}
      },
      "cell_type": "code",
      "source": [
        "train_df = rebalance(train_df, factor=2)"
      ],
      "execution_count": 0,
      "outputs": []
    },
    {
      "metadata": {
        "id": "eX9lO9V2yNON",
        "colab_type": "code",
        "colab": {
          "base_uri": "https://localhost:8080/",
          "height": 231
        },
        "outputId": "120e0b27-2135-417e-ef51-67327e212021"
      },
      "cell_type": "code",
      "source": [
        "train_df.info()"
      ],
      "execution_count": 154,
      "outputs": [
        {
          "output_type": "stream",
          "text": [
            "<class 'pandas.core.frame.DataFrame'>\n",
            "Int64Index: 2341 entries, 120 to 1709\n",
            "Data columns (total 7 columns):\n",
            "hab_lbl               2341 non-null int64\n",
            "P. Min Mass (EU)      2341 non-null float64\n",
            "P. Mass (EU)          2341 non-null float64\n",
            "P. Radius (EU)        2341 non-null float64\n",
            "P. SFlux Min (EU)     2341 non-null float64\n",
            "P. SFlux Mean (EU)    2341 non-null float64\n",
            "P. SFlux Max (EU)     2341 non-null float64\n",
            "dtypes: float64(6), int64(1)\n",
            "memory usage: 146.3 KB\n"
          ],
          "name": "stdout"
        }
      ]
    },
    {
      "metadata": {
        "id": "IR60WOjF8D9b",
        "colab_type": "code",
        "colab": {}
      },
      "cell_type": "code",
      "source": [
        "cat_vars = df.columns[np.where(df.dtypes == 'int64')]\n",
        "cat_vars = cat_vars.tolist()\n",
        "cat_vars.remove('hab_lbl')"
      ],
      "execution_count": 0,
      "outputs": []
    },
    {
      "metadata": {
        "id": "_UW5BMrq8NWC",
        "colab_type": "code",
        "outputId": "1f70c698-9c3c-49ba-dfac-50ae49b8f981",
        "colab": {
          "base_uri": "https://localhost:8080/",
          "height": 35
        }
      },
      "cell_type": "code",
      "source": [
        "cat_vars"
      ],
      "execution_count": 156,
      "outputs": [
        {
          "output_type": "execute_result",
          "data": {
            "text/plain": [
              "[]"
            ]
          },
          "metadata": {
            "tags": []
          },
          "execution_count": 156
        }
      ]
    },
    {
      "metadata": {
        "id": "kXlWN7JQ8PCG",
        "colab_type": "code",
        "colab": {}
      },
      "cell_type": "code",
      "source": [
        "cont_vars = df.columns[np.where(df.dtypes == 'float64')]\n",
        "cont_vars = cont_vars.tolist()"
      ],
      "execution_count": 0,
      "outputs": []
    },
    {
      "metadata": {
        "id": "DudRHmTxxm6L",
        "colab_type": "code",
        "colab": {}
      },
      "cell_type": "code",
      "source": [
        "df = train_df.append(valid_df)"
      ],
      "execution_count": 0,
      "outputs": []
    },
    {
      "metadata": {
        "id": "yDf_x_-E8R9Y",
        "colab_type": "code",
        "colab": {}
      },
      "cell_type": "code",
      "source": [
        "data = (TabularList.from_df(df, cat_names=cat_vars, cont_names=cont_vars, procs=procs)\n",
        "                   .split_by_idx(valid_df.index)\n",
        "                   .label_from_df(cols='hab_lbl')\n",
        "                   .databunch())"
      ],
      "execution_count": 0,
      "outputs": []
    },
    {
      "metadata": {
        "id": "4Ixw9tu58VUB",
        "colab_type": "code",
        "outputId": "f843d377-bfb1-48dd-cd6e-d96a904b58dc",
        "colab": {
          "base_uri": "https://localhost:8080/",
          "height": 341
        }
      },
      "cell_type": "code",
      "source": [
        "data"
      ],
      "execution_count": 160,
      "outputs": [
        {
          "output_type": "execute_result",
          "data": {
            "text/plain": [
              "TabularDataBunch;\n",
              "\n",
              "Train: LabelList (2341 items)\n",
              "x: TabularList\n",
              "P. Min Mass (EU) 0.2945; P. Mass (EU) -0.1436; P. Radius (EU) -0.3456; P. SFlux Min (EU) -0.0342; P. SFlux Mean (EU) -0.0343; P. SFlux Max (EU) -0.0346; ,P. Min Mass (EU) -0.4424; P. Mass (EU) -0.1451; P. Radius (EU) -0.3673; P. SFlux Min (EU) -0.0332; P. SFlux Mean (EU) -0.0333; P. SFlux Max (EU) -0.0335; ,P. Min Mass (EU) 0.2945; P. Mass (EU) -0.1711; P. Radius (EU) -0.6497; P. SFlux Min (EU) 0.1282; P. SFlux Mean (EU) 0.1347; P. SFlux Max (EU) 0.1413; ,P. Min Mass (EU) 0.2945; P. Mass (EU) 0.2071; P. Radius (EU) 1.2403; P. SFlux Min (EU) -0.0304; P. SFlux Mean (EU) -0.0305; P. SFlux Max (EU) -0.0308; ,P. Min Mass (EU) 0.2945; P. Mass (EU) -0.1214; P. Radius (EU) -0.1500; P. SFlux Min (EU) -0.0169; P. SFlux Mean (EU) -0.0170; P. SFlux Max (EU) -0.0173; \n",
              "y: CategoryList\n",
              "0,0,0,0,0\n",
              "Path: .;\n",
              "\n",
              "Valid: LabelList (514 items)\n",
              "x: TabularList\n",
              "P. Min Mass (EU) 0.2945; P. Mass (EU) 0.0022; P. Radius (EU) 0.5668; P. SFlux Min (EU) -0.0292; P. SFlux Mean (EU) -0.0294; P. SFlux Max (EU) -0.0297; ,P. Min Mass (EU) 0.2945; P. Mass (EU) -0.2008; P. Radius (EU) -1.1059; P. SFlux Min (EU) -0.0192; P. SFlux Mean (EU) -0.0193; P. SFlux Max (EU) -0.0196; ,P. Min Mass (EU) 0.2945; P. Mass (EU) -0.0605; P. Radius (EU) 0.2627; P. SFlux Min (EU) -0.0335; P. SFlux Mean (EU) -0.0337; P. SFlux Max (EU) -0.0340; ,P. Min Mass (EU) 0.2945; P. Mass (EU) -0.1968; P. Radius (EU) -1.0407; P. SFlux Min (EU) -0.0221; P. SFlux Mean (EU) -0.0222; P. SFlux Max (EU) -0.0225; ,P. Min Mass (EU) 0.2945; P. Mass (EU) 0.1205; P. Radius (EU) 1.0013; P. SFlux Min (EU) -0.0345; P. SFlux Mean (EU) -0.0347; P. SFlux Max (EU) -0.0350; \n",
              "y: CategoryList\n",
              "0,0,0,0,0\n",
              "Path: .;\n",
              "\n",
              "Test: None"
            ]
          },
          "metadata": {
            "tags": []
          },
          "execution_count": 160
        }
      ]
    },
    {
      "metadata": {
        "id": "u9slrnjO8fwH",
        "colab_type": "code",
        "colab": {}
      },
      "cell_type": "code",
      "source": [
        "learn = tabular_learner(data, layers=[100], ps=[0.5], metrics=fastai.basics.accuracy)"
      ],
      "execution_count": 0,
      "outputs": []
    },
    {
      "metadata": {
        "id": "UP_WlJOQ8g0m",
        "colab_type": "code",
        "outputId": "7e8f8464-d5b5-4045-d704-6993dd117938",
        "colab": {
          "base_uri": "https://localhost:8080/",
          "height": 231
        }
      },
      "cell_type": "code",
      "source": [
        "learn.model"
      ],
      "execution_count": 162,
      "outputs": [
        {
          "output_type": "execute_result",
          "data": {
            "text/plain": [
              "TabularModel(\n",
              "  (embeds): ModuleList()\n",
              "  (emb_drop): Dropout(p=0.0)\n",
              "  (bn_cont): BatchNorm1d(6, eps=1e-05, momentum=0.1, affine=True, track_running_stats=True)\n",
              "  (layers): Sequential(\n",
              "    (0): Linear(in_features=6, out_features=100, bias=True)\n",
              "    (1): ReLU(inplace)\n",
              "    (2): BatchNorm1d(100, eps=1e-05, momentum=0.1, affine=True, track_running_stats=True)\n",
              "    (3): Dropout(p=0.5)\n",
              "    (4): Linear(in_features=100, out_features=3, bias=True)\n",
              "  )\n",
              ")"
            ]
          },
          "metadata": {
            "tags": []
          },
          "execution_count": 162
        }
      ]
    },
    {
      "metadata": {
        "id": "RsieO8c_8kPU",
        "colab_type": "code",
        "outputId": "ab81f35a-e275-4543-88a8-8b5602ad472b",
        "colab": {
          "base_uri": "https://localhost:8080/",
          "height": 35
        }
      },
      "cell_type": "code",
      "source": [
        "learn.lr_find()"
      ],
      "execution_count": 163,
      "outputs": [
        {
          "output_type": "display_data",
          "data": {
            "text/html": [
              ""
            ],
            "text/plain": [
              "<IPython.core.display.HTML object>"
            ]
          },
          "metadata": {
            "tags": []
          }
        },
        {
          "output_type": "stream",
          "text": [
            "LR Finder is complete, type {learner_name}.recorder.plot() to see the graph.\n"
          ],
          "name": "stdout"
        }
      ]
    },
    {
      "metadata": {
        "id": "BnxLOU9I8mlf",
        "colab_type": "code",
        "outputId": "ca6a7e6d-c67e-436a-cf91-293c192e36df",
        "colab": {
          "base_uri": "https://localhost:8080/",
          "height": 361
        }
      },
      "cell_type": "code",
      "source": [
        "learn.recorder.plot()"
      ],
      "execution_count": 164,
      "outputs": [
        {
          "output_type": "display_data",
          "data": {
            "image/png": "[encoded data removed]",
            "text/plain": [
              "<Figure size 576x396 with 1 Axes>"
            ]
          },
          "metadata": {
            "tags": []
          }
        }
      ]
    },
    {
      "metadata": {
        "id": "4ikLxRWC8odO",
        "colab_type": "code",
        "outputId": "221f5b77-7e2c-4e97-ce0b-b0620a89c907",
        "colab": {
          "base_uri": "https://localhost:8080/",
          "height": 386
        }
      },
      "cell_type": "code",
      "source": [
        "learn.fit_one_cycle(10, slice(1e-3))"
      ],
      "execution_count": 165,
      "outputs": [
        {
          "output_type": "display_data",
          "data": {
            "text/html": [
              "Total time: 00:05 <p><table border=\"1\" class=\"dataframe\">\n",
              "  <thead>\n",
              "    <tr style=\"text-align: left;\">\n",
              "      <th>epoch</th>\n",
              "      <th>train_loss</th>\n",
              "      <th>valid_loss</th>\n",
              "      <th>accuracy</th>\n",
              "      <th>time</th>\n",
              "    </tr>\n",
              "  </thead>\n",
              "  <tbody>\n",
              "    <tr>\n",
              "      <td>1</td>\n",
              "      <td>1.126819</td>\n",
              "      <td>1.028230</td>\n",
              "      <td>0.838521</td>\n",
              "      <td>00:00</td>\n",
              "    </tr>\n",
              "    <tr>\n",
              "      <td>2</td>\n",
              "      <td>1.003988</td>\n",
              "      <td>0.940393</td>\n",
              "      <td>0.885214</td>\n",
              "      <td>00:00</td>\n",
              "    </tr>\n",
              "    <tr>\n",
              "      <td>3</td>\n",
              "      <td>0.806155</td>\n",
              "      <td>0.778563</td>\n",
              "      <td>0.935798</td>\n",
              "      <td>00:00</td>\n",
              "    </tr>\n",
              "    <tr>\n",
              "      <td>4</td>\n",
              "      <td>0.650060</td>\n",
              "      <td>0.674890</td>\n",
              "      <td>0.875486</td>\n",
              "      <td>00:00</td>\n",
              "    </tr>\n",
              "    <tr>\n",
              "      <td>5</td>\n",
              "      <td>0.556479</td>\n",
              "      <td>0.588599</td>\n",
              "      <td>0.832685</td>\n",
              "      <td>00:00</td>\n",
              "    </tr>\n",
              "    <tr>\n",
              "      <td>6</td>\n",
              "      <td>0.497262</td>\n",
              "      <td>0.449648</td>\n",
              "      <td>0.894942</td>\n",
              "      <td>00:00</td>\n",
              "    </tr>\n",
              "    <tr>\n",
              "      <td>7</td>\n",
              "      <td>0.463753</td>\n",
              "      <td>0.434684</td>\n",
              "      <td>0.929961</td>\n",
              "      <td>00:00</td>\n",
              "    </tr>\n",
              "    <tr>\n",
              "      <td>8</td>\n",
              "      <td>0.445947</td>\n",
              "      <td>0.500656</td>\n",
              "      <td>0.752918</td>\n",
              "      <td>00:00</td>\n",
              "    </tr>\n",
              "    <tr>\n",
              "      <td>9</td>\n",
              "      <td>0.435613</td>\n",
              "      <td>0.521310</td>\n",
              "      <td>0.700389</td>\n",
              "      <td>00:00</td>\n",
              "    </tr>\n",
              "    <tr>\n",
              "      <td>10</td>\n",
              "      <td>0.432034</td>\n",
              "      <td>0.505124</td>\n",
              "      <td>0.758755</td>\n",
              "      <td>00:00</td>\n",
              "    </tr>\n",
              "  </tbody>\n",
              "</table>"
            ],
            "text/plain": [
              "<IPython.core.display.HTML object>"
            ]
          },
          "metadata": {
            "tags": []
          }
        }
      ]
    },
    {
      "metadata": {
        "id": "M4U4_uemL3CW",
        "colab_type": "code",
        "colab": {}
      },
      "cell_type": "code",
      "source": [
        "mainterp = learn.interpret()"
      ],
      "execution_count": 0,
      "outputs": []
    },
    {
      "metadata": {
        "id": "kho7tLQIL7AR",
        "colab_type": "code",
        "outputId": "de2b8dc8-3721-43c1-93bb-9d4bb415a88e",
        "colab": {
          "base_uri": "https://localhost:8080/",
          "height": 415
        }
      },
      "cell_type": "code",
      "source": [
        "interp.plot_confusion_matrix()"
      ],
      "execution_count": 167,
      "outputs": [
        {
          "output_type": "display_data",
          "data": {
            "image/png": "[encoded data removed]",
            "text/plain": [
              "<Figure size 576x396 with 1 Axes>"
            ]
          },
          "metadata": {
            "tags": []
          }
        }
      ]
    },
    {
      "metadata": {
        "id": "azkSOHPqL9Pr",
        "colab_type": "code",
        "outputId": "71cb828f-92e3-4c39-f3c0-f509cd0c730d",
        "colab": {
          "base_uri": "https://localhost:8080/",
          "height": 267
        }
      },
      "cell_type": "code",
      "source": [
        "get_metrics(interp.confusion_matrix())"
      ],
      "execution_count": 168,
      "outputs": [
        {
          "output_type": "stream",
          "text": [
            "Accuracy score: 0.6770428015564203\n",
            "Class-wise accuracy:\n",
            "[0.942529 0.0875   1.      ]\n",
            "Classification report:\n",
            "              precision    recall  f1-score   support\n",
            "\n",
            "           0       1.00      0.94      0.97       348\n",
            "           1       0.82      0.09      0.16       160\n",
            "           2       0.04      1.00      0.07         6\n",
            "\n",
            "   micro avg       0.68      0.68      0.68       514\n",
            "   macro avg       0.62      0.68      0.40       514\n",
            "weighted avg       0.93      0.68      0.71       514\n",
            "\n"
          ],
          "name": "stdout"
        }
      ]
    },
    {
      "metadata": {
        "id": "8cuV1MdY86AI",
        "colab_type": "text"
      },
      "cell_type": "markdown",
      "source": [
        "## Without surface temp"
      ]
    },
    {
      "metadata": {
        "id": "WmpyjGvf8rbM",
        "colab_type": "code",
        "colab": {}
      },
      "cell_type": "code",
      "source": [
        "!cp gdrive/\"My Drive\"/dataset-rocky-no-STemp.csv ./"
      ],
      "execution_count": 0,
      "outputs": []
    },
    {
      "metadata": {
        "id": "AY8Rc5Ga9FB2",
        "colab_type": "code",
        "colab": {}
      },
      "cell_type": "code",
      "source": [
        "df = pd.read_csv('dataset-rocky-no-STemp.csv')"
      ],
      "execution_count": 0,
      "outputs": []
    },
    {
      "metadata": {
        "id": "ISdSixmb-p0n",
        "colab_type": "code",
        "colab": {}
      },
      "cell_type": "code",
      "source": [
        "df = df.drop('P. Habitable', axis=1)"
      ],
      "execution_count": 0,
      "outputs": []
    },
    {
      "metadata": {
        "id": "fVJs12cB1Lgu",
        "colab_type": "code",
        "colab": {
          "base_uri": "https://localhost:8080/",
          "height": 73
        },
        "outputId": "0e11a6da-88d0-43bb-fd88-c1b4628d27c0"
      },
      "cell_type": "code",
      "source": [
        "train_df, valid_df = train_test_split(df, train_size=0.7)"
      ],
      "execution_count": 176,
      "outputs": [
        {
          "output_type": "stream",
          "text": [
            "/usr/local/lib/python3.6/dist-packages/sklearn/model_selection/_split.py:2179: FutureWarning: From version 0.21, test_size will always complement train_size unless both are specified.\n",
            "  FutureWarning)\n"
          ],
          "name": "stderr"
        }
      ]
    },
    {
      "metadata": {
        "id": "Io7GgoRJZp-4",
        "colab_type": "code",
        "colab": {}
      },
      "cell_type": "code",
      "source": [
        "train_df = rebalance(train_df)"
      ],
      "execution_count": 0,
      "outputs": []
    },
    {
      "metadata": {
        "id": "4Z1VZ1pQ9VUs",
        "colab_type": "code",
        "outputId": "f247f326-1f24-4d43-e939-b8822bebf0f0",
        "colab": {
          "base_uri": "https://localhost:8080/",
          "height": 857
        }
      },
      "cell_type": "code",
      "source": [
        "train_df.info()"
      ],
      "execution_count": 178,
      "outputs": [
        {
          "output_type": "stream",
          "text": [
            "<class 'pandas.core.frame.DataFrame'>\n",
            "Int64Index: 3504 entries, 1627 to 1712\n",
            "Data columns (total 42 columns):\n",
            "hab_lbl                      3504 non-null int64\n",
            "P. Zone Class                3504 non-null int64\n",
            "P. Mass Class                3504 non-null int64\n",
            "P. Composition Class         3504 non-null int64\n",
            "P. Atmosphere Class          3504 non-null int64\n",
            "P. Min Mass (EU)             3504 non-null float64\n",
            "P. Mass (EU)                 3504 non-null float64\n",
            "P. Radius (EU)               3504 non-null float64\n",
            "P. Density (EU)              3504 non-null float64\n",
            "P. Gravity (EU)              3504 non-null float64\n",
            "P. Esc Vel (EU)              3504 non-null float64\n",
            "P. SFlux Min (EU)            3504 non-null float64\n",
            "P. SFlux Mean (EU)           3504 non-null float64\n",
            "P. SFlux Max (EU)            3504 non-null float64\n",
            "P. Teq Min (K)               3504 non-null float64\n",
            "P. Teq Mean (K)              3504 non-null float64\n",
            "P. Teq Max (K)               3504 non-null float64\n",
            "P. Surf Press (EU)           3504 non-null float64\n",
            "P. Mag                       3504 non-null float64\n",
            "P. Appar Size (deg)          3504 non-null float64\n",
            "P. Period (days)             3504 non-null float64\n",
            "P. Sem Major Axis (AU)       3504 non-null float64\n",
            "P. Eccentricity              3504 non-null float64\n",
            "P. Mean Distance (AU)        3504 non-null float64\n",
            "P. Inclination (deg)         3504 non-null float64\n",
            "P. Omega (deg)               3504 non-null float64\n",
            "S. Mass (SU)                 3504 non-null float64\n",
            "S. Radius (SU)               3504 non-null float64\n",
            "S. Teff (K)                  3504 non-null float64\n",
            "S. Luminosity (SU)           3504 non-null float64\n",
            "S. [Fe/H]                    3504 non-null float64\n",
            "S. Age (Gyrs)                3504 non-null float64\n",
            "S. Appar Mag                 3504 non-null float64\n",
            "S. Mag from Planet           3504 non-null float64\n",
            "S. Size from Planet (deg)    3504 non-null float64\n",
            "S. Hab Zone Min (AU)         3504 non-null float64\n",
            "S. Hab Zone Max (AU)         3504 non-null float64\n",
            "P. HZD                       3504 non-null float64\n",
            "P. HZC                       3504 non-null float64\n",
            "P. HZA                       3504 non-null float64\n",
            "P. HZI                       3504 non-null float64\n",
            "P. ESI                       3504 non-null float64\n",
            "dtypes: float64(37), int64(5)\n",
            "memory usage: 1.1 MB\n"
          ],
          "name": "stdout"
        }
      ]
    },
    {
      "metadata": {
        "id": "tqp3fsFb9Y1H",
        "colab_type": "code",
        "colab": {}
      },
      "cell_type": "code",
      "source": [
        "cat_vars = df.columns[np.where(df.dtypes == 'int64')]\n",
        "cat_vars = cat_vars.tolist()\n",
        "cat_vars.remove('hab_lbl')"
      ],
      "execution_count": 0,
      "outputs": []
    },
    {
      "metadata": {
        "id": "AfOv-aNw9bk_",
        "colab_type": "code",
        "outputId": "3c113427-5ba8-4508-e7b0-0eeeea733d44",
        "colab": {
          "base_uri": "https://localhost:8080/",
          "height": 88
        }
      },
      "cell_type": "code",
      "source": [
        "cat_vars"
      ],
      "execution_count": 180,
      "outputs": [
        {
          "output_type": "execute_result",
          "data": {
            "text/plain": [
              "['P. Zone Class',\n",
              " 'P. Mass Class',\n",
              " 'P. Composition Class',\n",
              " 'P. Atmosphere Class']"
            ]
          },
          "metadata": {
            "tags": []
          },
          "execution_count": 180
        }
      ]
    },
    {
      "metadata": {
        "id": "k9BDXXFb9cRY",
        "colab_type": "code",
        "colab": {}
      },
      "cell_type": "code",
      "source": [
        "cont_vars = df.columns[np.where(df.dtypes == 'float64')]\n",
        "cont_vars = cont_vars.tolist()"
      ],
      "execution_count": 0,
      "outputs": []
    },
    {
      "metadata": {
        "id": "kVLg0Jd1CJPN",
        "colab_type": "code",
        "colab": {
          "base_uri": "https://localhost:8080/",
          "height": 35
        },
        "outputId": "d617865d-93b2-4acb-847c-5512c09b8e73"
      },
      "cell_type": "code",
      "source": [
        "len(cont_vars)"
      ],
      "execution_count": 204,
      "outputs": [
        {
          "output_type": "execute_result",
          "data": {
            "text/plain": [
              "37"
            ]
          },
          "metadata": {
            "tags": []
          },
          "execution_count": 204
        }
      ]
    },
    {
      "metadata": {
        "id": "Ts3nZgZm1gLL",
        "colab_type": "code",
        "colab": {}
      },
      "cell_type": "code",
      "source": [
        "df = train_df.append(valid_df)"
      ],
      "execution_count": 0,
      "outputs": []
    },
    {
      "metadata": {
        "id": "7_IC-9-l9oIK",
        "colab_type": "code",
        "colab": {}
      },
      "cell_type": "code",
      "source": [
        "data = (TabularList.from_df(df, cat_names=cat_vars, cont_names=cont_vars, procs=procs)\n",
        "                   .split_by_idx(valid_df.index)\n",
        "                   .label_from_df(cols='hab_lbl')\n",
        "                   .databunch())"
      ],
      "execution_count": 0,
      "outputs": []
    },
    {
      "metadata": {
        "id": "m4mbCzRj9qek",
        "colab_type": "code",
        "outputId": "37483b61-4bd7-458c-b56f-f2f168800290",
        "colab": {
          "base_uri": "https://localhost:8080/",
          "height": 341
        }
      },
      "cell_type": "code",
      "source": [
        "data"
      ],
      "execution_count": 184,
      "outputs": [
        {
          "output_type": "execute_result",
          "data": {
            "text/plain": [
              "TabularDataBunch;\n",
              "\n",
              "Train: LabelList (3504 items)\n",
              "x: TabularList\n",
              "P. Zone Class 2; P. Mass Class 2; P. Composition Class 3; P. Atmosphere Class 2; P. Min Mass (EU) 0.5419; P. Mass (EU) -0.0534; P. Radius (EU) 0.3282; P. Density (EU) 0.0202; P. Gravity (EU) 0.0328; P. Esc Vel (EU) 0.1726; P. SFlux Min (EU) -0.0336; P. SFlux Mean (EU) -0.0336; P. SFlux Max (EU) -0.0335; P. Teq Min (K) -0.0797; P. Teq Mean (K) -0.0283; P. Teq Max (K) 0.0333; P. Surf Press (EU) -0.0332; P. Mag -0.4375; P. Appar Size (deg) 0.3200; P. Period (days) -0.5152; P. Sem Major Axis (AU) -0.6963; P. Eccentricity 0.9188; P. Mean Distance (AU) -0.7048; P. Inclination (deg) -1.6607; P. Omega (deg) -0.4495; S. Mass (SU) -0.3328; S. Radius (SU) -0.3545; S. Teff (K) -0.5917; S. Luminosity (SU) -0.4373; S. [Fe/H] 0.1323; S. Age (Gyrs) 0.2478; S. Appar Mag 0.4272; S. Mag from Planet -0.3471; S. Size from Planet (deg) 0.1043; S. Hab Zone Min (AU) -0.6074; S. Hab Zone Max (AU) -0.5917; P. HZD -0.4592; P. HZC -0.0756; P. HZA -0.1768; P. HZI -0.5334; P. ESI -0.9601; ,P. Zone Class 2; P. Mass Class 2; P. Composition Class 3; P. Atmosphere Class 2; P. Min Mass (EU) 0.5419; P. Mass (EU) 0.4496; P. Radius (EU) 1.1958; P. Density (EU) 0.4043; P. Gravity (EU) 0.5419; P. Esc Vel (EU) 1.0815; P. SFlux Min (EU) -0.0270; P. SFlux Mean (EU) -0.0271; P. SFlux Max (EU) -0.0274; P. Teq Min (K) 0.7564; P. Teq Mean (K) 0.7447; P. Teq Max (K) 0.7251; P. Surf Press (EU) 0.0056; P. Mag -1.3799; P. Appar Size (deg) 1.1984; P. Period (days) -0.4771; P. Sem Major Axis (AU) -0.4735; P. Eccentricity -0.5713; P. Mean Distance (AU) -0.4711; P. Inclination (deg) -1.0797; P. Omega (deg) -0.4495; S. Mass (SU) 1.0693; S. Radius (SU) 1.1948; S. Teff (K) 1.0774; S. Luminosity (SU) 0.6793; S. [Fe/H] 0.3882; S. Age (Gyrs) 0.2478; S. Appar Mag 0.4272; S. Mag from Planet -1.1277; S. Size from Planet (deg) 0.2288; S. Hab Zone Min (AU) 1.2208; S. Hab Zone Max (AU) 1.2168; P. HZD -0.7321; P. HZC 0.1065; P. HZA -0.0901; P. HZI -0.8695; P. ESI -1.4447; ,P. Zone Class 2; P. Mass Class 2; P. Composition Class 3; P. Atmosphere Class 2; P. Min Mass (EU) 0.5419; P. Mass (EU) 0.0076; P. Radius (EU) 0.4583; P. Density (EU) 0.0771; P. Gravity (EU) 0.1028; P. Esc Vel (EU) 0.3135; P. SFlux Min (EU) -0.0081; P. SFlux Mean (EU) -0.0083; P. SFlux Max (EU) -0.0086; P. Teq Min (K) 1.4671; P. Teq Mean (K) 1.4581; P. Teq Max (K) 1.4407; P. Surf Press (EU) -0.0291; P. Mag -1.7435; P. Appar Size (deg) 0.4683; P. Period (days) -0.5870; P. Sem Major Axis (AU) -0.8093; P. Eccentricity -0.5713; P. Mean Distance (AU) -0.7982; P. Inclination (deg) -1.0797; P. Omega (deg) -0.4495; S. Mass (SU) 0.5396; S. Radius (SU) 0.3915; S. Teff (K) 0.7891; S. Luminosity (SU) -0.0023; S. [Fe/H] 0.2897; S. Age (Gyrs) 0.2382; S. Appar Mag 1.0974; S. Mag from Planet -1.6244; S. Size from Planet (deg) 1.2983; S. Hab Zone Min (AU) 0.4189; S. Hab Zone Max (AU) 0.4209; P. HZD -0.7736; P. HZC -0.0756; P. HZA -0.7626; P. HZI -1.0039; P. ESI -1.4447; ,P. Zone Class 2; P. Mass Class 2; P. Composition Class 3; P. Atmosphere Class 1; P. Min Mass (EU) 0.5419; P. Mass (EU) 0.5100; P. Radius (EU) 1.2608; P. Density (EU) 0.4470; P. Gravity (EU) 0.5933; P. Esc Vel (EU) 1.1712; P. SFlux Min (EU) -0.0341; P. SFlux Mean (EU) -0.0343; P. SFlux Max (EU) -0.0345; P. Teq Min (K) -0.3486; P. Teq Mean (K) -0.3647; P. Teq Max (K) -0.3877; P. Surf Press (EU) 0.0109; P. Mag -0.0528; P. Appar Size (deg) 1.2668; P. Period (days) 0.3896; P. Sem Major Axis (AU) 0.8422; P. Eccentricity -0.5713; P. Mean Distance (AU) 0.8373; P. Inclination (deg) -1.0797; P. Omega (deg) -0.4495; S. Mass (SU) 0.7577; S. Radius (SU) 0.5062; S. Teff (K) 0.6344; S. Luminosity (SU) -0.0216; S. [Fe/H] 0.2897; S. Age (Gyrs) -0.0824; S. Appar Mag 0.5097; S. Mag from Planet 0.2206; S. Size from Planet (deg) -0.5053; S. Hab Zone Min (AU) 0.4040; S. Hab Zone Max (AU) 0.4145; P. HZD -0.1685; P. HZC 0.1065; P. HZA 1.0923; P. HZI -0.5334; P. ESI -0.0789; ,P. Zone Class 2; P. Mass Class 2; P. Composition Class 3; P. Atmosphere Class 2; P. Min Mass (EU) 0.5419; P. Mass (EU) 0.3743; P. Radius (EU) 1.1090; P. Density (EU) 0.3617; P. Gravity (EU) 0.4718; P. Esc Vel (EU) 0.9663; P. SFlux Min (EU) -0.0188; P. SFlux Mean (EU) -0.0189; P. SFlux Max (EU) -0.0192; P. Teq Min (K) 1.1487; P. Teq Mean (K) 1.1385; P. Teq Max (K) 1.1201; P. Surf Press (EU) -0.0008; P. Mag -1.6553; P. Appar Size (deg) 1.0957; P. Period (days) -0.3692; P. Sem Major Axis (AU) -0.1220; P. Eccentricity -0.5713; P. Mean Distance (AU) -0.0973; P. Inclination (deg) -1.0797; P. Omega (deg) -0.4495; S. Mass (SU) 2.7207; S. Radius (SU) 3.4900; S. Teff (K) 1.9139; S. Luminosity (SU) 6.5489; S. [Fe/H] 0.2897; S. Age (Gyrs) -1.2994; S. Appar Mag 0.1179; S. Mag from Planet -1.4115; S. Size from Planet (deg) 0.2724; S. Hab Zone Min (AU) 4.2847; S. Hab Zone Max (AU) 4.2275; P. HZD -0.7914; P. HZC 0.0155; P. HZA -0.3287; P. HZI -0.9367; P. ESI -1.4888; \n",
              "y: CategoryList\n",
              "0,0,0,0,0\n",
              "Path: .;\n",
              "\n",
              "Valid: LabelList (514 items)\n",
              "x: TabularList\n",
              "P. Zone Class 2; P. Mass Class 4; P. Composition Class 3; P. Atmosphere Class 3; P. Min Mass (EU) 0.5419; P. Mass (EU) -0.4256; P. Radius (EU) -1.6673; P. Density (EU) -0.4635; P. Gravity (EU) -0.6258; P. Esc Vel (EU) -1.2995; P. SFlux Min (EU) -0.0195; P. SFlux Mean (EU) -0.0196; P. SFlux Max (EU) -0.0199; P. Teq Min (K) 1.1225; P. Teq Mean (K) 1.1122; P. Teq Max (K) 1.0937; P. Surf Press (EU) -0.0539; P. Mag -0.9634; P. Appar Size (deg) -1.6649; P. Period (days) -0.6015; P. Sem Major Axis (AU) -0.8783; P. Eccentricity -0.5713; P. Mean Distance (AU) -0.8917; P. Inclination (deg) -1.0797; P. Omega (deg) -0.4495; S. Mass (SU) -0.0212; S. Radius (SU) -0.0676; S. Teff (K) -0.2734; S. Luminosity (SU) -0.3849; S. [Fe/H] 0.2897; S. Age (Gyrs) 0.0720; S. Appar Mag 1.0321; S. Mag from Planet -1.4115; S. Size from Planet (deg) 1.9274; S. Hab Zone Min (AU) -0.3800; S. Hab Zone Max (AU) -0.3569; P. HZD -0.6906; P. HZC -0.4398; P. HZA -1.5328; P. HZI -1.0039; P. ESI -1.2685; ,P. Zone Class 2; P. Mass Class 4; P. Composition Class 3; P. Atmosphere Class 2; P. Min Mass (EU) 0.5419; P. Mass (EU) -0.2738; P. Radius (EU) -0.4310; P. Density (EU) -0.2074; P. Gravity (EU) -0.2755; P. Esc Vel (EU) -0.4546; P. SFlux Min (EU) -0.0256; P. SFlux Mean (EU) -0.0258; P. SFlux Max (EU) -0.0260; P. Teq Min (K) 0.8391; P. Teq Mean (K) 0.8277; P. Teq Max (K) 0.8084; P. Surf Press (EU) -0.0466; P. Mag -1.1329; P. Appar Size (deg) -0.4329; P. Period (days) -0.4715; P. Sem Major Axis (AU) -0.4393; P. Eccentricity -0.5713; P. Mean Distance (AU) -0.4244; P. Inclination (deg) -1.0797; P. Omega (deg) -0.4495; S. Mass (SU) 1.4432; S. Radius (SU) 1.4817; S. Teff (K) 1.2159; S. Luminosity (SU) 1.0868; S. [Fe/H] 0.2897; S. Age (Gyrs) -0.2249; S. Appar Mag -0.0453; S. Mag from Planet -1.1986; S. Size from Planet (deg) 0.2540; S. Hab Zone Min (AU) 1.5709; S. Hab Zone Max (AU) 1.5599; P. HZD -0.7440; P. HZC -0.1666; P. HZA -1.0121; P. HZI -1.0039; P. ESI -1.3125; ,P. Zone Class 2; P. Mass Class 2; P. Composition Class 3; P. Atmosphere Class 2; P. Min Mass (EU) 0.5419; P. Mass (EU) 0.7398; P. Radius (EU) 1.5211; P. Density (EU) 0.6035; P. Gravity (EU) 0.7895; P. Esc Vel (EU) 1.4784; P. SFlux Min (EU) -0.0203; P. SFlux Mean (EU) -0.0204; P. SFlux Max (EU) -0.0207; P. Teq Min (K) 1.0901; P. Teq Mean (K) 1.0797; P. Teq Max (K) 1.0611; P. Surf Press (EU) 0.0324; P. Mag -1.6764; P. Appar Size (deg) 1.5064; P. Period (days) -0.4995; P. Sem Major Axis (AU) -0.4921; P. Eccentricity -0.5713; P. Mean Distance (AU) -0.4711; P. Inclination (deg) -1.0797; P. Omega (deg) -0.4495; S. Mass (SU) 1.8794; S. Radius (SU) 1.5104; S. Teff (K) 1.5317; S. Luminosity (SU) 1.5770; S. [Fe/H] 0.8654; S. Age (Gyrs) 0.2478; S. Appar Mag 0.4272; S. Mag from Planet -1.3761; S. Size from Planet (deg) 0.3668; S. Hab Zone Min (AU) 1.8880; S. Hab Zone Max (AU) 1.8579; P. HZD -0.7796; P. HZC 0.1065; P. HZA -0.0358; P. HZI -0.9367; P. ESI -1.5328; ,P. Zone Class 2; P. Mass Class 2; P. Composition Class 3; P. Atmosphere Class 2; P. Min Mass (EU) 0.5419; P. Mass (EU) 0.2258; P. Radius (EU) 0.8704; P. Density (EU) 0.2478; P. Gravity (EU) 0.3317; P. Esc Vel (EU) 0.7231; P. SFlux Min (EU) 0.0435; P. SFlux Mean (EU) 0.0434; P. SFlux Max (EU) 0.0431; P. Teq Min (K) 2.2854; P. Teq Mean (K) 2.2797; P. Teq Max (K) 2.2648; P. Surf Press (EU) -0.0129; P. Mag -2.2377; P. Appar Size (deg) 0.8790; P. Period (days) -0.5838; P. Sem Major Axis (AU) -0.7746; P. Eccentricity -0.5713; P. Mean Distance (AU) -0.7982; P. Inclination (deg) -1.0797; P. Omega (deg) -0.4495; S. Mass (SU) 1.5678; S. Radius (SU) 1.6825; S. Teff (K) 1.3981; S. Luminosity (SU) 1.5691; S. [Fe/H] 0.2897; S. Age (Gyrs) -0.4861; S. Appar Mag 0.5097; S. Mag from Planet -2.0502; S. Size from Planet (deg) 1.9614; S. Hab Zone Min (AU) 1.9120; S. Hab Zone Max (AU) 1.8914; P. HZD -0.8270; P. HZC 0.0155; P. HZA -0.7626; P. HZI -1.0039; P. ESI -1.4888; ,P. Zone Class 2; P. Mass Class 2; P. Composition Class 3; P. Atmosphere Class 2; P. Min Mass (EU) 0.5419; P. Mass (EU) 0.4690; P. Radius (EU) 1.2175; P. Density (EU) 0.4186; P. Gravity (EU) 0.5606; P. Esc Vel (EU) 1.1071; P. SFlux Min (EU) -0.0197; P. SFlux Mean (EU) -0.0198; P. SFlux Max (EU) -0.0201; P. Teq Min (K) 1.1139; P. Teq Mean (K) 1.1036; P. Teq Max (K) 1.0851; P. Surf Press (EU) 0.0073; P. Mag -1.6482; P. Appar Size (deg) 1.2212; P. Period (days) -0.5030; P. Sem Major Axis (AU) -0.5120; P. Eccentricity -0.5713; P. Mean Distance (AU) -0.5178; P. Inclination (deg) -1.0797; P. Omega (deg) -0.4495; S. Mass (SU) 1.6301; S. Radius (SU) 1.6825; S. Teff (K) 1.3519; S. Luminosity (SU) 1.4943; S. [Fe/H] 0.2897; S. Age (Gyrs) -0.4445; S. Appar Mag 0.7382; S. Mag from Planet -1.4115; S. Size from Planet (deg) 0.4709; S. Hab Zone Min (AU) 1.8671; S. Hab Zone Max (AU) 1.8502; P. HZD -0.7736; P. HZC 0.1065; P. HZA -0.2419; P. HZI -0.9367; P. ESI -1.4888; \n",
              "y: CategoryList\n",
              "0,0,0,0,0\n",
              "Path: .;\n",
              "\n",
              "Test: None"
            ]
          },
          "metadata": {
            "tags": []
          },
          "execution_count": 184
        }
      ]
    },
    {
      "metadata": {
        "id": "QdgCCSxG9tlL",
        "colab_type": "code",
        "colab": {}
      },
      "cell_type": "code",
      "source": [
        "learn = tabular_learner(data, layers=[10,5], ps=[0.001,0.01], emb_drop=0.04, metrics=fastai.basics.accuracy)"
      ],
      "execution_count": 0,
      "outputs": []
    },
    {
      "metadata": {
        "id": "nXTUqXU19xMS",
        "colab_type": "code",
        "outputId": "f9f482bd-4bed-4284-b51c-c50831c89e8c",
        "colab": {
          "base_uri": "https://localhost:8080/",
          "height": 392
        }
      },
      "cell_type": "code",
      "source": [
        "learn.model"
      ],
      "execution_count": 186,
      "outputs": [
        {
          "output_type": "execute_result",
          "data": {
            "text/plain": [
              "TabularModel(\n",
              "  (embeds): ModuleList(\n",
              "    (0): Embedding(5, 4)\n",
              "    (1): Embedding(7, 5)\n",
              "    (2): Embedding(3, 3)\n",
              "    (3): Embedding(5, 4)\n",
              "  )\n",
              "  (emb_drop): Dropout(p=0.04)\n",
              "  (bn_cont): BatchNorm1d(37, eps=1e-05, momentum=0.1, affine=True, track_running_stats=True)\n",
              "  (layers): Sequential(\n",
              "    (0): Linear(in_features=53, out_features=10, bias=True)\n",
              "    (1): ReLU(inplace)\n",
              "    (2): BatchNorm1d(10, eps=1e-05, momentum=0.1, affine=True, track_running_stats=True)\n",
              "    (3): Dropout(p=0.001)\n",
              "    (4): Linear(in_features=10, out_features=5, bias=True)\n",
              "    (5): ReLU(inplace)\n",
              "    (6): BatchNorm1d(5, eps=1e-05, momentum=0.1, affine=True, track_running_stats=True)\n",
              "    (7): Dropout(p=0.01)\n",
              "    (8): Linear(in_features=5, out_features=3, bias=True)\n",
              "  )\n",
              ")"
            ]
          },
          "metadata": {
            "tags": []
          },
          "execution_count": 186
        }
      ]
    },
    {
      "metadata": {
        "id": "atPBNylg9yXT",
        "colab_type": "code",
        "outputId": "299ed59f-000d-4612-c1f1-20709e001c7d",
        "colab": {
          "base_uri": "https://localhost:8080/",
          "height": 35
        }
      },
      "cell_type": "code",
      "source": [
        "learn.lr_find()"
      ],
      "execution_count": 187,
      "outputs": [
        {
          "output_type": "display_data",
          "data": {
            "text/html": [
              ""
            ],
            "text/plain": [
              "<IPython.core.display.HTML object>"
            ]
          },
          "metadata": {
            "tags": []
          }
        },
        {
          "output_type": "stream",
          "text": [
            "LR Finder is complete, type {learner_name}.recorder.plot() to see the graph.\n"
          ],
          "name": "stdout"
        }
      ]
    },
    {
      "metadata": {
        "id": "--2TLd9S9zvn",
        "colab_type": "code",
        "outputId": "68db7aea-5a8e-4160-90c8-bb10611a7332",
        "colab": {
          "base_uri": "https://localhost:8080/",
          "height": 361
        }
      },
      "cell_type": "code",
      "source": [
        "learn.recorder.plot()"
      ],
      "execution_count": 188,
      "outputs": [
        {
          "output_type": "display_data",
          "data": {
            "image/png": "[encoded data removed]",
            "text/plain": [
              "<Figure size 576x396 with 1 Axes>"
            ]
          },
          "metadata": {
            "tags": []
          }
        }
      ]
    },
    {
      "metadata": {
        "id": "nK8pHyjH91fp",
        "colab_type": "code",
        "outputId": "1f9be6b7-a7e8-469c-dfd7-37dd1fd8ca99",
        "colab": {
          "base_uri": "https://localhost:8080/",
          "height": 386
        }
      },
      "cell_type": "code",
      "source": [
        "learn.fit_one_cycle(10, slice(1e-2))"
      ],
      "execution_count": 190,
      "outputs": [
        {
          "output_type": "display_data",
          "data": {
            "text/html": [
              "Total time: 00:08 <p><table border=\"1\" class=\"dataframe\">\n",
              "  <thead>\n",
              "    <tr style=\"text-align: left;\">\n",
              "      <th>epoch</th>\n",
              "      <th>train_loss</th>\n",
              "      <th>valid_loss</th>\n",
              "      <th>accuracy</th>\n",
              "      <th>time</th>\n",
              "    </tr>\n",
              "  </thead>\n",
              "  <tbody>\n",
              "    <tr>\n",
              "      <td>1</td>\n",
              "      <td>1.075968</td>\n",
              "      <td>1.165339</td>\n",
              "      <td>0.206226</td>\n",
              "      <td>00:00</td>\n",
              "    </tr>\n",
              "    <tr>\n",
              "      <td>2</td>\n",
              "      <td>0.739232</td>\n",
              "      <td>0.355051</td>\n",
              "      <td>0.984436</td>\n",
              "      <td>00:00</td>\n",
              "    </tr>\n",
              "    <tr>\n",
              "      <td>3</td>\n",
              "      <td>0.313876</td>\n",
              "      <td>0.012350</td>\n",
              "      <td>1.000000</td>\n",
              "      <td>00:00</td>\n",
              "    </tr>\n",
              "    <tr>\n",
              "      <td>4</td>\n",
              "      <td>0.128372</td>\n",
              "      <td>0.033806</td>\n",
              "      <td>0.996109</td>\n",
              "      <td>00:00</td>\n",
              "    </tr>\n",
              "    <tr>\n",
              "      <td>5</td>\n",
              "      <td>0.054010</td>\n",
              "      <td>0.013842</td>\n",
              "      <td>1.000000</td>\n",
              "      <td>00:00</td>\n",
              "    </tr>\n",
              "    <tr>\n",
              "      <td>6</td>\n",
              "      <td>0.027293</td>\n",
              "      <td>0.001951</td>\n",
              "      <td>1.000000</td>\n",
              "      <td>00:00</td>\n",
              "    </tr>\n",
              "    <tr>\n",
              "      <td>7</td>\n",
              "      <td>0.014194</td>\n",
              "      <td>0.001255</td>\n",
              "      <td>1.000000</td>\n",
              "      <td>00:00</td>\n",
              "    </tr>\n",
              "    <tr>\n",
              "      <td>8</td>\n",
              "      <td>0.009481</td>\n",
              "      <td>0.001139</td>\n",
              "      <td>1.000000</td>\n",
              "      <td>00:00</td>\n",
              "    </tr>\n",
              "    <tr>\n",
              "      <td>9</td>\n",
              "      <td>0.006119</td>\n",
              "      <td>0.001114</td>\n",
              "      <td>1.000000</td>\n",
              "      <td>00:00</td>\n",
              "    </tr>\n",
              "    <tr>\n",
              "      <td>10</td>\n",
              "      <td>0.004129</td>\n",
              "      <td>0.001363</td>\n",
              "      <td>1.000000</td>\n",
              "      <td>00:00</td>\n",
              "    </tr>\n",
              "  </tbody>\n",
              "</table>"
            ],
            "text/plain": [
              "<IPython.core.display.HTML object>"
            ]
          },
          "metadata": {
            "tags": []
          }
        }
      ]
    },
    {
      "metadata": {
        "id": "zpIbJoFW90CZ",
        "colab_type": "code",
        "colab": {}
      },
      "cell_type": "code",
      "source": [
        "interp = learn.interpret()"
      ],
      "execution_count": 0,
      "outputs": []
    },
    {
      "metadata": {
        "id": "J4JMkItDMx6C",
        "colab_type": "code",
        "outputId": "939abfa8-a359-4ac8-affb-c88fd5cbfdb9",
        "colab": {
          "base_uri": "https://localhost:8080/",
          "height": 415
        }
      },
      "cell_type": "code",
      "source": [
        "interp.plot_confusion_matrix()"
      ],
      "execution_count": 192,
      "outputs": [
        {
          "output_type": "display_data",
          "data": {
            "image/png": "[encoded data removed]",
            "text/plain": [
              "<Figure size 576x396 with 1 Axes>"
            ]
          },
          "metadata": {
            "tags": []
          }
        }
      ]
    },
    {
      "metadata": {
        "id": "tVJglbvKMzxp",
        "colab_type": "code",
        "outputId": "11018d78-db7a-44c6-b736-b4d4b96f8f35",
        "colab": {
          "base_uri": "https://localhost:8080/",
          "height": 267
        }
      },
      "cell_type": "code",
      "source": [
        "get_metrics(interp.confusion_matrix())"
      ],
      "execution_count": 193,
      "outputs": [
        {
          "output_type": "stream",
          "text": [
            "Accuracy score: 1.0\n",
            "Class-wise accuracy:\n",
            "[1. 1. 1.]\n",
            "Classification report:\n",
            "              precision    recall  f1-score   support\n",
            "\n",
            "           0       1.00      1.00      1.00       342\n",
            "           1       1.00      1.00      1.00       168\n",
            "           2       1.00      1.00      1.00         4\n",
            "\n",
            "   micro avg       1.00      1.00      1.00       514\n",
            "   macro avg       1.00      1.00      1.00       514\n",
            "weighted avg       1.00      1.00      1.00       514\n",
            "\n"
          ],
          "name": "stdout"
        }
      ]
    },
    {
      "metadata": {
        "id": "eqOqXbJS7Lvs",
        "colab_type": "code",
        "colab": {}
      },
      "cell_type": "code",
      "source": [
        ""
      ],
      "execution_count": 0,
      "outputs": []
    }
  ]
}